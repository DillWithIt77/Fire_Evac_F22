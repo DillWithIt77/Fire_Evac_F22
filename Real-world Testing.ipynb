{
 "cells": [
  {
   "cell_type": "markdown",
   "id": "416a74ce-26fe-4813-a016-a4d76d8ae305",
   "metadata": {},
   "source": [
    "# Import Statements"
   ]
  },
  {
   "cell_type": "code",
   "execution_count": 1,
   "id": "760dd62f-2ca8-4874-aa00-34870620a51e",
   "metadata": {},
   "outputs": [],
   "source": [
    "import numpy as np\n",
    "import networkx as nx\n",
    "import math\n",
    "import time\n",
    "from scipy.interpolate import UnivariateSpline\n",
    "import osmnx as ox\n",
    "import matplotlib.pyplot as plt\n",
    "from pyproj import CRS, Transformer\n",
    "from shapely.geometry import Point\n",
    "from shapely.geometry import Polygon\n",
    "from shapely.ops import transform"
   ]
  },
  {
   "cell_type": "markdown",
   "id": "f39d6fdc-a0c6-4932-84dd-a18ad9752982",
   "metadata": {},
   "source": [
    "# Functions to Build Real-world Graph"
   ]
  },
  {
   "cell_type": "code",
   "execution_count": 2,
   "id": "ab6df892-5b3d-4f29-a1f4-8e63287ca73e",
   "metadata": {},
   "outputs": [],
   "source": [
    "MOORE_AFTER_BREAK_SPLINE = UnivariateSpline(\n",
    "    [20, 30, 40, 50, 60, 70, 80, 90, 100],\n",
    "    [3.9, 6, 11, 18, 27, 39, 54, 58, 84],\n",
    ")\n",
    "MOORE_BEFORE_BREAK_SPLINE = UnivariateSpline(\n",
    "    [20, 30, 40, 50, 60, 70, 80, 90, 100],\n",
    "    [6, 8, 11, 14, 17, 19, 22, 25, 28],\n",
    ")\n",
    "\n",
    "MOORE_SAFE_BREAKING_DISTANCE = lambda x: MOORE_AFTER_BREAK_SPLINE(\n",
    "    x\n",
    ") + MOORE_BEFORE_BREAK_SPLINE(x)\n",
    "\n",
    "def moore(lanes: float, max_speed: float):\n",
    "    return 1000 * max_speed / MOORE_SAFE_BREAKING_DISTANCE(max_speed) * lanes\n",
    "\n",
    "def add_capacities(G, method=moore):\n",
    "\n",
    "    G = G.copy()\n",
    "    cap = []\n",
    "    \n",
    "    for u, v, i in G.edges:\n",
    "        edge_data = G.get_edge_data(u, v, i)\n",
    "        raw_lanes = edge_data.get(\"lanes\")\n",
    "        \n",
    "        if raw_lanes is None:\n",
    "            lanes = 1\n",
    "            \n",
    "        elif isinstance(raw_lanes, str):\n",
    "            lanes = int(raw_lanes) / 2  \n",
    "            \n",
    "        elif isinstance(raw_lanes, list):\n",
    "            lanes = sum(int(x) for x in raw_lanes) / 2\n",
    "            \n",
    "        G[u][v][i][\"upper\"] = int(method(lanes, edge_data[\"speed_kph\"]))\n",
    "    return G"
   ]
  },
  {
   "cell_type": "code",
   "execution_count": 3,
   "id": "9be92327-65a9-4adb-914e-896f664eacf1",
   "metadata": {},
   "outputs": [],
   "source": [
    "###don't need for max flow/quickest flow\n",
    "def add_costs(G, costs:[int, np.ndarray] = 0):\n",
    "    if type(costs) == int:\n",
    "        for u,v,i in G.edges:\n",
    "            G[u][v][i]['cost'] = costs\n",
    "    else:\n",
    "        count = 0\n",
    "        for u,v,i in G.edges:\n",
    "            G[u][v][i]['cost'] = costs[count]\n",
    "    return G"
   ]
  },
  {
   "cell_type": "code",
   "execution_count": 4,
   "id": "fc1e1f24-ad12-4df8-b8a7-15c85920a92e",
   "metadata": {},
   "outputs": [],
   "source": [
    "def add_orig_dest(G, sup_dem:[int, np.ndarray]):\n",
    "    if type(sup_dem) == int:\n",
    "        for i in G.nodes:\n",
    "            G._node[i]['sup_dem'] = sup_dem\n",
    "    else:\n",
    "        for i in G.nodes:\n",
    "            G._node[i]['sup_dem'] = sup_dem[i]\n",
    "    return G"
   ]
  },
  {
   "cell_type": "markdown",
   "id": "43c203cf-c6cd-483f-a771-62825dc3adf6",
   "metadata": {},
   "source": [
    "# Functions to set up for Max Flow Alogirthm"
   ]
  },
  {
   "cell_type": "code",
   "execution_count": 5,
   "id": "2b928b7f-25cd-4639-a819-0a23c29fcaae",
   "metadata": {},
   "outputs": [],
   "source": [
    "def add_s_t(G, ten, time_horizon,removed_nodes_mat):\n",
    "    orig_nodes = list(G.nodes)\n",
    "    ten_nodes = list(ten.nodes)\n",
    "\n",
    "    sup_nodes = [x for x,y in G.nodes(data=True) if y['sup_dem'] > 0]\n",
    "    dem_nodes = [x for x,y in G.nodes(data=True) if y['sup_dem'] < 0]\n",
    "    \n",
    "    s = 0\n",
    "    t = max(ten_nodes)+1\n",
    "    \n",
    "    ten.add_node(s,name = f'{s}-{0}',level = 0)\n",
    "    ten.add_node(t,name = f'{len(orig_nodes)}-{time_horizon-1}',level = time_horizon-1)\n",
    "    \n",
    "    for i in range(len(orig_nodes)):\n",
    "        if i in sup_nodes:\n",
    "            ten.add_edge(s, i+1, cost = 0, upper = G._node[i]['sup_dem'], lower = 0)\n",
    "        elif i in dem_nodes:\n",
    "            ###need to add in check for last time interval node is still available\n",
    "            for k in range(time_horizon-1):\n",
    "                added = False\n",
    "                if i in removed_nodes_mat[k+1]:\n",
    "                    print((i+1) + ((k) * len(orig_nodes)))\n",
    "                    ten.add_edge((i+1) + ((k) * len(orig_nodes)),t, cost = 0, upper = -G._node[i]['sup_dem'], lower = 0)\n",
    "                    added = True\n",
    "                    break;\n",
    "            if added is False:\n",
    "                ten.add_edge((i+1) + ((time_horizon-1) * len(orig_nodes)),t, cost = 0, upper = -G._node[i]['sup_dem'], lower = 0)\n",
    "    return ten"
   ]
  },
  {
   "cell_type": "code",
   "execution_count": 6,
   "id": "9f41bda9-e133-4645-8c56-2924fdc9ae02",
   "metadata": {},
   "outputs": [],
   "source": [
    "###note that this function does not account for the cost of each edge, just the capacity\n",
    "def simplify_multigraph(graph):\n",
    "    num_nodes = len(graph.nodes)\n",
    "    edges = graph.edges\n",
    "    \n",
    "    simp_graph = nx.DiGraph()\n",
    "    simp_graph.add_nodes_from(graph.nodes(data=True))\n",
    "    \n",
    "    for i in range(num_nodes+1):\n",
    "        for j in range(num_nodes+1):\n",
    "            if (i,j) in edges:\n",
    "                num_edges = graph.number_of_edges(i,j)\n",
    "                tot_cap = graph[i][j][num_edges-1]['upper']\n",
    "                if num_edges > 1:\n",
    "                    for k in range(1,num_edges):\n",
    "                        tot_cap = tot_cap + graph[i][j][k]['upper']\n",
    "                simp_graph.add_edge(i,j, upper = tot_cap, lower = 0)\n",
    "            \n",
    "    return simp_graph"
   ]
  },
  {
   "cell_type": "code",
   "execution_count": 7,
   "id": "9142df24-009f-47e4-a76d-03e758a23cb7",
   "metadata": {},
   "outputs": [],
   "source": [
    "def color_max_flow(graph, flow_dict):\n",
    "    num_nodes = len(graph.nodes)\n",
    "    edges = graph.edges\n",
    "    \n",
    "    for i in range(num_nodes):\n",
    "        for j in range(num_nodes):\n",
    "            if (i,j) in edges:\n",
    "                graph[i][j]['color'] = (0,0,0)\n",
    "                if flow_dict[i][j] != 0:\n",
    "                    graph[i][j]['color'] = (1,0,0)\n",
    "                    \n",
    "    return graph"
   ]
  },
  {
   "cell_type": "markdown",
   "id": "160e9f15-0985-42e9-b1c2-5161211e551c",
   "metadata": {},
   "source": [
    "# Functions to Include Fire Data with Graph"
   ]
  },
  {
   "cell_type": "code",
   "execution_count": 8,
   "id": "e347e816-e3cd-47eb-9fc5-c6f52c7cb327",
   "metadata": {},
   "outputs": [],
   "source": [
    "def geodesic_point_buffer(graph,lat, lon, radius):\n",
    "    \"\"\"\n",
    "    Creates circles from given latitude, longitude, and radius\n",
    "    :param lat: latitude from original data\n",
    "    :param lon: longitude from original data\n",
    "    :param radius: radius from original data\n",
    "    \"\"\"\n",
    "    # Azimuthal equidistant projection\n",
    "    aeqd_proj = CRS.from_proj4(f\"+proj=aeqd +lat_0={lat} +lon_0={lon} +x_0=0 +y_0=0\")\n",
    "    tfmr = Transformer.from_proj(aeqd_proj, aeqd_proj.geodetic_crs)\n",
    "    buf = Point(0, 0).buffer(radius * 1609.34)  # distance in miles (converts from meters to miles)\n",
    "    circle = Polygon(transform(tfmr.transform, buf).exterior.coords[:])\n",
    "    net_trans = Transformer.from_crs(aeqd_proj.geodetic_crs, graph.graph['crs'])\n",
    "    proj_circ = Polygon(transform(net_trans.transform,circle).exterior.coords[:])\n",
    "    \n",
    "    return proj_circ"
   ]
  },
  {
   "cell_type": "code",
   "execution_count": 9,
   "id": "2778c59b-ab65-4715-9d95-1af19e6b7979",
   "metadata": {},
   "outputs": [],
   "source": [
    "def det_rem_parts(G, fire_polygon, smoke_polygon):\n",
    "    ###find nodes inside poly to remove\n",
    "    start_gs = time.process_time()\n",
    "    gs_nodes = ox.utils_graph.graph_to_gdfs(G,nodes = True,edges = False, node_geometry = True)[['geometry']]\n",
    "    gs_edges = ox.utils_graph.graph_to_gdfs(G,nodes = False, edges = True)[['geometry']]\n",
    "    end_gs = time.process_time()\n",
    "    # print (\"Time elapsed for gs: \", end_gs - start_gs)\n",
    "\n",
    "    nodes_to_remove = []\n",
    "    edges_to_remove = []\n",
    "    start_to_remove = time.process_time()\n",
    "    for point in gs_nodes['geometry']:\n",
    "        ###currently this takes a long time to run, but a smaller polygon might make this run faster\n",
    "        if point.intersects(smoke_polygon):\n",
    "            node = ox.distance.nearest_nodes(G,point.x,point.y,return_dist=False)\n",
    "            nodes_to_remove.append(node)\n",
    "    for i in range(len(gs_edges)):\n",
    "        entry =  gs_edges.iloc[i]\n",
    "        if entry['geometry'].intersects(fire_polygon):\n",
    "            entry = gs_edges.iloc[[i]]\n",
    "            edges_to_remove.append(entry['geometry'].index[0])\n",
    "    end_to_remove = time.process_time()\n",
    "    # print (\"Time elapsed for create remove list: \", end_to_remove - start_to_remove)\n",
    "\n",
    "    return (nodes_to_remove, edges_to_remove)"
   ]
  },
  {
   "cell_type": "code",
   "execution_count": 10,
   "id": "23288c97-d465-4f42-9674-08b27e6148b4",
   "metadata": {},
   "outputs": [],
   "source": [
    "def create_fire_mat(G, fire_origin, init_radius, time_horizon):\n",
    "    removed_node_mat = []\n",
    "    removed_edge_mat = []\n",
    "    for i in range(time_horizon):\n",
    "        ###create fire_poly and smoke_poly in coordinate system of network\n",
    "        # radius = init_radius+(0.025*i) #increase the radius by 0.025 of a meter with each time step\n",
    "        radius = init_radius #increase the radius by a quarter meter with each time step\n",
    "        fire_polygon = geodesic_point_buffer(G,fire_origin[0],fire_origin[1],radius)\n",
    "        smoke_polygon = geodesic_point_buffer(G,fire_origin[0],fire_origin[1],radius*1.01)\n",
    "                                              \n",
    "        removed_nodes,removed_edges = det_rem_parts(G, fire_polygon, smoke_polygon)\n",
    "\n",
    "        removed_node_mat.append(removed_nodes)\n",
    "        removed_edge_mat.append(removed_edges)\n",
    "    return (removed_node_mat, removed_edge_mat)"
   ]
  },
  {
   "cell_type": "markdown",
   "id": "bcf3461f-a36e-4f2d-9681-780dce15278a",
   "metadata": {},
   "source": [
    "# Create TEN (accounts for removed nodes and arcs)"
   ]
  },
  {
   "cell_type": "code",
   "execution_count": 11,
   "id": "9c0a53c8-e9a5-4090-b716-9bf4ae5fed7a",
   "metadata": {},
   "outputs": [],
   "source": [
    "def time_expand_with_removal(G, time_int_size, time_horizon,fire_origin, init_radius):\n",
    "    start = time.time()\n",
    "    orig_nodes = list(G.nodes)\n",
    "    orig_edges = list(G.edges)\n",
    "    ten = nx.MultiDiGraph()\n",
    "\n",
    "    removed_nodes_mat,removed_edges_mat = create_fire_mat(G, fire_origin, init_radius, time_horizon)\n",
    "\n",
    "    ###add in all nodes for time-expanded network\n",
    "    node_num = 1\n",
    "    for j in range(time_horizon):\n",
    "        for i in range(len(orig_nodes)):\n",
    "            #check not one of nodes that have been removed during that time interval\n",
    "            if i not in removed_nodes_mat[j]:\n",
    "                if j == 0:\n",
    "                    node_name = f'{i+1}-{j}'\n",
    "                    ten.add_node(node_num, name = node_name, level = j, sup_dem = G._node[i]['sup_dem'])\n",
    "                    # node_num += 1\n",
    "                else:\n",
    "                    node_name = f'{i+1}-{j}'\n",
    "                    ten.add_node(node_num, name = node_name, level = j, sup_dem = 0)\n",
    "            node_num += 1\n",
    "                \n",
    "            \n",
    "    ###add in hold over arcs for supply/demand nodes\n",
    "    for i in range(len(orig_nodes)):\n",
    "        if G._node[i]['sup_dem'] >  0:\n",
    "            for j in range(time_horizon-1):\n",
    "                if i not in removed_nodes_mat[j+1]:\n",
    "                    ten.add_edge((i+1)+(len(orig_nodes)*j),(i+1)+(len(orig_nodes)*(j+1)),cost = 0, upper =  G._node[i]['sup_dem'] , lower = 0)\n",
    "        elif G._node[i]['sup_dem'] <  0:\n",
    "            for j in range(time_horizon-1):\n",
    "                if i not in removed_nodes_mat[j+1]:\n",
    "                    ten.add_edge((i+1)+(len(orig_nodes)*j),(i+1)+(len(orig_nodes)*(j+1)),cost = 0, upper =  -G._node[i]['sup_dem'] , lower = 0 )\n",
    "    \n",
    "    ###in the case of a multidigraph\n",
    "    if G.is_multigraph():\n",
    "        node_num = 0\n",
    "        for j in range(time_horizon-1):\n",
    "            for i in range(len(orig_nodes)):\n",
    "                ###keep track of node number for the overall network (need to account for nodes in the expansions)\n",
    "                node_num +=1\n",
    "                if i not in removed_nodes_mat[j]:\n",
    "                    for k in range(len(orig_nodes)):\n",
    "                        for m in range(G.number_of_edges(i,k)+1):\n",
    "                            ###check if edge exists in graph\n",
    "                            if (i,k,m) in orig_edges and (i,k,m) not in removed_edges_mat[j]:\n",
    "                                ###deteremine how many time intervals it will cross\n",
    "                                time_int_end = math.ceil(G[i][k][m]['travel_time']/time_int_size)\n",
    "                                ###check if the number it crosses exist in the network\n",
    "                                if time_int_end+j< time_horizon:\n",
    "                                    ###check that end node exists during that time interval\n",
    "                                    if k not in removed_nodes_mat[time_int_end+j]:\n",
    "                                        ####add edge to time-expanded network\n",
    "                                        ten.add_edge(node_num,(node_num)+(k-i)+(len(orig_nodes)*time_int_end),cost = G[i][k][m]['cost'] ,upper = G[i][k][m]['upper'], lower = 0)\n",
    "                            \n",
    "    ##in the case of a digraph that is not a multdigraph\n",
    "    elif G.is_directed():\n",
    "        node_num = 0\n",
    "        for j in range(time_horizon-1):\n",
    "            for i in range(len(orig_nodes)):\n",
    "                ###keep track of node number for the overall network (need to account for nodes in the expansions)\n",
    "                node_num +=1\n",
    "                if i not in removed_nodes_mat[j]:\n",
    "                    for k in range(len(orig_nodes)):\n",
    "                        ###check if edge exists in graph\n",
    "                        if (i,k) in orig_edges and (i,k) not in removed_edges_mat[j]:\n",
    "                            ###deteremine how many time intervals it will cross\n",
    "                            time_int_end = math.ceil(G[i][k]['travel_time']/time_int_size)\n",
    "                            ###check if the number it crosses exist in the network\n",
    "                            if time_int_end+j< time_horizon:\n",
    "                                ###check that end node exists during that time interval\n",
    "                                if k not in removed_nodes_mat[time_int_end+j]:\n",
    "                                    ####add edge to time-expanded network\n",
    "                                     ten.add_edge(node_num,(node_num)+(k-i)+(len(orig_nodes)*time_int_end),cost = G[i][k]['cost'] ,upper = G[i][k]['upper'], lower = 0)\n",
    "    else:\n",
    "        raise Exception(\"Must Input a DiGraph or MultiDiGraph\")\n",
    "\n",
    "\n",
    "    ###Remove isolated nodes in TEN\n",
    "    ten.remove_nodes_from(list(nx.isolates(ten)))\n",
    "    \n",
    "    end = time.time()\n",
    "    ###used for checking how long larger networks/expansions take to construct\n",
    "    if end-start > 1:\n",
    "        print('Number of Time Intervals:', time_horizon)\n",
    "        print('Build Time: ',end-start, ' seconds')\n",
    "\n",
    "    return (ten, removed_nodes_mat, removed_edges_mat)"
   ]
  },
  {
   "cell_type": "markdown",
   "id": "e65c9649-e0df-496b-9243-a939ea4dad5e",
   "metadata": {},
   "source": [
    "# Determine number of Time Intervals to Evacuate People"
   ]
  },
  {
   "cell_type": "code",
   "execution_count": 12,
   "id": "bbdf79bf-d6ff-4124-a7b4-3c0c5d794eda",
   "metadata": {},
   "outputs": [],
   "source": [
    "def det_num_int(G, pop, fire_orgin, init_radius):\n",
    "    flow_value = 0\n",
    "\n",
    "    time_int_len = 1\n",
    "    num_time_ints = 2 ###time zero is when num_time_ints = 1\n",
    "\n",
    "    while flow_value < pop:\n",
    "        ten = nx.MultiDiGraph()\n",
    "        simp_tem = nx.DiGraph()\n",
    "        max_flow_ten = nx.DiGraph()\n",
    "        num_time_ints +=1\n",
    "        \n",
    "        ten, removed_nodes_mat, removed_edges_mat = time_expand_with_removal(G, time_int_len, num_time_ints, fire_origin, init_radius)\n",
    "        simp_ten = simplify_multigraph(ten)\n",
    "        max_flow_ten = add_s_t(G, simp_ten, num_time_ints, removed_nodes_mat)\n",
    "        flow_value, flow_dict = nx.maximum_flow(max_flow_ten, 0, max(list(max_flow_ten.nodes)),capacity = 'upper')\n",
    "        \n",
    "    \n",
    "    colored_max_flow_ten = color_max_flow(max_flow_ten,flow_dict)\n",
    "    num_nodes = len(list(colored_max_flow_ten))\n",
    "    pos = nx.multipartite_layout(ten, subset_key=\"level\")\n",
    "    pos[0]= np.array([pos[1][0],pos[1][1]+(pos[1][1]-pos[2][1])])\n",
    "    pos[num_nodes-1] = np.array([pos[num_nodes-2][0],pos[num_nodes-2][1]-(pos[num_nodes-3][1]-pos[num_nodes-2][1])])\n",
    "    colors = [colored_max_flow_ten[u][v]['color'] for u,v in colored_max_flow_ten.edges]\n",
    "    nx.draw(colored_max_flow_ten, pos, edge_color=colors,with_labels = True)\n",
    "    \n",
    "    return (num_time_ints, flow_value, colored_max_flow_ten) "
   ]
  },
  {
   "cell_type": "markdown",
   "id": "f7a55e32-d4af-4b04-843f-718c8e8ab3e8",
   "metadata": {},
   "source": [
    "# Build Real-world Graph"
   ]
  },
  {
   "cell_type": "code",
   "execution_count": 13,
   "id": "4a70d7a0-d27b-42c9-818e-1614c448a139",
   "metadata": {},
   "outputs": [
    {
     "name": "stdout",
     "output_type": "stream",
     "text": [
      "Importing Network Complete\n",
      "Simplication Complete\n",
      "Speed Added\n",
      "Travel Time Added\n",
      "Capacities Added\n",
      "Costs Added\n",
      "Supply and Demand Values Added\n",
      "Time to Build Original Network:  0.5074558258056641  seconds\n"
     ]
    }
   ],
   "source": [
    "start = time.time()\n",
    "#import data from osmnx, can input any city, state, etc.\n",
    "G = ox.project_graph(ox.graph_from_place('Lyons Colorado', network_type='drive'))\n",
    "print('Importing Network Complete')\n",
    "\n",
    "#get rid of intersections that are not actually intersections\n",
    "G = ox.simplification.consolidate_intersections(G, tolerance=10, rebuild_graph=True, dead_ends=True, reconnect_edges = True)\n",
    "print('Simplication Complete')\n",
    "\n",
    "#add edge speeds\n",
    "G = ox.speed.add_edge_speeds(G)\n",
    "print('Speed Added')\n",
    "\n",
    "#add travel times\n",
    "G = ox.speed.add_edge_travel_times(G)\n",
    "print('Travel Time Added')\n",
    "\n",
    "#add capacities (computed using moore method)\n",
    "G = add_capacities(G)\n",
    "print('Capacities Added')\n",
    "\n",
    "###only need if doing something with min-cost\n",
    "costs = 0\n",
    "G = add_costs(G,costs)\n",
    "print('Costs Added')\n",
    "\n",
    "#sup_dem:int = 0\n",
    "sup_dem = np.zeros(len(G.nodes))\n",
    "sup_dem[0] = 20\n",
    "sup_dem[len(G.nodes)-1] = -20\n",
    "G = add_orig_dest(G,sup_dem)\n",
    "print('Supply and Demand Values Added')\n",
    "\n",
    "end = time.time()\n",
    "\n",
    "print('Time to Build Original Network: ',end-start, ' seconds')"
   ]
  },
  {
   "cell_type": "code",
   "execution_count": 15,
   "id": "4aa91f5b-d47c-4eb8-90b1-679309137d30",
   "metadata": {},
   "outputs": [
    {
     "data": {
      "image/png": "[encoded data removed]",
      "text/plain": [
       "<Figure size 800x800 with 1 Axes>"
      ]
     },
     "metadata": {},
     "output_type": "display_data"
    }
   ],
   "source": [
    "color_map = ['green' if data['sup_dem'] !=0  else 'white' for node, data in G.nodes(data=True)]        \n",
    "# graph = nx.draw_networkx(G,pos, node_color=color_map) # node lables\n",
    "\n",
    "fig,ax = ox.plot_graph(G,show = False, close = False, node_size = 20, node_color=color_map)\n",
    "plt.show()"
   ]
  },
  {
   "cell_type": "markdown",
   "id": "cdbfaccc-524a-42b0-934e-1a476d8e7f6d",
   "metadata": {},
   "source": [
    "# Code for Build Testing"
   ]
  },
  {
   "cell_type": "code",
   "execution_count": null,
   "id": "b296e274-8120-498f-9e46-a14c035b83c5",
   "metadata": {},
   "outputs": [],
   "source": [
    "fire_origin = [40.229520, -105.263912]\n",
    "lyons = G.copy()\n",
    "fire_radius =  0\n",
    "\n",
    "num_time_ints, max_flow, G_test = det_num_int(lyons,1, fire_origin, fire_radius)\n",
    "print('Number of Time Intervals:',num_time_ints)\n",
    "print('Flow Value:', max_flow)"
   ]
  }
 ],
 "metadata": {
  "kernelspec": {
   "display_name": "Python 3 (ipykernel)",
   "language": "python",
   "name": "python3"
  },
  "language_info": {
   "codemirror_mode": {
    "name": "ipython",
    "version": 3
   },
   "file_extension": ".py",
   "mimetype": "text/x-python",
   "name": "python",
   "nbconvert_exporter": "python",
   "pygments_lexer": "ipython3",
   "version": "3.11.5"
  }
 },
 "nbformat": 4,
 "nbformat_minor": 5
}
