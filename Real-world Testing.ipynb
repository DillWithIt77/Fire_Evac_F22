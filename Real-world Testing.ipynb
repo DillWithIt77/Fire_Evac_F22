{
 "cells": [
  {
   "cell_type": "markdown",
   "id": "416a74ce-26fe-4813-a016-a4d76d8ae305",
   "metadata": {},
   "source": [
    "# Import Statements"
   ]
  },
  {
   "cell_type": "code",
   "execution_count": 1,
   "id": "760dd62f-2ca8-4874-aa00-34870620a51e",
   "metadata": {},
   "outputs": [],
   "source": [
    "import numpy as np\n",
    "import networkx as nx\n",
    "import math\n",
    "import time\n",
    "from scipy.interpolate import UnivariateSpline\n",
    "import osmnx as ox\n",
    "import matplotlib.pyplot as plt\n",
    "from pyproj import CRS, Transformer\n",
    "from shapely.geometry import Point\n",
    "from shapely.geometry import Polygon\n",
    "from shapely.ops import transform\n",
    "from shapely.ops import unary_union\n",
    "from networkx.algorithms.flow import shortest_augmenting_path"
   ]
  },
  {
   "cell_type": "markdown",
   "id": "f39d6fdc-a0c6-4932-84dd-a18ad9752982",
   "metadata": {},
   "source": [
    "# Functions to Build Real-world Graph"
   ]
  },
  {
   "cell_type": "code",
   "execution_count": 2,
   "id": "ab6df892-5b3d-4f29-a1f4-8e63287ca73e",
   "metadata": {},
   "outputs": [],
   "source": [
    "MOORE_AFTER_BREAK_SPLINE = UnivariateSpline(\n",
    "    [20, 30, 40, 50, 60, 70, 80, 90, 100],\n",
    "    [3.9, 6, 11, 18, 27, 39, 54, 58, 84],\n",
    ")\n",
    "MOORE_BEFORE_BREAK_SPLINE = UnivariateSpline(\n",
    "    [20, 30, 40, 50, 60, 70, 80, 90, 100],\n",
    "    [6, 8, 11, 14, 17, 19, 22, 25, 28],\n",
    ")\n",
    "\n",
    "MOORE_SAFE_BREAKING_DISTANCE = lambda x: MOORE_AFTER_BREAK_SPLINE(\n",
    "    x\n",
    ") + MOORE_BEFORE_BREAK_SPLINE(x)\n",
    "\n",
    "def moore(lanes: float, max_speed: float):\n",
    "    return 1000 * max_speed / MOORE_SAFE_BREAKING_DISTANCE(max_speed) * lanes\n",
    "\n",
    "def add_capacities(G, method=moore):\n",
    "\n",
    "    G = G.copy()\n",
    "    cap = []\n",
    "    \n",
    "    for u, v, i in G.edges:\n",
    "        edge_data = G.get_edge_data(u, v, i)\n",
    "        raw_lanes = edge_data.get(\"lanes\")\n",
    "        \n",
    "        if raw_lanes is None:\n",
    "            lanes = 1\n",
    "            \n",
    "        elif isinstance(raw_lanes, str):\n",
    "            lanes = int(raw_lanes) / 2  \n",
    "            \n",
    "        elif isinstance(raw_lanes, list):\n",
    "            lanes = sum(int(x) for x in raw_lanes) / 2\n",
    "            \n",
    "        G[u][v][i][\"upper\"] = int(method(lanes, edge_data[\"speed_kph\"]))\n",
    "    return G"
   ]
  },
  {
   "cell_type": "code",
   "execution_count": 3,
   "id": "9be92327-65a9-4adb-914e-896f664eacf1",
   "metadata": {},
   "outputs": [],
   "source": [
    "###don't need for max flow/quickest flow\n",
    "def add_costs(G, costs:[int, np.ndarray] = 0):\n",
    "    if type(costs) == int:\n",
    "        for u,v,i in G.edges:\n",
    "            G[u][v][i]['cost'] = costs\n",
    "    else:\n",
    "        count = 0\n",
    "        for u,v,i in G.edges:\n",
    "            G[u][v][i]['cost'] = costs[count]\n",
    "    return G"
   ]
  },
  {
   "cell_type": "code",
   "execution_count": 4,
   "id": "fc1e1f24-ad12-4df8-b8a7-15c85920a92e",
   "metadata": {},
   "outputs": [],
   "source": [
    "def add_orig_dest(G, sup_dem:[int, np.ndarray]):\n",
    "    if type(sup_dem) == int:\n",
    "        for i in G.nodes:\n",
    "            G._node[i]['sup_dem'] = sup_dem\n",
    "    else:\n",
    "        for i in G.nodes:\n",
    "            G._node[i]['sup_dem'] = sup_dem[i]\n",
    "    return G"
   ]
  },
  {
   "cell_type": "code",
   "execution_count": 5,
   "id": "2651f864-10ac-42f9-992c-a0797fa9f69c",
   "metadata": {},
   "outputs": [],
   "source": [
    "def proj_lat_lngs(lats, lngs, G):\n",
    "    #convert lat and longs to point geometry\n",
    "    pnts_list = [Point((lng, lat)) for lat, lng in zip(lats, lngs)]\n",
    "    \n",
    "    #convert list of points into Geoseries of points\n",
    "    #(EPSG:4326 is WGS84)\n",
    "    pnts = gpd.GeoSeries(pnts_list, crs='epsg:4326')\n",
    "    \n",
    "    #convert points to CRS from OSMNX projection\n",
    "    proj_pnts = pnts.to_crs(G.graph['crs'])\n",
    "    return proj_pnts\n",
    "\n",
    "def switch(key):\n",
    "    if key == \"Boulder\":\n",
    "        return (479800,4424260,489130,4429760)\n",
    "    elif key == \"Pueblo\":\n",
    "        return (5255180,4250280,514380,4423270)\n",
    "    elif key == \"Lyons\":\n",
    "        return (477230,4453570,476140,4430890)\n",
    "    elif key == \"Jefferson\":\n",
    "        return (489685,4379999,494940,4393420)\n",
    "    elif key == \"Sonoma\":\n",
    "        return (512007,4273277,525300,4255270)\n",
    "    elif key == \"Butte\":\n",
    "        # return (621540,4406520,599230,4400090)\n",
    "        df_sinks = pd.read_csv('optimal_sinks.csv')  \n",
    "        df_sources = pd.read_csv('sources.csv')\n",
    "        lat = [df_sinks['lat'][0],df_sources['lat'][0]]\n",
    "        long = [df_sinks['lon'][0],df_sources['lon'][0]]\n",
    "        return (lat, long)\n",
    "    else:\n",
    "        raise Exception(\"Please enter a valid location.\")\n",
    "        exit()\n",
    "        \n",
    "###find nodes in network closestest to desired destinations\n",
    "def orig_dest_nodes(network,location):\n",
    "    ###do not test Butte yet (prjections might be weird)\n",
    "    if location == \"Butte\":\n",
    "        lat,long = switch(location)\n",
    "        proj_sink_source = proj_lat_lngs(lat, long, network)\n",
    "        orig=ox.distance.nearest_nodes(network,proj_sink_source.x[1],proj_sink_source.y[1],return_dist=False)\n",
    "        dest=ox.distance.nearest_nodes(network,proj_sink_source.x[0],proj_sink_source.y[0],return_dist=False)\n",
    "    else:\n",
    "        lat_start,long_start,lat_end,long_end = switch(location)\n",
    "        orig=ox.distance.nearest_nodes(network,lat_start,long_start,return_dist=False)\n",
    "        dest=ox.distance.nearest_nodes(network,lat_end,long_end,return_dist=False)\n",
    "    return orig, dest"
   ]
  },
  {
   "cell_type": "markdown",
   "id": "43c203cf-c6cd-483f-a771-62825dc3adf6",
   "metadata": {},
   "source": [
    "# Functions to set up for Max Flow Alogirthm"
   ]
  },
  {
   "cell_type": "code",
   "execution_count": 6,
   "id": "2b928b7f-25cd-4639-a819-0a23c29fcaae",
   "metadata": {},
   "outputs": [],
   "source": [
    "def add_s_t(G, ten, time_horizon,**kwargs):\n",
    "    start = time.time()\n",
    "    ten_copy = ten.copy()\n",
    "    orig_nodes = list(G.nodes)\n",
    "    ten_nodes = list(ten_copy.nodes)\n",
    "    removed_nodes_mat = kwargs.get('removed_nodes_mat',[ [] for _ in range(time_horizon)])\n",
    "\n",
    "    sup_nodes = [x for x,y in G.nodes(data=True) if y['sup_dem'] > 0]\n",
    "    dem_nodes = [x for x,y in G.nodes(data=True) if y['sup_dem'] < 0]\n",
    "    \n",
    "    s = 0\n",
    "    t = max(ten_nodes)+1\n",
    "    \n",
    "    ten_copy.add_node(s,name = f'{s}-{0}',level = 0)\n",
    "    ten_copy.add_node(t,name = f'{len(orig_nodes)}-{time_horizon-1}',level = time_horizon-1)\n",
    "    \n",
    "    for i in range(len(orig_nodes)):\n",
    "        if i in sup_nodes:\n",
    "            ten_copy.add_edge(s, i+1, cost = 0, upper = G._node[i]['sup_dem'], lower = 0)\n",
    "        elif i in dem_nodes:\n",
    "            ###need to add in check for last time interval node is still available\n",
    "            for k in range(time_horizon-1):\n",
    "                added = False\n",
    "                if i in removed_nodes_mat[k+1]:\n",
    "                    ten_copy.add_edge((i+1) + ((k) * len(orig_nodes)),t, upper = -G._node[i]['sup_dem'], lower = 0)\n",
    "                    added = True\n",
    "                    break;\n",
    "            if added is False:\n",
    "                ten_copy.add_edge((i+1) + ((time_horizon-1) * len(orig_nodes)),t, upper = -G._node[i]['sup_dem'], lower = 0)\n",
    "\n",
    "    end = time.time()\n",
    "    print('Add Super Source and Sink Time: ',end-start)\n",
    "\n",
    "    \n",
    "    \n",
    "    return ten_copy"
   ]
  },
  {
   "cell_type": "code",
   "execution_count": 7,
   "id": "9f41bda9-e133-4645-8c56-2924fdc9ae02",
   "metadata": {},
   "outputs": [],
   "source": [
    "###handled in TEN construction instead\n",
    "def simplify_multigraph(graph):\n",
    "    start = time.time()\n",
    "    num_nodes = max(graph.nodes)\n",
    "    edges = graph.edges\n",
    "    \n",
    "    simp_graph = nx.DiGraph()\n",
    "    simp_graph.add_nodes_from(graph.nodes(data=True))\n",
    "    \n",
    "    for i in range(num_nodes+1):\n",
    "        for j in range(num_nodes+1):\n",
    "            if (i,j) in edges:\n",
    "                num_edges = graph.number_of_edges(i,j)\n",
    "                tot_cap = graph[i][j][num_edges-1]['upper']\n",
    "                if num_edges > 1:\n",
    "                    for k in range(1,num_edges):\n",
    "                        tot_cap = tot_cap + graph[i][j][k]['upper']\n",
    "                simp_graph.add_edge(i,j, upper = tot_cap, lower = 0)\n",
    "    end = time.time()  \n",
    "    print('Conversion to Digraph Time: ',end-start)\n",
    "    return simp_graph"
   ]
  },
  {
   "cell_type": "code",
   "execution_count": 8,
   "id": "9142df24-009f-47e4-a76d-03e758a23cb7",
   "metadata": {},
   "outputs": [],
   "source": [
    "def color_max_flow(graph, flow_dict):\n",
    "    edges = graph.edges\n",
    "\n",
    "    for (i,j) in edges:\n",
    "        graph[i][j]['color'] = (0,0,0)\n",
    "        if flow_dict[i][j] !=0:\n",
    "            graph[i][j]['color'] = (1,0,0)\n",
    "                    \n",
    "    return graph"
   ]
  },
  {
   "cell_type": "markdown",
   "id": "160e9f15-0985-42e9-b1c2-5161211e551c",
   "metadata": {},
   "source": [
    "# Functions to Include Fire Data with Graph"
   ]
  },
  {
   "cell_type": "code",
   "execution_count": 9,
   "id": "e347e816-e3cd-47eb-9fc5-c6f52c7cb327",
   "metadata": {},
   "outputs": [],
   "source": [
    "def geodesic_point_buffer(graph, lat, lon, radius):\n",
    "    \"\"\"\n",
    "    Creates circles from given latitude, longitude, and radius\n",
    "    :param lat: latitude from original data\n",
    "    :param lon: longitude from original data\n",
    "    :param radius: radius from original data\n",
    "    \"\"\"\n",
    "    aeqd_proj = CRS.from_proj4(f\"+proj=aeqd +lat_0={lat} +lon_0={lon} +x_0=0 +y_0=0\")\n",
    "    tfmr = Transformer.from_proj(aeqd_proj, aeqd_proj.geodetic_crs)\n",
    "    buf = Point(0, 0).buffer(radius * 1609.34)  # distance in miles (converts from meters to miles)\n",
    "    circle = Polygon(transform(tfmr.transform, buf).exterior.coords[:])\n",
    "    net_trans = Transformer.from_crs(aeqd_proj.geodetic_crs, graph.graph['crs'])\n",
    "    proj_circ = Polygon(transform(net_trans.transform,circle).exterior.coords[:])\n",
    "    \n",
    "    return proj_circ"
   ]
  },
  {
   "cell_type": "code",
   "execution_count": 10,
   "id": "2778c59b-ab65-4715-9d95-1af19e6b7979",
   "metadata": {},
   "outputs": [],
   "source": [
    "def dist_to_fire(G, fire_polygon, **kwargs):\n",
    "    smoke_polygon = kwargs.get('smoke_polygon',fire_polygon)\n",
    "    ###find nodes inside poly to remove\n",
    "    start_gs = time.process_time()\n",
    "    gs_nodes = ox.utils_graph.graph_to_gdfs(G,nodes = True,edges = False, node_geometry = True)[['geometry']]\n",
    "    gs_edges = ox.utils_graph.graph_to_gdfs(G,nodes = False, edges = True)[['geometry']]\n",
    "    end_gs = time.process_time()\n",
    "\n",
    "    nodes_removed = []\n",
    "    edge_dist = []\n",
    "    start_to_remove = time.process_time()\n",
    "    for point in gs_nodes['geometry']:\n",
    "        if point.intersects(smoke_polygon):\n",
    "            node = ox.distance.nearest_nodes(G,point.x,point.y,return_dist=False)\n",
    "            nodes_removed.append(node)\n",
    "    for i in range(len(gs_edges)):\n",
    "        entry =  gs_edges.iloc[i]\n",
    "        dist = entry['geometry'].distance(fire_polygon)\n",
    "        # print(dist)\n",
    "        entry = gs_edges.iloc[[i]]\n",
    "        edge = entry['geometry'].index[0]\n",
    "        if G.is_multigraph():\n",
    "            G[edge[0]][edge[1]][edge[2]]['fire_dist'] = dist\n",
    "        elif G.is_directed():\n",
    "            G[edge[0]][edge[1]]['fire_dist'] = dist\n",
    "        else:\n",
    "            raise Exception(\"Must Input a DiGraph or MultiDiGraph\")\n",
    "    end_to_remove = time.process_time()\n",
    "\n",
    "    return (nodes_removed, G)"
   ]
  },
  {
   "cell_type": "code",
   "execution_count": 11,
   "id": "23288c97-d465-4f42-9674-08b27e6148b4",
   "metadata": {},
   "outputs": [],
   "source": [
    "def create_fire_mat(G, fire_origins_radii, time_horizon, removed_node_mat,fire_polygon_mat):\n",
    "    start = time.time()\n",
    "    # G_fire = G.copy()\n",
    "    time_ints_done = len(removed_node_mat)-1\n",
    "\n",
    "    for i in range(time_ints_done,time_horizon):\n",
    "        fire_polys = []\n",
    "        for entry in fire_origins_radii:\n",
    "            fire_lat = entry[0]\n",
    "            fire_long = entry[1]\n",
    "            init_radius = entry[2]\n",
    "        \n",
    "            ###create fire_poly and smoke_poly in coordinate system of network\n",
    "            radius = init_radius+(0.00025*i)\n",
    "            # radius = init_radius\n",
    "            fire_poly_piece = geodesic_point_buffer(G,fire_lat,fire_long,radius)\n",
    "            # smoke_polygon = geodesic_point_buffer(G,fire_origin[0],fire_origin[1],radius*1.01)\n",
    "            fire_polys.append(fire_poly_piece)\n",
    "        \n",
    "        fire_polygon = unary_union(fire_polys)                                     \n",
    "        nodes_removed, G = dist_to_fire(G, fire_polygon)\n",
    "\n",
    "        fire_polygon_mat.append(fire_polygon)\n",
    "        removed_node_mat.append(nodes_removed)\n",
    "        G_fire = G.copy()\n",
    "        \n",
    "    end = time.time()\n",
    "    print(f\"Time to do Fire Poly for Time Horizon {time_horizon}: {end - start}\")\n",
    "    \n",
    "    return (removed_node_mat, fire_polygon_mat, G_fire)"
   ]
  },
  {
   "cell_type": "markdown",
   "id": "bcf3461f-a36e-4f2d-9681-780dce15278a",
   "metadata": {},
   "source": [
    "# Create TEN (accounts for removed nodes and arcs)"
   ]
  },
  {
   "cell_type": "code",
   "execution_count": 12,
   "id": "683ca3ed-e27f-4465-a9f4-25131148befe",
   "metadata": {},
   "outputs": [],
   "source": [
    "def time_expand_with_removal_dyn(G, ten, time_int_size, prev_time_horizon, curr_time_horizon,**kwargs):\n",
    "    start = time.time()\n",
    "    orig_nodes = list(G.nodes)\n",
    "    orig_edges = list(G.edges)\n",
    "    ten_copy = ten.copy()\n",
    "    removed_nodes_mat = kwargs.get('removed_nodes_mat',[ [] for _ in range(curr_time_horizon)])\n",
    "    # removed_edges_mat = kwargs.get('removed_edges_mat',[ [] for _ in range(curr_time_horizon)])\n",
    "\n",
    "\n",
    "    ###add in all nodes for time-expanded network\n",
    "    if prev_time_horizon == 0:\n",
    "        node_num = 1\n",
    "    else:\n",
    "        node_num = len(orig_nodes)*prev_time_horizon+1\n",
    "            \n",
    "    for j in range(prev_time_horizon,curr_time_horizon):\n",
    "        for i in range(len(orig_nodes)):\n",
    "            #check that i is not one of nodes that have been removed during that time interval\n",
    "            if i not in removed_nodes_mat[j]:\n",
    "                if j == 0:\n",
    "                    node_name = f'{i+1}-{j}'\n",
    "                    ten_copy.add_node(node_num, name = node_name, level = j, sup_dem = G._node[i]['sup_dem'])\n",
    "                else:\n",
    "                    node_name = f'{i+1}-{j}'\n",
    "                    ten_copy.add_node(node_num, name = node_name, level = j, sup_dem = 0)\n",
    "            node_num += 1\n",
    "            \n",
    "    ###add in hold over arcs for supply/demand nodes\n",
    "    if prev_time_horizon ==0:\n",
    "        start_time_int = prev_time_horizon\n",
    "    else:\n",
    "        start_time_int = prev_time_horizon-1\n",
    "    for i in orig_nodes:\n",
    "        if G._node[i]['sup_dem'] >  0:\n",
    "            for j in range(start_time_int,curr_time_horizon-1):\n",
    "                if i not in removed_nodes_mat[j+1]:\n",
    "                    ten_copy.add_edge((i+1)+(len(orig_nodes)*j),(i+1)+(len(orig_nodes)*(j+1)), upper =  G._node[i]['sup_dem'] , lower = 0)\n",
    "        elif G._node[i]['sup_dem'] <  0:\n",
    "            for j in range(start_time_int,curr_time_horizon-1):\n",
    "                if i not in removed_nodes_mat[j+1]:\n",
    "                    ten_copy.add_edge((i+1)+(len(orig_nodes)*j),(i+1)+(len(orig_nodes)*(j+1)), upper =  -G._node[i]['sup_dem'] , lower = 0 )\n",
    "        else:\n",
    "            for j in range(start_time_int, curr_time_horizon-1):\n",
    "                if i not in removed_nodes_mat[j+1]:\n",
    "                    ten_copy.add_edge((i+1)+(len(orig_nodes)*j),(i+1)+(len(orig_nodes)*(j+1)), upper = np.inf, lower = 0)\n",
    "\n",
    "    new_nodes = np.array(range((len(orig_nodes)*prev_time_horizon)+1, (len(orig_nodes)*curr_time_horizon)+1))\n",
    "\n",
    "    ###in the case of a multidigraph\n",
    "    if G.is_multigraph():\n",
    "        for (i,j,k) in orig_edges:\n",
    "            time_int_end = math.ceil(G[i][j][k]['travel_time']/time_int_size)\n",
    "            for m in range(curr_time_horizon-1):\n",
    "                node_num = (i+1)+(len(orig_nodes)*m)\n",
    "                # if ((i,j,k) not in removed_edges_mat[m]) and (time_int_end+m < curr_time_horizon) and (j not in removed_nodes_mat[time_int_end+m]) and (i not in removed_nodes_mat[m]):\n",
    "                if (time_int_end+m < curr_time_horizon) and (j not in removed_nodes_mat[time_int_end+m]) and (i not in removed_nodes_mat[m]):\n",
    "                    ### deteremine the capacipty the edge can have based on dist to fire\n",
    "                    if G[i][j][k]['fire_dist'] == 0:\n",
    "                        percent_cap = 0\n",
    "                    elif G[i][j][k]['fire_dist'] >= time_int_end:\n",
    "                        percent_cap = 1\n",
    "                    else:\n",
    "                        percent_cap = G[i][j][k]['fire_dist']/time_int_end\n",
    "                    if prev_time_horizon == 0 or (node_num)+(j-i)+(len(orig_nodes)*time_int_end) in new_nodes:\n",
    "                        if (node_num,(node_num)+(j-i)+(len(orig_nodes)*time_int_end)) in ten_copy.edges:\n",
    "                            ten_copy[node_num][(node_num)+(j-i)+(len(orig_nodes)*time_int_end)]['upper'] += G[i][j][k]['upper']*percent_cap\n",
    "                        else:\n",
    "                            ten_copy.add_edge(node_num,(node_num)+(j-i)+(len(orig_nodes)*time_int_end),upper = G[i][j][k]['upper']*percent_cap, lower = 0)\n",
    "\n",
    "\n",
    "    ##in the case of a digraph that is not a multdigraph\n",
    "    elif G.is_directed():\n",
    "        for (i,j) in orig_edges:\n",
    "            # print(f'({i},{j},{k})')\n",
    "            time_int_end = math.ceil(G[i][j]['travel_time']/time_int_size)\n",
    "            for m in range(curr_time_horizon-1):\n",
    "                node_num = (i+1)+(len(orig_nodes)*m)\n",
    "                # if ((i,j) not in removed_edges_mat[m]) and (time_int_end+m < curr_time_horizon) and (j not in removed_nodes_mat[time_int_end+m]) and (i not in removed_nodes_mat[m]):\n",
    "                if (time_int_end+m < curr_time_horizon) and (j not in removed_nodes_mat[time_int_end+m]) and (i not in removed_nodes_mat[m]):                    \n",
    "                    ### deteremine the capacipty the edge can have based on dist to fire\n",
    "                    if G[i][j]['fire_dist'] == 0:\n",
    "                        percent_cap = 0\n",
    "                    elif G[i][j]['fire_dist'] >= time_int_end:\n",
    "                        percent_cap = 1\n",
    "                    else:\n",
    "                        percent_cap = G[i][j]['fire_dist']/time_int_end\n",
    "                    if prev_time_horizon == 0 or (node_num)+(j-i)+(len(orig_nodes)*time_int_end) in new_nodes:\n",
    "                        if (node_num,(node_num)+(j-i)+(len(orig_nodes)*time_int_end)) in ten_copy.edges:\n",
    "                            ten_copy[node_num][(node_num)+(j-i)+(len(orig_nodes)*time_int_end)]['upper'] += G[i][j]['upper']\n",
    "                        else:\n",
    "                            # print('edge added')\n",
    "                            ten_copy.add_edge(node_num,(node_num)+(j-i)+(len(orig_nodes)*time_int_end),upper = G[i][j]['upper'], lower = 0)\n",
    "    else:\n",
    "        raise Exception(\"Must Input a DiGraph or MultiDiGraph\")\n",
    "\n",
    "    ###Remove isolated nodes in TEN (could occur if all edges between nodes are effected by fire, but nodes not within fire polygon)\n",
    "    ###Removed this function to cut down on work for adding new time intervals\n",
    "    # ten.remove_nodes_from(list(nx.isolates(ten)))\n",
    "    \n",
    "    end = time.time()\n",
    "    ###used for checking how long larger networks/expansions take to construct\n",
    "    # if end-start > 1:\n",
    "    print(f'Time to build TEN for T = {curr_time_horizon}: {end-start}')\n",
    "\n",
    "    return ten_copy"
   ]
  },
  {
   "cell_type": "markdown",
   "id": "e65c9649-e0df-496b-9243-a939ea4dad5e",
   "metadata": {},
   "source": [
    "# Determine number of Time Intervals to Evacuate People (and Max Flow)"
   ]
  },
  {
   "cell_type": "code",
   "execution_count": 13,
   "id": "bbdf79bf-d6ff-4124-a7b4-3c0c5d794eda",
   "metadata": {},
   "outputs": [],
   "source": [
    "def det_num_int(G, pop, fire_orgin_radii):\n",
    "\n",
    "    \n",
    "    dem_nodes = [x for x,y in G.nodes(data=True) if y['sup_dem'] < 0]\n",
    "    sup_nodes = [x for x,y in G.nodes(data=True) if y['sup_dem'] > 0]\n",
    "    longest_time = 0\n",
    "    supply_amt = 0\n",
    "    demand_amt = 0\n",
    "    \n",
    "    ### determine if problem will have a solution\n",
    "    start = time.time()\n",
    "    for i in sup_nodes:\n",
    "        supply_amt = supply_amt + G._node[i]['sup_dem']\n",
    "    for j in dem_nodes:\n",
    "        demand_amt = demand_amt - G._node[j]['sup_dem']\n",
    "    \n",
    "    if supply_amt != demand_amt:\n",
    "        raise Exception(\"Supply does not equal demand. Please adjust values accordingly.\")\n",
    "        exit()\n",
    "    elif supply_amt < pop:\n",
    "        raise Exception(\"Population is larger than supply. Not possible to evacuate everyone.\")\n",
    "        exit()\n",
    "    end = time.time()\n",
    "    print(f'Feasability Check Completed: {end-start} seconds') \n",
    "    ###deteremine minimum number of time intervals by finding the longest time to travel between any of the sources or sinks\n",
    "    start = time.time()\n",
    "    for source in sup_nodes:\n",
    "        for sink in dem_nodes:\n",
    "            current_travel_time = nx.shortest_path_length(G, source, sink, 'travel_time')\n",
    "            if current_travel_time >= longest_time:\n",
    "                longest_time = current_travel_time\n",
    "                shortest_path = nx.shortest_path(G, source, sink,'travel_time')\n",
    "    end = time.time()\n",
    "    print(f'Longest Path Deteremined: {end-start} seconds') \n",
    "                \n",
    "    time_int_len = 1\n",
    "    num_time_ints = math.ceil(longest_time)+len(shortest_path) ###time zero is when num_time_ints = 1\n",
    "    prev_num_time_ints = 0\n",
    "\n",
    "    G_fire = G.copy()\n",
    "    ten = nx.DiGraph()\n",
    "    prev_ten = ten.copy()\n",
    "    full_ten = nx.DiGraph()\n",
    "    s_t_ten = nx.DiGraph()\n",
    "    flow_value = 0\n",
    "    flow_dict = {}\n",
    "    removed_nodes_mat = []\n",
    "    # removed_edges_mat = []\n",
    "    fire_polygon_mat = []\n",
    "    unsafe = False\n",
    "\n",
    "    while flow_value < pop:\n",
    "    # while num_time_ints < math.ceil(longest_time)+len(shortest_path)+3:\n",
    "        # print('number prev ten nodes: ',len(prev_ten.nodes))\n",
    "        \n",
    "        rmvd_nodes_mat,fire_poly_mat,G_fire = create_fire_mat(G, fire_origin_radii,num_time_ints, removed_nodes_mat,fire_polygon_mat)\n",
    "        intersection = set(sup_nodes).intersection(set(rmvd_nodes_mat[0]))\n",
    "        if len(intersection) !=0:\n",
    "            print(f\"One or more source nodes has already been engulfed by the fire. These nodes will be removed from consideration.\")\n",
    "            intersection = set(sup_nodes).intersection(set(rmvd_nodes_mat[0]))\n",
    "            for node in intersection:\n",
    "                G._node[node]['sum_dem'] = 0\n",
    "            G_fire = G.copy()\n",
    "            removed_nodes_mat = []\n",
    "            fire_polygon_mat = []\n",
    "        if (set(dem_nodes).issubset(set(rmvd_nodes_mat[-1]))):\n",
    "            unsafe = True\n",
    "            print(f\"All sinks have been taken by the fire, not everyone can evacuate by time horizon {num_time_ints}.\")\n",
    "            print(f\"Will return solution for time horizon {num_time_ints-1}\")\n",
    "            num_time_ints = num_time_ints-1\n",
    "\n",
    "            ten = time_expand_with_removal_dyn(G_fire, prev_ten, time_int_len, prev_num_time_ints,num_time_ints, removed_nodes_mat = rmvd_nodes_mat)\n",
    "            # ten = time_expand_with_removal(G, time_int_len,num_time_ints, removed_nodes_mat, removed_edges_mat)\n",
    "            s_t_ten = add_s_t(G_fire, ten, num_time_ints, removed_nodes_mat = rmvd_nodes_mat)\n",
    "            flow_value, flow_dict = nx.maximum_flow(s_t_ten.copy(), 0, max(list(s_t_ten.copy().nodes)),capacity = 'upper',flow_func = shortest_augmenting_path)\n",
    "            break;\n",
    "        else:\n",
    "            ten = time_expand_with_removal_dyn(G_fire, prev_ten, time_int_len, prev_num_time_ints,num_time_ints, removed_nodes_mat = rmvd_nodes_mat)\n",
    "            # ten = time_expand_with_removal(G, time_int_len,num_time_ints, removed_nodes_mat, removed_edges_mat)\n",
    "            # print('number orig ten nodes: ',len(ten.nodes))\n",
    "            s_t_ten = add_s_t(G_fire, ten, num_time_ints, removed_nodes_mat = rmvd_nodes_mat)\n",
    "            # print('number super s_t ten nodes: ',len(s_t_ten.nodes))\n",
    "            start = time.time()\n",
    "            flow_value, flow_dict = nx.maximum_flow(s_t_ten.copy(), 0, max(list(s_t_ten.copy().nodes)),capacity = 'upper',flow_func = shortest_augmenting_path)\n",
    "            end = time.time()\n",
    "            print(f'Time for Max Flow Algorithm {end-start} seconds')\n",
    "            print('----------------------------------------------------------------------')\n",
    "\n",
    "            prev_ten = ten.copy()\n",
    "            prev_num_time_ints = num_time_ints\n",
    "            num_time_ints +=1\n",
    "            \n",
    "    if unsafe:\n",
    "        ints = num_time_ints\n",
    "    else:\n",
    "        ints = num_time_ints - 1\n",
    "\n",
    "    print('Construct Colored Time Expanded Model')\n",
    "    full_ten_temp = time_expand_with_removal_dyn(G_fire, nx.DiGraph(), time_int_len, 0, ints)\n",
    "    full_ten = add_s_t(G_fire, full_ten_temp, num_time_ints-1)\n",
    "    start = time.time()\n",
    "    colored_max_flow_ten = color_max_flow(s_t_ten,flow_dict)\n",
    "    end = time.time()\n",
    "    print(f'Time to color edges with Flow in TEN: {end-start}')\n",
    "    ###code used for plotting colored max-flow on TEN\n",
    "    # num_nodes = max(list(colored_max_flow_ten))\n",
    "    # pos = nx.multipartite_layout(s_t_ten, subset_key=\"level\")\n",
    "    # pos[0]= np.array([pos[1][0]-0.05,pos[1][1]])\n",
    "    # pos[max(s_t_ten.nodes)] = np.array([pos[max(s_t_ten.nodes)-1][0]+0.05,pos[max(s_t_ten.nodes)-1][1]])\n",
    "    # colors = [colored_max_flow_ten[u][v]['color'] for u,v in colored_max_flow_ten.edges]\n",
    "    # nx.draw(colored_max_flow_ten, pos, edge_color=colors,with_labels = True)\n",
    "    \n",
    "    return (num_time_ints-1, flow_value, flow_dict, colored_max_flow_ten, ten, fire_poly_mat) "
   ]
  },
  {
   "cell_type": "markdown",
   "id": "f7a55e32-d4af-4b04-843f-718c8e8ab3e8",
   "metadata": {
    "jp-MarkdownHeadingCollapsed": true
   },
   "source": [
    "# Build Real-world Graph"
   ]
  },
  {
   "cell_type": "code",
   "execution_count": 14,
   "id": "4a70d7a0-d27b-42c9-818e-1614c448a139",
   "metadata": {},
   "outputs": [],
   "source": [
    "def construct_orig_graph(location, sup_dem_nodes):\n",
    "\n",
    "    start = time.time()\n",
    "    #import data from osmnx, can input any city, state, etc.\n",
    "    G = ox.project_graph(ox.graph_from_place(location, network_type='drive'))\n",
    "    print('Importing Network Complete')\n",
    "\n",
    "    #get rid of intersections that are not actually intersections\n",
    "    G = ox.simplification.consolidate_intersections(G, tolerance=10, rebuild_graph=True, dead_ends=True, reconnect_edges = True)\n",
    "    print('Consolidation Complete')\n",
    "\n",
    "    #add edge speeds\n",
    "    G = ox.speed.add_edge_speeds(G)\n",
    "    print('Speed Added')\n",
    "\n",
    "    #add travel times\n",
    "    G = ox.speed.add_edge_travel_times(G)\n",
    "    print('Travel Time Added')\n",
    "\n",
    "    #add capacities (computed using moore method)\n",
    "    G = add_capacities(G)\n",
    "    print('Capacities Added')\n",
    "\n",
    "    ###only need if doing something with min-cost\n",
    "    # costs = 0\n",
    "    # G = add_costs(G,costs)\n",
    "    # print('Costs Added')\n",
    "\n",
    "    #sup_dem:int = 0\n",
    "    # orig,dest = orig_dest_nodes(G,\"Lyons\")\n",
    "    sup_dem = np.zeros(len(G.nodes))\n",
    "    # sup_dem[orig] = 2000\n",
    "    # sup_dem[dest] = -2000\n",
    "    # sup_dem[10] = 2000\n",
    "    # sup_dem[max(G.nodes)] = -2000\n",
    "    for i,j in sup_dem_nodes:\n",
    "        sup_dem[i] = j\n",
    "    G = add_orig_dest(G,sup_dem)\n",
    "    print('Supply and Demand Values Added')\n",
    "\n",
    "    end = time.time()\n",
    "\n",
    "    print('Time to Build Original Network: ',end-start, ' seconds')\n",
    "    \n",
    "    return G"
   ]
  },
  {
   "cell_type": "markdown",
   "id": "cdbfaccc-524a-42b0-934e-1a476d8e7f6d",
   "metadata": {},
   "source": [
    "# Evacuation Code"
   ]
  },
  {
   "cell_type": "code",
   "execution_count": 48,
   "id": "b296e274-8120-498f-9e46-a14c035b83c5",
   "metadata": {},
   "outputs": [
    {
     "name": "stdout",
     "output_type": "stream",
     "text": [
      "Importing Network Complete\n",
      "Consolidation Complete\n",
      "Speed Added\n",
      "Travel Time Added\n",
      "Capacities Added\n",
      "Supply and Demand Values Added\n",
      "Time to Build Original Network:  0.41899538040161133  seconds\n",
      "Feasability Check Completed: 0.0 seconds\n",
      "Longest Path Deteremined: 0.0 seconds\n",
      "Time to do Fire Poly for Time Horizon 161: 36.077290058135986\n",
      "<class 'set'>\n",
      "Time to build TEN for T = 161: 0.16122031211853027\n",
      "Add Super Source and Sink Time:  0.2384474277496338\n",
      "Time for Max Flow Algorithm 0.9561605453491211 seconds\n",
      "----------------------------------------------------------------------\n",
      "Construct Colored Time Expanded Model\n",
      "Time to build TEN for T = 161: 0.1630239486694336\n",
      "Add Super Source and Sink Time:  0.09532570838928223\n",
      "Time to color edges with Flow in TEN: 0.03568577766418457\n",
      "Number of Time Intervals: 161\n",
      "Flow Value: 8000.0\n"
     ]
    }
   ],
   "source": [
    "fire_origin = [40.229520, -105.263912]\n",
    "# fire_origin = [40.213739, -105.279067]\n",
    "fire_radius =  0\n",
    "\n",
    "fire_origin_radii = [(40.229520,-105.263912,0),(40.213739, -105.279067,0)]\n",
    "location = 'Lyons Colorado'\n",
    "sup_dem_nodes = [(1,4000),(30,4000),(15,-4000),(20,-4000)]\n",
    "G = construct_orig_graph(location,sup_dem_nodes)\n",
    "\n",
    "\n",
    "num_time_ints, max_flow, flow_dict, flow_ten, full_TEN,fire_poly_mat = det_num_int(G, 60, fire_origin_radii)\n",
    "print('Number of Time Intervals:',num_time_ints)\n",
    "print('Flow Value:', max_flow)"
   ]
  },
  {
   "cell_type": "code",
   "execution_count": 16,
   "id": "f18598ec-702e-4acb-b839-1dfc30c3446f",
   "metadata": {},
   "outputs": [
    {
     "data": {
      "image/png": "[encoded data removed]",
      "text/plain": [
       "<Figure size 800x800 with 1 Axes>"
      ]
     },
     "metadata": {},
     "output_type": "display_data"
    }
   ],
   "source": [
    "colors=['blue' if y['sup_dem'] < 0 else 'red' if y['sup_dem'] > 0 else 'white' for x,y in G.nodes(data=True)]\n",
    "fig,ax = ox.plot_graph(G,show = False, close = False,node_size = 30, node_color = colors)\n",
    "\n",
    "if fire_poly_mat[-1].geom_type == 'Polygon':\n",
    "    x,y = fire_poly_mat[-1].exterior.xy\n",
    "    ax.fill(x,y,'#f1c232ff', alpha = 0.5)\n",
    "else:\n",
    "    for geom in fire_poly_mat[-1].geoms:  \n",
    "        xs, ys = geom.exterior.xy    \n",
    "        ax.fill(xs, ys, alpha=0.5, fc='#f1c232ff', ec='none')\n",
    "\n",
    "plt.show()"
   ]
  },
  {
   "cell_type": "code",
   "execution_count": 17,
   "id": "5f0f8956-fc90-4f91-9164-99d3fe293a6e",
   "metadata": {},
   "outputs": [
    {
     "data": {
      "image/png": "[encoded data removed]",
      "text/plain": [
       "<Figure size 800x800 with 1 Axes>"
      ]
     },
     "metadata": {},
     "output_type": "display_data"
    }
   ],
   "source": [
    "colors=['blue' if y['sup_dem'] < 0 else 'red' if y['sup_dem'] > 0 else 'white' for x,y in G.nodes(data=True)]\n",
    "fig,ax = ox.plot_graph(G,show = False, close = False,node_size = 30, node_color = colors)\n",
    "\n",
    "if fire_poly_mat[0].geom_type == 'Polygon':\n",
    "    x,y = fire_poly_mat[0].exterior.xy\n",
    "    ax.fill(x,y,'#f1c232ff', alpha = 0.5)\n",
    "else:\n",
    "    for geom in fire_poly_mat[0].geoms:  \n",
    "        xs, ys = geom.exterior.xy    \n",
    "        ax.fill(xs, ys, alpha=0.5, fc='#f1c232ff', ec='none')\n",
    "\n",
    "plt.show()"
   ]
  },
  {
   "cell_type": "code",
   "execution_count": 47,
   "id": "7bdb20d7-3a10-4a6c-94ee-50e598d6e22b",
   "metadata": {},
   "outputs": [
    {
     "name": "stdout",
     "output_type": "stream",
     "text": [
      "Importing Network Complete\n",
      "Consolidation Complete\n",
      "Speed Added\n",
      "Travel Time Added\n",
      "Capacities Added\n",
      "Supply and Demand Values Added\n",
      "Time to Build Original Network:  0.4505164623260498  seconds\n"
     ]
    },
    {
     "data": {
      "image/png": "[encoded data removed]",
      "text/plain": [
       "<Figure size 800x800 with 1 Axes>"
      ]
     },
     "metadata": {},
     "output_type": "display_data"
    },
    {
     "name": "stdout",
     "output_type": "stream",
     "text": [
      "Feasability Check Completed: 0.0 seconds\n",
      "Longest Path Deteremined: 0.0 seconds\n",
      "Time to do Fire Poly for Time Horizon 89: 18.565027952194214\n",
      "<class 'set'>\n",
      "Time to build TEN for T = 89: 0.07781529426574707\n",
      "Add Super Source and Sink Time:  0.1609020233154297\n",
      "Time for Max Flow Algorithm 0.43643736839294434 seconds\n",
      "----------------------------------------------------------------------\n",
      "Construct Colored Time Expanded Model\n",
      "Time to build TEN for T = 89: 0.09263753890991211\n",
      "Add Super Source and Sink Time:  0.05195283889770508\n",
      "Time to color edges with Flow in TEN: 0.019125938415527344\n",
      "Number of Time Intervals: 89\n",
      "Flow Value: 180.0\n"
     ]
    }
   ],
   "source": [
    "# fire_origin_2 = [40.229520, -105.263912]\n",
    "fire_origin = [40.213739, -105.279067]\n",
    "fire_radius =  0\n",
    "\n",
    "fire_origin_radii = [(40.213739, -105.279067,0.5)]\n",
    "location = 'Lyons Colorado'\n",
    "sup_dem_nodes_2 = [(15,180),(30,-180)]\n",
    "G_2 = construct_orig_graph(location,sup_dem_nodes_2)\n",
    "colors_2=['red' if y['sup_dem'] < 0 else 'blue' if y['sup_dem'] > 0 else 'white' for x,y in G_2.nodes(data=True)]\n",
    "fig,ax = ox.plot_graph(G_2,show = False, close = False,node_size = 25, node_color = colors_2)\n",
    "plt.show()\n",
    "\n",
    "num_time_ints_2, max_flow_2,flow_dict_2, flow_ten_2,full_TEN_2,fire_poly_mat_2 = det_num_int(G_2,60, fire_origin_radii)\n",
    "print('Number of Time Intervals:',num_time_ints_2)\n",
    "print('Flow Value:', max_flow_2)"
   ]
  },
  {
   "cell_type": "markdown",
   "id": "1e90a0f2-80a7-4d10-a5e6-95f987badc9b",
   "metadata": {
    "jp-MarkdownHeadingCollapsed": true
   },
   "source": [
    "## Dual Simplex Testing"
   ]
  },
  {
   "cell_type": "code",
   "execution_count": null,
   "id": "191c45bd-df0f-4ec3-bbea-1765e2fd1172",
   "metadata": {},
   "outputs": [],
   "source": [
    "import numpy as np\n",
    "import scipy.sparse as sp\n",
    "import networkx as nx\n",
    "import gurobipy as gp\n",
    "\n",
    "# nodes = [1, 2, 3, 4, 5, 6]\n",
    "# edges = [[1, 2], [1, 3], [1, 5], [2, 3], [2, 4], [3, 4], [3, 5], [4, 6], [5, 6]]\n",
    "# capacities = [2,4,6,8,2,5,5,7,8]\n",
    "\n",
    "# capacities=np.array(capacities)\n",
    "# nodes=np.array(nodes)\n",
    "\n",
    "# G = nx.DiGraph()\n",
    "# G.add_nodes_from(nodes)\n",
    "# G.add_edges_from(edges)\n",
    "\n",
    "incidence_matrix = -nx.incidence_matrix(full_TEN_2, oriented=True) \n",
    "\n",
    "A=incidence_matrix.toarray()\n",
    "b=np.zeros((np.shape(A)[1],1))\n",
    "\n",
    "c=[]\n",
    "\n",
    "for i in range(len(full_TEN_2.edges)):\n",
    "    if edges[i][0]==1:\n",
    "        c.append(1)\n",
    "    else: \n",
    "        c.append(0)\n",
    "\n",
    "c=np.array(c)        \n",
    "x=capacities.transpose()\n",
    "    \n",
    "\n",
    "m=gp.model()\n",
    "\n",
    "m.setObjective(c@x,GRB.maximize)\n",
    "m.addConstr(A@x==b)\n",
    "m.addConstr(x>= 0)\n",
    "m.optimize()"
   ]
  },
  {
   "cell_type": "code",
   "execution_count": null,
   "id": "4af6d7f4-09f0-4107-b0a1-3206af156d43",
   "metadata": {},
   "outputs": [],
   "source": [
    "import cplex\n",
    "# import lpex3\n",
    "\n",
    "cpx = cplex.Cplex()\n",
    "cpx.read('Insert LP file here')  \n",
    "# use the dual simplex   \n",
    "cpx.parameters.lpmethod.set(cpx.parameters.lpmethod.values.dual)\n",
    "cpx.solve()\n"
   ]
  },
  {
   "cell_type": "code",
   "execution_count": null,
   "id": "13d00ce6-b15c-4e6e-b8c4-bfad3c88d133",
   "metadata": {},
   "outputs": [],
   "source": [
    "A  = nx.incidence_matrix(full_TEN, nodelist=None, edgelist=None, oriented=True, weight=None, dtype=None)"
   ]
  },
  {
   "cell_type": "code",
   "execution_count": null,
   "id": "00f3f7c4-6648-4dc5-bdb8-cd8bcb05f98d",
   "metadata": {},
   "outputs": [],
   "source": [
    "num_rows, num_cols = A.shape"
   ]
  },
  {
   "cell_type": "code",
   "execution_count": null,
   "id": "9a0fbac6-fe5c-47d8-b1e5-86a0c7a14b98",
   "metadata": {},
   "outputs": [],
   "source": [
    "B_u = np.identity(num_cols)\n",
    "print(B_u.shape)\n",
    "B_0 = -1*np.identity(num_cols)\n",
    "print(B_0.shape)\n",
    "B = np.concatenate([B_u,B_0], axis = 0)\n",
    "print(B.shape)\n",
    "\n",
    "# a = [[1,2,3],[4,5,6]]\n",
    "# b = [[7,8,9],[10,11,12],[13,14,15]]\n",
    "# ab = np.concatenate([a,b], axis = 0)\n",
    "# ab"
   ]
  },
  {
   "cell_type": "code",
   "execution_count": null,
   "id": "9c28642a-b7ea-464f-9c38-ff23b5dc6499",
   "metadata": {},
   "outputs": [],
   "source": [
    "edges = full_TEN.edges\n",
    "# for (i,j) in edges:\n",
    "#     if i == 0:\n",
    "#         print('source')\n",
    "caps = dict(zip(edges,[full_TEN[x][y]['upper'] for x,y in full_TEN.edges]))\n"
   ]
  },
  {
   "cell_type": "code",
   "execution_count": null,
   "id": "709b58b0-971c-4880-80f3-d6080a7c0ad6",
   "metadata": {},
   "outputs": [],
   "source": [
    "# caps\n",
    "# edges"
   ]
  },
  {
   "cell_type": "code",
   "execution_count": null,
   "id": "af1beefb-c763-4728-9bc7-4a9ef1a7d811",
   "metadata": {},
   "outputs": [],
   "source": [
    "import pyomo.environ as pyo\n",
    "solvername = 'glpk'\n",
    "solverpath_exe = 'C:\\\\Users\\\\DillW\\\\winglpk-4.65\\\\glpk-4.65\\\\w64\\\\glpsol'\n",
    "\n",
    "model = pyo.ConcreteModel()\n",
    "\n",
    "# ARCS = range(0,len(edges))\n",
    "NODES = range(0,max(full_TEN.nodes))\n",
    "ORIG_NODES = range(1,max(full_TEN.nodes)-1)\n",
    "\n",
    "model.x = pyo.Var(NODES, NODES, domain = pyo.NonNegativeReals)\n",
    "\n",
    "def up_cap_con(model,i):\n",
    "    return sum(model.x[i,j]  for j in NODES if (i,j) in edges) <= caps[i]\n",
    "\n",
    "def low_cap_con(model,i):\n",
    "    return sum(model.x[i,j] for j in NODES if (i,j) in edges) >= 0\n",
    "\n",
    "def fb_con(model,i):\n",
    "    return sum(model.x[j,i] for j in NODES if (j,i) in edges) - sum(model.x[i,j] for j in NODES if (i,j) in edges) == 0\n",
    "\n",
    "def obj_rule(model):\n",
    "    return sum(model.x[0,j] for j in NODES if (0,j) in edges)\n",
    "\n",
    "model.obj = pyo.Objective(rule = obj_rule, sense = pyo.maximize)\n",
    "model.up_cap = pyo.Constraint(NODES,rule = up_cap_con)\n",
    "model.low_cap = pyo.Constraint(NODES,rule = low_cap_con)\n",
    "model.flow = pyo.Constraint(ORIG_NODES,rule = fb_con)\n",
    "# model.color = pyo.Constraint(NODES,rule = cap_con)\n",
    "# model.slot = pyo.Constraint(NODES,rule = slot_con)\n",
    "\n",
    "result = pyo.SolverFactory(solvername,executable=solverpath_exe).solve(model)"
   ]
  },
  {
   "cell_type": "code",
   "execution_count": null,
   "id": "39498cec-767f-471f-834c-6b2763ede799",
   "metadata": {},
   "outputs": [],
   "source": []
  },
  {
   "cell_type": "code",
   "execution_count": null,
   "id": "7139e8f5-5483-4d81-859c-f88938720350",
   "metadata": {},
   "outputs": [],
   "source": []
  },
  {
   "cell_type": "markdown",
   "id": "617e1064-c204-4e7d-a341-e8306da43a50",
   "metadata": {
    "jp-MarkdownHeadingCollapsed": true
   },
   "source": [
    "## Testing Dynamic Updating of TEN"
   ]
  },
  {
   "cell_type": "code",
   "execution_count": null,
   "id": "577c6eed-677f-492c-97a6-83b074d7e2e1",
   "metadata": {},
   "outputs": [],
   "source": []
  },
  {
   "cell_type": "code",
   "execution_count": null,
   "id": "03a1388c-6785-4b18-916d-ab8d2468fe9b",
   "metadata": {},
   "outputs": [],
   "source": [
    "test_copies = 3\n",
    "test_time_int = 1\n",
    "# test_ten = time_expand_with_removal_dyn(toy_net,nx.DiGraph(),test_time_int,0,test_copies,[[],[],[1]],[[],[(2,3)],[]])\n",
    "test_ten = time_expand_with_removal_dyn(toy_net,nx.DiGraph(),test_time_int,0,test_copies)\n",
    "pos = nx.multipartite_layout(test_ten, subset_key=\"level\")\n",
    "# nx.draw(test_ten, pos, with_labels=True)"
   ]
  },
  {
   "cell_type": "code",
   "execution_count": null,
   "id": "bb584457-7df5-478f-8c3d-f27ea67f2ab2",
   "metadata": {},
   "outputs": [],
   "source": [
    "test_copies = 4\n",
    "test_time_int = 1\n",
    "# test_ten_2 = time_expand_with_removal_dyn(toy_net,test_ten,test_time_int,3,test_copies,[[],[],[1],[1,2]],[[],[(2,3)],[(2,3),(1,3)],[]])\n",
    "test_ten_2 = time_expand_with_removal_dyn(toy_net,test_ten,test_time_int,3,test_copies)\n",
    "pos = nx.multipartite_layout(test_ten_2, subset_key=\"level\")\n",
    "# nx.draw(test_ten_2, pos, with_labels=True)"
   ]
  },
  {
   "cell_type": "markdown",
   "id": "6f20e4ca-1e6b-4063-909a-55a69077ff5e",
   "metadata": {},
   "source": [
    "# Code for Reconsructing Flow Paths in Original Network (Still Under Construction)"
   ]
  },
  {
   "cell_type": "markdown",
   "id": "97929193-c285-4227-83be-70b96e16a493",
   "metadata": {
    "jp-MarkdownHeadingCollapsed": true
   },
   "source": [
    "## Toy Network Things"
   ]
  },
  {
   "cell_type": "code",
   "execution_count": null,
   "id": "c9d0e1ba-7995-49d7-bf88-796ce774f6c4",
   "metadata": {},
   "outputs": [],
   "source": [
    "toy_net = nx.DiGraph()\n",
    "toy_net.add_nodes_from(range(4))\n",
    "toy_net.add_edges_from([(0,1),(0,2),(1,2),(1,3),(2,3)], cost = 0)\n",
    "toy_net[0][1]['travel_time'] = 4\n",
    "toy_net[0][2]['travel_time'] = 2\n",
    "toy_net[1][2]['travel_time'] = 3\n",
    "toy_net[1][3]['travel_time'] = 1\n",
    "toy_net[2][3]['travel_time'] = 1\n",
    "toy_net[0][1]['upper'] = 3\n",
    "toy_net[0][2]['upper'] = 4\n",
    "toy_net[1][2]['upper'] = 3\n",
    "toy_net[1][3]['upper'] = 2\n",
    "toy_net[2][3]['upper'] = 4\n",
    "toy_net.nodes[0]['sup_dem'] = 9\n",
    "toy_net.nodes[1]['sup_dem'] = 0\n",
    "toy_net.nodes[2]['sup_dem'] = 0\n",
    "toy_net.nodes[3]['sup_dem'] = -9"
   ]
  },
  {
   "cell_type": "code",
   "execution_count": null,
   "id": "0a177611-2bfd-49f4-947a-db777539bc08",
   "metadata": {},
   "outputs": [],
   "source": [
    "test_copies = 6\n",
    "test_time_int = 1\n",
    "# test_ten = time_expand_with_removal_dyn(toy_net,nx.DiGraph(),test_time_int,0,test_copies,[[],[],[1]],[[],[(2,3)],[]])\n",
    "test_ten = time_expand_with_removal_dyn(toy_net,nx.DiGraph(),test_time_int,0,test_copies)\n",
    "\n",
    "s_t_ten = add_s_t(toy_net, test_ten, test_copies)\n",
    "\n",
    "flow_value, flow_dict = nx.maximum_flow(s_t_ten.copy(), 0, max(list(s_t_ten.copy().nodes)),capacity = 'upper',flow_func = shortest_augmenting_path)\n",
    "\n",
    "###code used for plotting colored max-flow on TEN\n",
    "colored_max_flow_ten = color_max_flow(s_t_ten,flow_dict)\n",
    "num_nodes = max(list(colored_max_flow_ten))\n",
    "pos = nx.multipartite_layout(test_ten, subset_key=\"level\")\n",
    "pos[0]= np.array([pos[1][0]-0.5,pos[1][1]])\n",
    "pos[max(s_t_ten.nodes)] = np.array([pos[max(test_ten.nodes)-1][0]+0.5,pos[max(test_ten.nodes)-1][1]])\n",
    "colors = [colored_max_flow_ten[u][v]['color'] for u,v in colored_max_flow_ten.edges]\n",
    "nx.draw(colored_max_flow_ten, pos, edge_color=colors,with_labels = True)\n",
    "\n",
    "\n",
    "\n",
    "# pos = nx.multipartite_layout(test_ten, subset_key=\"level\")\n",
    "# nx.draw(test_ten, pos, with_labels=True)"
   ]
  },
  {
   "cell_type": "code",
   "execution_count": null,
   "id": "eb9ff2af-0372-4270-b566-a40fbe0279f9",
   "metadata": {},
   "outputs": [],
   "source": [
    "# for G in graphs:\n",
    "#     colors = [G[u][v]['color'] for u,v in G.edges]\n",
    "#     nx.draw(G, edge_color=colors, with_labels = True)\n",
    "#     plt.show()"
   ]
  },
  {
   "cell_type": "markdown",
   "id": "8078fce1-7e15-46b2-b703-2886e30f96cc",
   "metadata": {},
   "source": [
    "## Original Path Costruction Functions"
   ]
  },
  {
   "cell_type": "code",
   "execution_count": 18,
   "id": "b0674c72-4646-4c54-bdb5-aa3cadf412ea",
   "metadata": {},
   "outputs": [],
   "source": [
    "def graph_path_color(graph, paths):\n",
    "    graphs = []\n",
    "    for path in paths:\n",
    "        for (i,j) in graph.edges:\n",
    "            graph[i][j]['color'] = (0,0,0)\n",
    "        for k in range(len(path)-1):\n",
    "            graph[path[k]][path[k+1]]['color'] = (1,0,0)\n",
    "        graphs.append(graph.copy())\n",
    "    \n",
    "    return graphs"
   ]
  },
  {
   "cell_type": "code",
   "execution_count": 58,
   "id": "f56549d7-7d50-4b16-91e3-2c2c495ab183",
   "metadata": {},
   "outputs": [],
   "source": [
    "def ten_to_orig_paths(flow_ten, ten, G):\n",
    "    ###get all edges with flow\n",
    "    uni_source = min(flow_ten.nodes)\n",
    "    uni_sink = max(flow_ten.nodes)\n",
    "    edges_w_flow = [(x[0],x[1]) for x in flow_ten.edges(data = True) if flow_ten[x[0]][x[1]]['color'] == (1,0,0)]\n",
    "    edges_w_flow.sort(key=lambda tup: tup[0])\n",
    "    \n",
    "    ###create link of sources and sinks\n",
    "    starts = [edge[1] for edge in edges_w_flow if edge[0]==uni_source]\n",
    "    ends = [edge[0] for edge in edges_w_flow if edge[1]==uni_sink]\n",
    "\n",
    "    ###get all valid paths from sources to sinks using arcs wtih flow\n",
    "    valid_paths = []\n",
    "    for source in starts:\n",
    "        paths = find_all_paths(edges_w_flow, source, ends, path=[])\n",
    "        for path in paths:\n",
    "            if nx.is_path(ten, path) and path not in valid_paths:\n",
    "                # print(path)\n",
    "                valid_paths.append(path)\n",
    "    # print(valid_paths)\n",
    "\n",
    "    ###convert from TEN paths to original network paths\n",
    "    orig_paths = orig_graph_path(ten, valid_paths, [uni_source, uni_sink])\n",
    "\n",
    "    return orig_paths"
   ]
  },
  {
   "cell_type": "code",
   "execution_count": 59,
   "id": "79224ca9-3640-4b6f-907c-c1f151ca9f36",
   "metadata": {},
   "outputs": [],
   "source": [
    "###Dijkstra's algorithm (with some modifications)\n",
    "def find_all_paths(edge_list, start, ends, path=[]):\n",
    "        # print(start)\n",
    "        path = path + [start]\n",
    "        if start in ends:\n",
    "            return [path]\n",
    "        if start not in [edge[0] for edge in edge_list]:\n",
    "            return []\n",
    "        paths = []\n",
    "        for node in [edge[0] for edge in edge_list]:\n",
    "            if node not in path and node in [edge[1] for edge in edge_list if edge[0] == start]:\n",
    "                newpaths = find_all_paths(edge_list, node, ends, path)\n",
    "                for newpath in newpaths:\n",
    "                    paths.append(newpath)\n",
    "        return paths"
   ]
  },
  {
   "cell_type": "code",
   "execution_count": 60,
   "id": "0f30eac8-69b5-44d5-ae0a-8cfe4ff726a7",
   "metadata": {},
   "outputs": [],
   "source": [
    "def remove_dups(path):\n",
    "    remove = []\n",
    "    path_copy = []\n",
    "    for i in range(len(path)-1):\n",
    "        if path[i] == path[i+1]:\n",
    "            remove.append(i)\n",
    "\n",
    "    for i in range(len(path)):\n",
    "        if i not in remove:\n",
    "            path_copy.append(path[i])\n",
    "    # seen = set()\n",
    "    # seen_add = seen.add\n",
    "    # return [x for x in seq if not (x in seen or seen_add(x))]\n",
    "    return path_copy"
   ]
  },
  {
   "cell_type": "code",
   "execution_count": 61,
   "id": "92a6abac-641a-46a4-a6c7-75ab6e77109b",
   "metadata": {},
   "outputs": [],
   "source": [
    "def orig_graph_path(ten, paths, endpoints):\n",
    "    orig_paths = []\n",
    "    for path in paths:\n",
    "        orig_path = []\n",
    "        for node in path:\n",
    "            nodes = [y['name'] for x,y in ten.nodes(data=True) if x == node]\n",
    "            # print(nodes)\n",
    "            node_str = nodes[0].split('-')\n",
    "            orig_node = node_str[0]\n",
    "            orig_path.append(int(orig_node)-1)\n",
    "        orig_paths.append(remove_dups(orig_path))\n",
    "        # orig_paths.append(orig_path)\n",
    "    return orig_paths"
   ]
  },
  {
   "cell_type": "markdown",
   "id": "8c58a6c6-30da-4dea-9f0f-37cc0c84a2e9",
   "metadata": {},
   "source": [
    "## Testing Real-worl Example"
   ]
  },
  {
   "cell_type": "code",
   "execution_count": 62,
   "id": "06b3bc6c-a78a-45f7-a21c-c4909bb8aac3",
   "metadata": {},
   "outputs": [],
   "source": [
    "# orig_paths = ten_to_orig_paths(colored_max_flow_ten,test_ten, toy_net)\n",
    "orig_paths = ten_to_orig_paths(flow_ten,full_TEN, G)"
   ]
  },
  {
   "cell_type": "code",
   "execution_count": 63,
   "id": "ea33b739-0b11-4309-af44-2ac3cfe21969",
   "metadata": {},
   "outputs": [
    {
     "data": {
      "text/plain": [
       "[[1, 0, 4, 77, 4, 77, 4, 77, 62, 20],\n",
       " [1, 0, 4, 77, 4, 77, 4, 77, 62, 20],\n",
       " [1, 0, 4, 77, 4, 77, 4, 77, 62, 20],\n",
       " [30, 40, 41, 52, 55, 28, 26, 29, 47, 48, 50, 16, 12, 15],\n",
       " [30, 27, 26, 29, 47, 48, 65, 90, 65, 48, 64, 91, 15],\n",
       " [30, 40, 43, 28, 26, 29, 47, 48, 50, 16, 91, 15, 71, 15]]"
      ]
     },
     "execution_count": 63,
     "metadata": {},
     "output_type": "execute_result"
    }
   ],
   "source": [
    "orig_paths"
   ]
  },
  {
   "cell_type": "code",
   "execution_count": 26,
   "id": "1390ce36-d147-4ff6-a11c-71e82f2c5b3c",
   "metadata": {},
   "outputs": [],
   "source": [
    "# colors_2=['red' if x in orig_paths[4] else 'white' for x,y in G.nodes(data=True)]\n",
    "# fig,ax = ox.plot_graph(G,show = False, close = False,node_size = 25, node_color = colors_2)"
   ]
  },
  {
   "cell_type": "code",
   "execution_count": 64,
   "id": "e4fb60ff-b4b9-4df4-86c1-dc664011c615",
   "metadata": {},
   "outputs": [
    {
     "data": {
      "image/png": "[encoded data removed]",
      "text/plain": [
       "<Figure size 800x800 with 1 Axes>"
      ]
     },
     "metadata": {},
     "output_type": "display_data"
    }
   ],
   "source": [
    "# fig, ax = ox.plot_graph_route(G, orig_paths[4], route_color='y', route_linewidth=6, node_size=2, show = False, close = False)\n",
    "\n",
    "cl = np.array(ox.plot.get_colors(len(orig_paths),cmap = \"tab20\",return_hex = True))\n",
    "fig, ax = ox.plot_graph_routes(G, orig_paths, route_colors=cl, route_linewidth=3, node_size=0.5, show = False, close = False, route_alpha = 1)"
   ]
  },
  {
   "cell_type": "markdown",
   "id": "0b26c4e0-29f2-4fb6-a593-1c486035bf13",
   "metadata": {
    "jp-MarkdownHeadingCollapsed": true
   },
   "source": [
    "## Testing Garbage"
   ]
  },
  {
   "cell_type": "code",
   "execution_count": null,
   "id": "36743d0e-ee01-444f-811f-f88971470910",
   "metadata": {},
   "outputs": [],
   "source": [
    "edges_w_flow = [(x[0],x[1]) for x in colored_max_flow_ten.edges(data = True) if colored_max_flow_ten[x[0]][x[1]]['color'] == (1,0,0)]\n",
    "edges_w_flow.sort(key=lambda tup: tup[0])\n",
    "\n",
    "start = min(colored_max_flow_ten.nodes)\n",
    "end = max(colored_max_flow_ten.nodes)\n",
    "starts = [edge[1] for edge in edges_w_flow if edge[0]==start]\n",
    "ends = [edge[0] for edge in edges_w_flow if edge[1]==end]"
   ]
  },
  {
   "cell_type": "code",
   "execution_count": null,
   "id": "0195829c-73d5-475a-a1d6-4faf0eeb7cc2",
   "metadata": {},
   "outputs": [],
   "source": [
    "edges_w_flow"
   ]
  },
  {
   "cell_type": "code",
   "execution_count": null,
   "id": "726355c1-f0a4-459f-aa39-7a1cf44143f7",
   "metadata": {},
   "outputs": [],
   "source": [
    "all_paths = []\n",
    "for start in starts:\n",
    "    paths = find_all_paths(edges_w_flow, start, ends, path=[])\n",
    "    all_paths.append(paths)"
   ]
  },
  {
   "cell_type": "code",
   "execution_count": null,
   "id": "e464f89c-2bd5-45d0-b56c-e108b0b61914",
   "metadata": {},
   "outputs": [],
   "source": [
    "all_paths"
   ]
  },
  {
   "cell_type": "code",
   "execution_count": null,
   "id": "ecb7b419-fa89-4dc5-b654-842e18dfc4b2",
   "metadata": {},
   "outputs": [],
   "source": [
    "valid_paths = []\n",
    "for path in paths:\n",
    "    if nx.is_path(test_ten, path) and path not in valid_paths:\n",
    "        valid_paths.append(path)"
   ]
  },
  {
   "cell_type": "code",
   "execution_count": null,
   "id": "64c267b7-6411-48fa-a2b5-7bdf6740a5b9",
   "metadata": {},
   "outputs": [],
   "source": [
    "valid_paths"
   ]
  },
  {
   "cell_type": "code",
   "execution_count": null,
   "id": "35a4876c-3fad-4da7-b5d0-80adaea4283b",
   "metadata": {},
   "outputs": [],
   "source": [
    "valid_orig_paths = orig_graph_path(test_ten, valid_paths, [start, end])\n",
    "# for path in valid_orig_paths:\n",
    "#     if nx.is_path(G, path):\n",
    "#         print(path)\n",
    "#         print('valid path')"
   ]
  },
  {
   "cell_type": "code",
   "execution_count": null,
   "id": "30910762-77df-4909-8dcf-9e25119a7fd7",
   "metadata": {},
   "outputs": [],
   "source": [
    "valid_orig_paths"
   ]
  },
  {
   "cell_type": "code",
   "execution_count": null,
   "id": "337992fe-baca-4e9c-b29a-0bbc5ec34795",
   "metadata": {},
   "outputs": [],
   "source": [
    "cl = np.array(ox.plot.get_colors(len(valid_orig_paths),cmap = \"cool\",return_hex = True))\n",
    "fig, ax = ox.plot_graph_routes(G, valid_orig_paths, route_colors=cl, route_linewidth=3, node_size=0.5, show = False, close = False, route_alpha = 1)"
   ]
  }
 ],
 "metadata": {
  "kernelspec": {
   "display_name": "Python 3 (ipykernel)",
   "language": "python",
   "name": "python3"
  },
  "language_info": {
   "codemirror_mode": {
    "name": "ipython",
    "version": 3
   },
   "file_extension": ".py",
   "mimetype": "text/x-python",
   "name": "python",
   "nbconvert_exporter": "python",
   "pygments_lexer": "ipython3",
   "version": "3.11.5"
  }
 },
 "nbformat": 4,
 "nbformat_minor": 5
}
