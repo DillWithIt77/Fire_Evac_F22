{
 "cells": [
  {
   "cell_type": "markdown",
   "id": "416a74ce-26fe-4813-a016-a4d76d8ae305",
   "metadata": {},
   "source": [
    "# Import Statements"
   ]
  },
  {
   "cell_type": "code",
   "execution_count": 1,
   "id": "760dd62f-2ca8-4874-aa00-34870620a51e",
   "metadata": {},
   "outputs": [],
   "source": [
    "import numpy as np\n",
    "import networkx as nx\n",
    "import math\n",
    "import time\n",
    "from scipy.interpolate import UnivariateSpline\n",
    "import osmnx as ox\n",
    "import matplotlib.pyplot as plt\n",
    "from pyproj import CRS, Transformer\n",
    "from shapely.geometry import Point\n",
    "from shapely.geometry import Polygon\n",
    "from shapely.ops import transform\n",
    "from networkx.algorithms.flow import shortest_augmenting_path"
   ]
  },
  {
   "cell_type": "markdown",
   "id": "f39d6fdc-a0c6-4932-84dd-a18ad9752982",
   "metadata": {},
   "source": [
    "# Functions to Build Real-world Graph"
   ]
  },
  {
   "cell_type": "code",
   "execution_count": 2,
   "id": "ab6df892-5b3d-4f29-a1f4-8e63287ca73e",
   "metadata": {},
   "outputs": [],
   "source": [
    "MOORE_AFTER_BREAK_SPLINE = UnivariateSpline(\n",
    "    [20, 30, 40, 50, 60, 70, 80, 90, 100],\n",
    "    [3.9, 6, 11, 18, 27, 39, 54, 58, 84],\n",
    ")\n",
    "MOORE_BEFORE_BREAK_SPLINE = UnivariateSpline(\n",
    "    [20, 30, 40, 50, 60, 70, 80, 90, 100],\n",
    "    [6, 8, 11, 14, 17, 19, 22, 25, 28],\n",
    ")\n",
    "\n",
    "MOORE_SAFE_BREAKING_DISTANCE = lambda x: MOORE_AFTER_BREAK_SPLINE(\n",
    "    x\n",
    ") + MOORE_BEFORE_BREAK_SPLINE(x)\n",
    "\n",
    "def moore(lanes: float, max_speed: float):\n",
    "    return 1000 * max_speed / MOORE_SAFE_BREAKING_DISTANCE(max_speed) * lanes\n",
    "\n",
    "def add_capacities(G, method=moore):\n",
    "\n",
    "    G = G.copy()\n",
    "    cap = []\n",
    "    \n",
    "    for u, v, i in G.edges:\n",
    "        edge_data = G.get_edge_data(u, v, i)\n",
    "        raw_lanes = edge_data.get(\"lanes\")\n",
    "        \n",
    "        if raw_lanes is None:\n",
    "            lanes = 1\n",
    "            \n",
    "        elif isinstance(raw_lanes, str):\n",
    "            lanes = int(raw_lanes) / 2  \n",
    "            \n",
    "        elif isinstance(raw_lanes, list):\n",
    "            lanes = sum(int(x) for x in raw_lanes) / 2\n",
    "            \n",
    "        G[u][v][i][\"upper\"] = int(method(lanes, edge_data[\"speed_kph\"]))\n",
    "    return G"
   ]
  },
  {
   "cell_type": "code",
   "execution_count": 3,
   "id": "9be92327-65a9-4adb-914e-896f664eacf1",
   "metadata": {},
   "outputs": [],
   "source": [
    "###don't need for max flow/quickest flow\n",
    "def add_costs(G, costs:[int, np.ndarray] = 0):\n",
    "    if type(costs) == int:\n",
    "        for u,v,i in G.edges:\n",
    "            G[u][v][i]['cost'] = costs\n",
    "    else:\n",
    "        count = 0\n",
    "        for u,v,i in G.edges:\n",
    "            G[u][v][i]['cost'] = costs[count]\n",
    "    return G"
   ]
  },
  {
   "cell_type": "code",
   "execution_count": 4,
   "id": "fc1e1f24-ad12-4df8-b8a7-15c85920a92e",
   "metadata": {},
   "outputs": [],
   "source": [
    "def add_orig_dest(G, sup_dem:[int, np.ndarray]):\n",
    "    if type(sup_dem) == int:\n",
    "        for i in G.nodes:\n",
    "            G._node[i]['sup_dem'] = sup_dem\n",
    "    else:\n",
    "        for i in G.nodes:\n",
    "            G._node[i]['sup_dem'] = sup_dem[i]\n",
    "    return G"
   ]
  },
  {
   "cell_type": "code",
   "execution_count": 5,
   "id": "2651f864-10ac-42f9-992c-a0797fa9f69c",
   "metadata": {},
   "outputs": [],
   "source": [
    "def proj_lat_lngs(lats, lngs, G):\n",
    "    #convert lat and longs to point geometry\n",
    "    pnts_list = [Point((lng, lat)) for lat, lng in zip(lats, lngs)]\n",
    "    \n",
    "    #convert list of points into Geoseries of points\n",
    "    #(EPSG:4326 is WGS84)\n",
    "    pnts = gpd.GeoSeries(pnts_list, crs='epsg:4326')\n",
    "    \n",
    "    #convert points to CRS from OSMNX projection\n",
    "    proj_pnts = pnts.to_crs(G.graph['crs'])\n",
    "    return proj_pnts\n",
    "\n",
    "def switch(key):\n",
    "    if key == \"Boulder\":\n",
    "        return (479800,4424260,489130,4429760)\n",
    "    elif key == \"Pueblo\":\n",
    "        return (5255180,4250280,514380,4423270)\n",
    "    elif key == \"Lyons\":\n",
    "        return (477230,4453570,476140,4430890)\n",
    "    elif key == \"Jefferson\":\n",
    "        return (489685,4379999,494940,4393420)\n",
    "    elif key == \"Sonoma\":\n",
    "        return (512007,4273277,525300,4255270)\n",
    "    elif key == \"Butte\":\n",
    "        # return (621540,4406520,599230,4400090)\n",
    "        df_sinks = pd.read_csv('optimal_sinks.csv')  \n",
    "        df_sources = pd.read_csv('sources.csv')\n",
    "        lat = [df_sinks['lat'][0],df_sources['lat'][0]]\n",
    "        long = [df_sinks['lon'][0],df_sources['lon'][0]]\n",
    "        return (lat, long)\n",
    "    else:\n",
    "        raise Exception(\"Please enter a valid location.\")\n",
    "        exit()\n",
    "        \n",
    "###find nodes in network closestest to desired destinations\n",
    "def orig_dest_nodes(network,location):\n",
    "    ###do not test Butte yet (prjections might be weird)\n",
    "    if location == \"Butte\":\n",
    "        lat,long = switch(location)\n",
    "        proj_sink_source = proj_lat_lngs(lat, long, network)\n",
    "        orig=ox.distance.nearest_nodes(network,proj_sink_source.x[1],proj_sink_source.y[1],return_dist=False)\n",
    "        dest=ox.distance.nearest_nodes(network,proj_sink_source.x[0],proj_sink_source.y[0],return_dist=False)\n",
    "    else:\n",
    "        lat_start,long_start,lat_end,long_end = switch(location)\n",
    "        orig=ox.distance.nearest_nodes(network,lat_start,long_start,return_dist=False)\n",
    "        dest=ox.distance.nearest_nodes(network,lat_end,long_end,return_dist=False)\n",
    "    return orig, dest"
   ]
  },
  {
   "cell_type": "markdown",
   "id": "43c203cf-c6cd-483f-a771-62825dc3adf6",
   "metadata": {},
   "source": [
    "# Functions to set up for Max Flow Alogirthm"
   ]
  },
  {
   "cell_type": "code",
   "execution_count": 6,
   "id": "2b928b7f-25cd-4639-a819-0a23c29fcaae",
   "metadata": {},
   "outputs": [],
   "source": [
    "def add_s_t(G, ten, time_horizon,removed_nodes_mat):\n",
    "    start = time.time()\n",
    "    orig_nodes = list(G.nodes)\n",
    "    ten_nodes = list(ten.nodes)\n",
    "\n",
    "    sup_nodes = [x for x,y in G.nodes(data=True) if y['sup_dem'] > 0]\n",
    "    dem_nodes = [x for x,y in G.nodes(data=True) if y['sup_dem'] < 0]\n",
    "    \n",
    "    s = 0\n",
    "    t = max(ten_nodes)+1\n",
    "    \n",
    "    ten.add_node(s,name = f'{s}-{0}',level = 0)\n",
    "    ten.add_node(t,name = f'{len(orig_nodes)}-{time_horizon-1}',level = time_horizon-1)\n",
    "    \n",
    "    for i in range(len(orig_nodes)):\n",
    "        if i in sup_nodes:\n",
    "            ten.add_edge(s, i+1, cost = 0, upper = G._node[i]['sup_dem'], lower = 0)\n",
    "        elif i in dem_nodes:\n",
    "            ###need to add in check for last time interval node is still available\n",
    "            for k in range(time_horizon-1):\n",
    "                added = False\n",
    "                if i in removed_nodes_mat[k+1]:\n",
    "                    ten.add_edge((i+1) + ((k) * len(orig_nodes)),t, cost = 0, upper = -G._node[i]['sup_dem'], lower = 0)\n",
    "                    added = True\n",
    "                    break;\n",
    "            if added is False:\n",
    "                ten.add_edge((i+1) + ((time_horizon-1) * len(orig_nodes)),t, cost = 0, upper = -G._node[i]['sup_dem'], lower = 0)\n",
    "\n",
    "    end = time.time()\n",
    "    print('Add Super Source and Sink Time: ',end-start)\n",
    "    return ten"
   ]
  },
  {
   "cell_type": "code",
   "execution_count": 7,
   "id": "9f41bda9-e133-4645-8c56-2924fdc9ae02",
   "metadata": {},
   "outputs": [],
   "source": [
    "###note that this function does not account for the cost of each edge, just the capacity\n",
    "def simplify_multigraph(graph):\n",
    "    start = time.time()\n",
    "    num_nodes = max(graph.nodes)\n",
    "    edges = graph.edges\n",
    "    \n",
    "    simp_graph = nx.DiGraph()\n",
    "    simp_graph.add_nodes_from(graph.nodes(data=True))\n",
    "    \n",
    "    for i in range(num_nodes+1):\n",
    "        for j in range(num_nodes+1):\n",
    "            if (i,j) in edges:\n",
    "                num_edges = graph.number_of_edges(i,j)\n",
    "                tot_cap = graph[i][j][num_edges-1]['upper']\n",
    "                if num_edges > 1:\n",
    "                    for k in range(1,num_edges):\n",
    "                        tot_cap = tot_cap + graph[i][j][k]['upper']\n",
    "                simp_graph.add_edge(i,j, upper = tot_cap, lower = 0)\n",
    "    end = time.time()  \n",
    "    print('Conversion to Digraph Time: ',end-start)\n",
    "    return simp_graph"
   ]
  },
  {
   "cell_type": "code",
   "execution_count": 8,
   "id": "9142df24-009f-47e4-a76d-03e758a23cb7",
   "metadata": {},
   "outputs": [],
   "source": [
    "def color_max_flow(graph, flow_dict):\n",
    "    num_nodes = max(graph.nodes)+1\n",
    "    edges = graph.edges\n",
    "    \n",
    "    # for i in range(num_nodes):\n",
    "    #     for j in range(num_nodes):\n",
    "    #         if (i,j) in edges:\n",
    "    #             graph[i][j]['color'] = (0,0,0)\n",
    "    #             if flow_dict[i][j] != 0:\n",
    "    #                 graph[i][j]['color'] = (1,0,0)\n",
    "    for (i,j) in edges:\n",
    "        graph[i][j]['color'] = (0,0,0)\n",
    "        if flow_dict[i][j] !=0:\n",
    "            graph[i][j]['color'] = (1,0,0)\n",
    "                    \n",
    "    return graph"
   ]
  },
  {
   "cell_type": "markdown",
   "id": "160e9f15-0985-42e9-b1c2-5161211e551c",
   "metadata": {},
   "source": [
    "# Functions to Include Fire Data with Graph"
   ]
  },
  {
   "cell_type": "code",
   "execution_count": 9,
   "id": "e347e816-e3cd-47eb-9fc5-c6f52c7cb327",
   "metadata": {},
   "outputs": [],
   "source": [
    "def geodesic_point_buffer(graph,lat, lon, radius):\n",
    "    \"\"\"\n",
    "    Creates circles from given latitude, longitude, and radius\n",
    "    :param lat: latitude from original data\n",
    "    :param lon: longitude from original data\n",
    "    :param radius: radius from original data\n",
    "    \"\"\"\n",
    "    # Azimuthal equidistant projection\n",
    "    aeqd_proj = CRS.from_proj4(f\"+proj=aeqd +lat_0={lat} +lon_0={lon} +x_0=0 +y_0=0\")\n",
    "    tfmr = Transformer.from_proj(aeqd_proj, aeqd_proj.geodetic_crs)\n",
    "    buf = Point(0, 0).buffer(radius * 1609.34)  # distance in miles (converts from meters to miles)\n",
    "    circle = Polygon(transform(tfmr.transform, buf).exterior.coords[:])\n",
    "    net_trans = Transformer.from_crs(aeqd_proj.geodetic_crs, graph.graph['crs'])\n",
    "    proj_circ = Polygon(transform(net_trans.transform,circle).exterior.coords[:])\n",
    "    \n",
    "    return proj_circ"
   ]
  },
  {
   "cell_type": "code",
   "execution_count": 10,
   "id": "2778c59b-ab65-4715-9d95-1af19e6b7979",
   "metadata": {},
   "outputs": [],
   "source": [
    "def det_rem_parts(G, fire_polygon, smoke_polygon):\n",
    "    ###find nodes inside poly to remove\n",
    "    start_gs = time.process_time()\n",
    "    gs_nodes = ox.utils_graph.graph_to_gdfs(G,nodes = True,edges = False, node_geometry = True)[['geometry']]\n",
    "    gs_edges = ox.utils_graph.graph_to_gdfs(G,nodes = False, edges = True)[['geometry']]\n",
    "    end_gs = time.process_time()\n",
    "    # print (\"Time elapsed for gs: \", end_gs - start_gs)\n",
    "\n",
    "    nodes_to_remove = []\n",
    "    edges_to_remove = []\n",
    "    start_to_remove = time.process_time()\n",
    "    for point in gs_nodes['geometry']:\n",
    "        ###currently this takes a long time to run, but a smaller polygon might make this run faster\n",
    "        if point.intersects(smoke_polygon):\n",
    "            node = ox.distance.nearest_nodes(G,point.x,point.y,return_dist=False)\n",
    "            nodes_to_remove.append(node)\n",
    "    for i in range(len(gs_edges)):\n",
    "        entry =  gs_edges.iloc[i]\n",
    "        if entry['geometry'].intersects(fire_polygon):\n",
    "            entry = gs_edges.iloc[[i]]\n",
    "            edges_to_remove.append(entry['geometry'].index[0])\n",
    "    end_to_remove = time.process_time()\n",
    "    # print (\"Time elapsed for create remove list: \", end_to_remove - start_to_remove)\n",
    "\n",
    "    return (nodes_to_remove, edges_to_remove)"
   ]
  },
  {
   "cell_type": "code",
   "execution_count": 11,
   "id": "23288c97-d465-4f42-9674-08b27e6148b4",
   "metadata": {},
   "outputs": [],
   "source": [
    "def create_fire_mat(G, fire_origin, init_radius, time_horizon, removed_node_mat, removed_edge_mat):\n",
    "    start = time.time()\n",
    "    time_ints_done = len(removed_node_mat)-1\n",
    "    # print('time ints done: ', time_ints_done)\n",
    "    # print('T: ', time_horizon)\n",
    "    for i in range(time_ints_done,time_horizon):\n",
    "        ###create fire_poly and smoke_poly in coordinate system of network\n",
    "        # radius = init_radius+(0.00025*i) #increase the radius by 0.025 of a meter with each time step\n",
    "        radius = init_radius #increase the radius by a quarter meter with each time step\n",
    "        fire_polygon = geodesic_point_buffer(G,fire_origin[0],fire_origin[1],radius)\n",
    "        smoke_polygon = geodesic_point_buffer(G,fire_origin[0],fire_origin[1],radius*1.01)\n",
    "                                              \n",
    "        removed_nodes,removed_edges = det_rem_parts(G, fire_polygon, smoke_polygon)\n",
    "        \n",
    "        removed_node_mat.append(removed_nodes)\n",
    "        removed_edge_mat.append(removed_edges)\n",
    "        \n",
    "    end = time.time()\n",
    "    print(f\"Time to do Fire Poly for Time Horizon {time_horizon}: {end - start}\")\n",
    "    \n",
    "    return (removed_node_mat, removed_edge_mat)"
   ]
  },
  {
   "cell_type": "markdown",
   "id": "bcf3461f-a36e-4f2d-9681-780dce15278a",
   "metadata": {},
   "source": [
    "# Create TEN (accounts for removed nodes and arcs)"
   ]
  },
  {
   "cell_type": "code",
   "execution_count": 12,
   "id": "9c0a53c8-e9a5-4090-b716-9bf4ae5fed7a",
   "metadata": {},
   "outputs": [],
   "source": [
    "def time_expand_with_removal(G, time_int_size, time_horizon,removed_nodes_mat, removed_edges_mat):\n",
    "    start = time.time()\n",
    "    orig_nodes = list(G.nodes)\n",
    "    orig_edges = list(G.edges)\n",
    "    ten = nx.DiGraph()\n",
    "\n",
    "    ###add in all nodes for time-expanded network\n",
    "    node_num = 1\n",
    "    for j in range(time_horizon):\n",
    "        for i in range(len(orig_nodes)):\n",
    "            #check that i is not one of nodes that have been removed during that time interval\n",
    "            if i not in removed_nodes_mat[j]:\n",
    "                if j == 0:\n",
    "                    node_name = f'{i+1}-{j}'\n",
    "                    ten.add_node(node_num, name = node_name, level = j, sup_dem = G._node[i]['sup_dem'])\n",
    "                else:\n",
    "                    node_name = f'{i+1}-{j}'\n",
    "                    ten.add_node(node_num, name = node_name, level = j, sup_dem = 0)\n",
    "            node_num += 1\n",
    "            \n",
    "    ###add in hold over arcs for supply/demand nodes\n",
    "    for i in range(len(orig_nodes)):\n",
    "        if G._node[i]['sup_dem'] >  0:\n",
    "            for j in range(time_horizon-1):\n",
    "                if i not in removed_nodes_mat[j+1]:\n",
    "                    ten.add_edge((i+1)+(len(orig_nodes)*j),(i+1)+(len(orig_nodes)*(j+1)),cost = 0, upper =  G._node[i]['sup_dem'] , lower = 0)\n",
    "        elif G._node[i]['sup_dem'] <  0:\n",
    "            for j in range(time_horizon-1):\n",
    "                if i not in removed_nodes_mat[j+1]:\n",
    "                    ten.add_edge((i+1)+(len(orig_nodes)*j),(i+1)+(len(orig_nodes)*(j+1)),cost = 0, upper =  -G._node[i]['sup_dem'] , lower = 0 )\n",
    "\n",
    "    ###in the case of a multidigraph\n",
    "    if G.is_multigraph():\n",
    "        node_num = 0\n",
    "        for j in range(time_horizon-1):\n",
    "            for i in range(len(orig_nodes)):\n",
    "                ###keep track of node number for the overall network (need to account for nodes in the expansions)\n",
    "                node_num +=1\n",
    "                if i not in removed_nodes_mat[j]:\n",
    "                    for k in range(len(orig_nodes)):\n",
    "                        for m in range(G.number_of_edges(i,k)+1):\n",
    "                            ###check if edge exists in graph\n",
    "                            if (i,k,m) in orig_edges and (i,k,m) not in removed_edges_mat[j]:\n",
    "                                ###deteremine how many time intervals it will cross\n",
    "                                time_int_end = math.ceil(G[i][k][m]['travel_time']/time_int_size)\n",
    "                                ###check if the number it crosses exist in the network\n",
    "                                if time_int_end+j < time_horizon:\n",
    "                                    ###check that end node exists during that time interval\n",
    "                                    if k not in removed_nodes_mat[time_int_end+j]:\n",
    "                                        if (node_num,(node_num)+(k-i)+(len(orig_nodes)*time_int_end)) in ten.edges:\n",
    "                                            # current_cap = ten[node_num][(node_num)+(k-i)+(len(orig_nodes)*time_int_end)]['upper']\n",
    "                                            ten[node_num][(node_num)+(k-i)+(len(orig_nodes)*time_int_end)]['upper'] += G[i][k][m]['upper']\n",
    "                                        ####add edge to time-expanded network\n",
    "                                        # print(f'added edge: {node_num},{(node_num)+(k-i)+(len(orig_nodes)*time_int_end)}')\n",
    "                                        else:\n",
    "                                            ten.add_edge(node_num,(node_num)+(k-i)+(len(orig_nodes)*time_int_end),cost = G[i][k][m]['cost'] ,upper = G[i][k][m]['upper'], lower = 0)\n",
    "\n",
    "    ##in the case of a digraph that is not a multdigraph\n",
    "    elif G.is_directed():\n",
    "        node_num = 0\n",
    "        for j in range(time_horizon-1):\n",
    "            for i in range(len(orig_nodes)):\n",
    "                ###keep track of node number for the overall network (need to account for nodes in the expansions)\n",
    "                node_num +=1\n",
    "                if i not in removed_nodes_mat[j]:\n",
    "                    for k in range(len(orig_nodes)):\n",
    "                        ###check if edge exists in graph\n",
    "                        if (i,k) in orig_edges and (i,k) not in removed_edges_mat[j]:\n",
    "                            ###deteremine how many time intervals it will cross\n",
    "                            time_int_end = math.ceil(G[i][k]['travel_time']/time_int_size)\n",
    "                            ###check if the number it crosses exist in the network\n",
    "                            if time_int_end+j < time_horizon:\n",
    "                                ###check that end node exists during that time interval\n",
    "                                if k not in removed_nodes_mat[time_int_end+j]:\n",
    "                                    if (node_num,(node_num)+(k-i)+(len(orig_nodes)*time_int_end)) in ten.edges:\n",
    "                                            # current_cap = ten[node_num][(node_num)+(k-i)+(len(orig_nodes)*time_int_end)]['upper']\n",
    "                                            ten[node_num][(node_num)+(k-i)+(len(orig_nodes)*time_int_end)]['upper'] += G[i][k]['upper']\n",
    "                                        ####add edge to time-expanded network\n",
    "                                        # print(f'added edge: {node_num},{(node_num)+(k-i)+(len(orig_nodes)*time_int_end)}')\n",
    "                                    else:\n",
    "                                        ####add edge to time-expanded network\n",
    "                                        ten.add_edge(node_num,(node_num)+(k-i)+(len(orig_nodes)*time_int_end),cost = G[i][k]['cost'] ,upper = G[i][k]['upper'], lower = 0)\n",
    "    else:\n",
    "        raise Exception(\"Must Input a DiGraph or MultiDiGraph\")\n",
    "\n",
    "    ###Remove isolated nodes in TEN\n",
    "    ten.remove_nodes_from(list(nx.isolates(ten)))\n",
    "    \n",
    "    end = time.time()\n",
    "    ###used for checking how long larger networks/expansions take to construct\n",
    "    if end-start > 1:\n",
    "        # print('Number of Time Intervals:', time_horizon)\n",
    "        # print('Build Time: ',end-start, ' seconds')\n",
    "        print(f'Time to build TEN for T = {time_horizon}: {end-start}')\n",
    "\n",
    "    return ten"
   ]
  },
  {
   "cell_type": "markdown",
   "id": "e65c9649-e0df-496b-9243-a939ea4dad5e",
   "metadata": {},
   "source": [
    "# Determine number of Time Intervals to Evacuate People"
   ]
  },
  {
   "cell_type": "code",
   "execution_count": 13,
   "id": "bbdf79bf-d6ff-4124-a7b4-3c0c5d794eda",
   "metadata": {},
   "outputs": [],
   "source": [
    "def det_num_int(G, pop, fire_orgin, init_radius):\n",
    "    \n",
    "    flow_value = 0\n",
    "\n",
    "    dem_nodes = [x for x,y in G.nodes(data=True) if y['sup_dem'] < 0]\n",
    "    sup_nodes = [x for x,y in G.nodes(data=True) if y['sup_dem'] > 0]\n",
    "    longest_time = 0\n",
    "    for source in sup_nodes:\n",
    "        for sink in dem_nodes:\n",
    "            current_travel_time = nx.shortest_path_length(G, source, sink, 'travel_time')\n",
    "            if current_travel_time >= longest_time:\n",
    "                longest_time = current_travel_time\n",
    "                shortest_path = nx.shortest_path(G, source, sink,'travel_time')\n",
    "                \n",
    "    time_int_len = 1\n",
    "    num_time_ints = math.ceil(longest_time)+len(shortest_path) ###time zero is when num_time_ints = 1\n",
    "    # num_time_ints = 2\n",
    "\n",
    "    print(num_time_ints)\n",
    "\n",
    "    ten = nx.DiGraph()\n",
    "    # simp_tem = nx.DiGraph()\n",
    "    s_t_ten = nx.DiGraph()\n",
    "    flow_value = 0\n",
    "    flow_dict = {}\n",
    "    removed_nodes_mat = []\n",
    "    removed_edges_mat = []\n",
    "\n",
    "    while flow_value < pop:\n",
    "    # while num_time_ints <= 6:\n",
    "        \n",
    "        # ten, removed_nodes_mat, removed_edges_mat = time_expand_with_removal(G, time_int_len, num_time_ints, fire_origin, init_radius)\n",
    "        \n",
    "        removed_nodes_mat,removed_edges_mat = create_fire_mat(G, fire_origin, init_radius, num_time_ints,removed_nodes_mat,removed_edges_mat)\n",
    "        if (len(sup_nodes)+len(dem_nodes)) == len(removed_nodes_mat[num_time_ints-1]):\n",
    "            print(f\"All sinks have been taken by the fire, not everyone can evacuate by time horizon {time_horizon}.\")\n",
    "            print(f\"Will return solution for time horizon{num_time_ints-1}\")\n",
    "            time_horizon = time_horizon-1\n",
    "\n",
    "            ten = time_expand_with_removal(G, time_int_len, num_time_ints, removed_nodes_mat, removed_edges_mat)\n",
    "            s_t_ten = add_s_t(G, ten, num_time_ints, removed_nodes_mat)\n",
    "            flow_value, flow_dict = nx.maximum_flow(s_t_ten, 0, max(list(s_t_ten.nodes)),capacity = 'upper',flow_func = shortest_augmenting_path)\n",
    "            break;\n",
    "        else:\n",
    "            ten = time_expand_with_removal(G, time_int_len, num_time_ints, removed_nodes_mat, removed_edges_mat)\n",
    "            s_t_ten = add_s_t(G, ten, num_time_ints, removed_nodes_mat)\n",
    "            # simp_ten = simplify_multigraph(s_t_ten)\n",
    "            start = time.time()\n",
    "            flow_value, flow_dict = nx.maximum_flow(s_t_ten, 0, max(list(s_t_ten.nodes)),capacity = 'upper',flow_func = shortest_augmenting_path)\n",
    "            end = time.time()\n",
    "            print(f'Time for Max Flow Algorithm {end-start} seconds')\n",
    "\n",
    "            num_time_ints +=1\n",
    "        \n",
    "    start = time.time()\n",
    "    colored_max_flow_ten = color_max_flow(s_t_ten,flow_dict)\n",
    "    end = time.time()\n",
    "    print(f'Time to color edges with Flow in TEN: {end-start}')\n",
    "    # num_nodes = max(list(colored_max_flow_ten))\n",
    "    # pos = nx.multipartite_layout(s_t_ten, subset_key=\"level\")\n",
    "    # pos[0]= np.array([pos[1][0]-0.05,pos[1][1]])\n",
    "    # pos[max(s_t_ten.nodes)] = np.array([pos[max(s_t_ten.nodes)-1][0]+0.05,pos[max(s_t_ten.nodes)-1][1]])\n",
    "    # colors = [colored_max_flow_ten[u][v]['color'] for u,v in colored_max_flow_ten.edges]\n",
    "    # nx.draw(colored_max_flow_ten, pos, edge_color=colors,with_labels = True)\n",
    "    \n",
    "    return (num_time_ints-1, flow_value, colored_max_flow_ten, flow_dict) \n",
    "    # return (num_time_ints, flow_value, ten, flow_dict) "
   ]
  },
  {
   "cell_type": "markdown",
   "id": "f7a55e32-d4af-4b04-843f-718c8e8ab3e8",
   "metadata": {},
   "source": [
    "# Build Real-world Graph"
   ]
  },
  {
   "cell_type": "code",
   "execution_count": 14,
   "id": "4a70d7a0-d27b-42c9-818e-1614c448a139",
   "metadata": {},
   "outputs": [
    {
     "name": "stdout",
     "output_type": "stream",
     "text": [
      "Importing Network Complete\n",
      "Consolidation Complete\n",
      "Speed Added\n",
      "Travel Time Added\n",
      "Capacities Added\n",
      "Costs Added\n",
      "Supply and Demand Values Added\n",
      "Time to Build Original Network:  0.48701906204223633  seconds\n"
     ]
    }
   ],
   "source": [
    "start = time.time()\n",
    "#import data from osmnx, can input any city, state, etc.\n",
    "G = ox.project_graph(ox.graph_from_place('Lyons Colorado', network_type='drive'))\n",
    "print('Importing Network Complete')\n",
    "\n",
    "#get rid of intersections that are not actually intersections\n",
    "G = ox.simplification.consolidate_intersections(G, tolerance=10, rebuild_graph=True, dead_ends=True, reconnect_edges = True)\n",
    "print('Consolidation Complete')\n",
    "\n",
    "#add edge speeds\n",
    "G = ox.speed.add_edge_speeds(G)\n",
    "print('Speed Added')\n",
    "\n",
    "#add travel times\n",
    "G = ox.speed.add_edge_travel_times(G)\n",
    "print('Travel Time Added')\n",
    "\n",
    "#add capacities (computed using moore method)\n",
    "G = add_capacities(G)\n",
    "print('Capacities Added')\n",
    "\n",
    "###only need if doing something with min-cost\n",
    "costs = 0\n",
    "G = add_costs(G,costs)\n",
    "print('Costs Added')\n",
    "\n",
    "#sup_dem:int = 0\n",
    "orig,dest = orig_dest_nodes(G,\"Lyons\")\n",
    "sup_dem = np.zeros(len(G.nodes))\n",
    "sup_dem[orig] = 2000\n",
    "sup_dem[dest] = -2000\n",
    "# sup_dem[10] = 2000\n",
    "# sup_dem[max(G.nodes)] = -2000\n",
    "G = add_orig_dest(G,sup_dem)\n",
    "print('Supply and Demand Values Added')\n",
    "\n",
    "# ###remove self-loops\n",
    "# G = G.remove_edges_from(list(nx.selfloop_edges(G)))\n",
    "# print('Self-loops Removed')\n",
    "\n",
    "end = time.time()\n",
    "\n",
    "print('Time to Build Original Network: ',end-start, ' seconds')"
   ]
  },
  {
   "cell_type": "code",
   "execution_count": 15,
   "id": "f3c0ef7c-4729-452b-9654-fa37e66d01f8",
   "metadata": {},
   "outputs": [
    {
     "data": {
      "image/png": "[encoded data removed]",
      "text/plain": [
       "<Figure size 800x800 with 1 Axes>"
      ]
     },
     "metadata": {},
     "output_type": "display_data"
    }
   ],
   "source": [
    "colors=['red' if y['sup_dem'] < 0 else 'blue' if y['sup_dem'] > 0 else 'white' for x,y in G.nodes(data=True)]\n",
    "# fig,ax = ox.plot_graph(G,show = False, close = False,node_size = 1)\n",
    "# ox.plot_graph(G, node_color = colors, node_size=1, edge_linewidth=6,show = False, close = False, ax = ax)\n",
    "# nx.draw_networkx(G,pos, node_color=color_map)\n",
    "\n",
    "fig,ax = ox.plot_graph(G,show = False, close = False,node_size = 25, node_color = colors)\n",
    "plt.show()"
   ]
  },
  {
   "cell_type": "markdown",
   "id": "cdbfaccc-524a-42b0-934e-1a476d8e7f6d",
   "metadata": {},
   "source": [
    "# Code for Build Testing"
   ]
  },
  {
   "cell_type": "code",
   "execution_count": 16,
   "id": "b296e274-8120-498f-9e46-a14c035b83c5",
   "metadata": {},
   "outputs": [
    {
     "name": "stdout",
     "output_type": "stream",
     "text": [
      "294\n",
      "Time to do Fire Poly for Time Horizon 294: 13.65027379989624\n",
      "Time to build TEN for T = 294: 10.860710382461548\n",
      "Add Super Source and Sink Time:  0.0\n",
      "Time for Max Flow Algorithm 0.9524409770965576 seconds\n",
      "Time to color edges with Flow in TEN: 0.03208661079406738\n",
      "Number of Time Intervals: 294\n",
      "Flow Value: 2000.0\n"
     ]
    }
   ],
   "source": [
    "fire_origin = [40.229520, -105.263912]\n",
    "# fire_origin = [40.213739, -105.279067]\n",
    "lyons = G.copy()\n",
    "fire_radius =  0\n",
    "\n",
    "\n",
    "num_time_ints, max_flow, G_test,flow_dict = det_num_int(lyons,200, fire_origin, fire_radius)\n",
    "print('Number of Time Intervals:',num_time_ints)\n",
    "print('Flow Value:', max_flow)"
   ]
  },
  {
   "cell_type": "code",
   "execution_count": 17,
   "id": "79224ca9-3640-4b6f-907c-c1f151ca9f36",
   "metadata": {},
   "outputs": [],
   "source": [
    "###Dijkstra's algorithm (with some modifications)\n",
    "def find_all_paths(edge_list, start, ends, path=[]):\n",
    "        # print(start)\n",
    "        path = path + [start]\n",
    "        if start in ends:\n",
    "            return [path]\n",
    "        if start not in [edge[0] for edge in edge_list]:\n",
    "            return []\n",
    "        paths = []\n",
    "        for node in [edge[0] for edge in edge_list]:\n",
    "            if node not in path and node in [edge[1] for edge in edge_list if edge[0] == start]:\n",
    "                newpaths = find_all_paths(edge_list, node, ends, path)\n",
    "                for newpath in newpaths:\n",
    "                    paths.append(newpath)\n",
    "        return paths"
   ]
  },
  {
   "cell_type": "code",
   "execution_count": 18,
   "id": "36743d0e-ee01-444f-811f-f88971470910",
   "metadata": {},
   "outputs": [],
   "source": [
    "edges_w_flow = [(x[0],x[1]) for x in G_test.edges(data = True) if G_test[x[0]][x[1]]['color'] == (1,0,0)]\n",
    "# print(len(edges_w_flow))\n",
    "edges_w_flow.sort(key=lambda tup: tup[0])\n",
    "# print(edges_w_flow)\n",
    "\n",
    "start = min(G_test.nodes)\n",
    "end = max(G_test.nodes)\n",
    "starts = [edge[1] for edge in edges_w_flow if edge[0]==start]\n",
    "ends = [edge[0] for edge in edges_w_flow if edge[1]==end]\n",
    "# print(starts)\n",
    "# print(ends)"
   ]
  },
  {
   "cell_type": "code",
   "execution_count": 19,
   "id": "726355c1-f0a4-459f-aa39-7a1cf44143f7",
   "metadata": {},
   "outputs": [],
   "source": [
    "# all_paths = []\n",
    "# for source in starts:\n",
    "#     print(source)\n",
    "#     paths = find_all_paths(edges_w_flow, source, ends, path=[])\n",
    "#     all_paths.append(paths)\n",
    "\n",
    "paths = find_all_paths(edges_w_flow, start, ends, path=[])"
   ]
  },
  {
   "cell_type": "code",
   "execution_count": 20,
   "id": "6dc522cf-937a-492b-9ce3-d2958ea50941",
   "metadata": {},
   "outputs": [],
   "source": [
    "# all_paths"
   ]
  },
  {
   "cell_type": "code",
   "execution_count": 21,
   "id": "ecb7b419-fa89-4dc5-b654-842e18dfc4b2",
   "metadata": {},
   "outputs": [],
   "source": [
    "valid_paths = []\n",
    "# for paths in all_paths:\n",
    "#     for path in paths:\n",
    "#         if nx.is_path(G_test, path) and path not in valid_paths:\n",
    "#             valid_paths.append(path)\n",
    "\n",
    "for path in paths:\n",
    "    if nx.is_path(G_test, path) and path not in valid_paths:\n",
    "        valid_paths.append(path)"
   ]
  },
  {
   "cell_type": "code",
   "execution_count": 22,
   "id": "8a94f903-6d12-4e38-9b18-2b4a2691aad2",
   "metadata": {},
   "outputs": [],
   "source": [
    "# valid_paths"
   ]
  },
  {
   "cell_type": "code",
   "execution_count": 23,
   "id": "0f30eac8-69b5-44d5-ae0a-8cfe4ff726a7",
   "metadata": {},
   "outputs": [],
   "source": [
    "def remove_dups(seq):\n",
    "    seen = set()\n",
    "    seen_add = seen.add\n",
    "    return [x for x in seq if not (x in seen or seen_add(x))]"
   ]
  },
  {
   "cell_type": "code",
   "execution_count": 24,
   "id": "92a6abac-641a-46a4-a6c7-75ab6e77109b",
   "metadata": {},
   "outputs": [],
   "source": [
    "def orig_graph_path(ten, paths, endpoints):\n",
    "    orig_paths = []\n",
    "    for path in paths:\n",
    "        orig_path = []\n",
    "        for node in path:\n",
    "            # print(node)\n",
    "            if node not in endpoints:\n",
    "                nodes = [y['name'] for x,y in ten.nodes(data=True) if x == node]\n",
    "                # print(nodes)\n",
    "                node_str = nodes[0].split('-')\n",
    "                orig_node = node_str[0]\n",
    "                # print(int(orig_node))\n",
    "                orig_path.append(int(orig_node)-1)\n",
    "        orig_paths.append(remove_dups(orig_path))\n",
    "        # orig_paths.append(orig_path)\n",
    "    return orig_paths"
   ]
  },
  {
   "cell_type": "code",
   "execution_count": 25,
   "id": "35a4876c-3fad-4da7-b5d0-80adaea4283b",
   "metadata": {},
   "outputs": [
    {
     "name": "stdout",
     "output_type": "stream",
     "text": [
      "[57, 59, 82, 42, 40, 43, 28, 26, 29, 47, 48, 50, 16, 12, 14, 23, 19, 17, 20, 62, 77]\n",
      "valid path\n",
      "[57, 59, 82, 42, 40, 41, 28, 26, 29, 47, 48, 50, 16, 12, 14, 23, 19, 17, 20, 62, 77]\n",
      "valid path\n"
     ]
    }
   ],
   "source": [
    "valid_orig_paths = orig_graph_path(G_test, valid_paths, [start, end])\n",
    "for path in valid_orig_paths:\n",
    "    if nx.is_path(G, path):\n",
    "        print(path)\n",
    "        print('valid path')\n",
    "# valid_orig_paths"
   ]
  },
  {
   "cell_type": "code",
   "execution_count": 26,
   "id": "5fcae2bc-04fc-43be-9dc6-9453eb2e7e76",
   "metadata": {},
   "outputs": [],
   "source": [
    "# colors=['red' if x in valid_orig_paths[1] else 'white' for x,y in G.nodes(data=True)]\n",
    "# # fig,ax = ox.plot_graph(G,show = False, close = False,node_size = 1)\n",
    "# # ox.plot_graph(G, node_color = colors, node_size=1, edge_linewidth=6,show = False, close = False, ax = ax)\n",
    "# # nx.draw_networkx(G,pos, node_color=color_map)\n",
    "\n",
    "# fig,ax = ox.plot_graph(G,show = False, close = False,node_size = 25, node_color = colors)\n",
    "# plt.show()"
   ]
  },
  {
   "cell_type": "code",
   "execution_count": 27,
   "id": "337992fe-baca-4e9c-b29a-0bbc5ec34795",
   "metadata": {},
   "outputs": [
    {
     "data": {
      "image/png": "[encoded data removed]",
      "text/plain": [
       "<Figure size 800x800 with 1 Axes>"
      ]
     },
     "metadata": {},
     "output_type": "display_data"
    }
   ],
   "source": [
    "cl = np.array(ox.plot.get_colors(len(valid_orig_paths),cmap = \"cool\",return_hex = True))\n",
    "fig, ax = ox.plot_graph_routes(G, valid_orig_paths, route_colors=cl, route_linewidth=3, node_size=0.5, show = False, close = False, route_alpha = 1)"
   ]
  }
 ],
 "metadata": {
  "kernelspec": {
   "display_name": "Python 3 (ipykernel)",
   "language": "python",
   "name": "python3"
  },
  "language_info": {
   "codemirror_mode": {
    "name": "ipython",
    "version": 3
   },
   "file_extension": ".py",
   "mimetype": "text/x-python",
   "name": "python",
   "nbconvert_exporter": "python",
   "pygments_lexer": "ipython3",
   "version": "3.11.5"
  }
 },
 "nbformat": 4,
 "nbformat_minor": 5
}
