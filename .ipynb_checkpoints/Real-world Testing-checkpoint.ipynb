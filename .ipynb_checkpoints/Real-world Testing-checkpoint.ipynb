{
 "cells": [
  {
   "cell_type": "markdown",
   "id": "416a74ce-26fe-4813-a016-a4d76d8ae305",
   "metadata": {
    "jp-MarkdownHeadingCollapsed": true
   },
   "source": [
    "# Import Statements"
   ]
  },
  {
   "cell_type": "code",
   "execution_count": 1,
   "id": "760dd62f-2ca8-4874-aa00-34870620a51e",
   "metadata": {},
   "outputs": [],
   "source": [
    "import numpy as np\n",
    "import networkx as nx\n",
    "import math\n",
    "import time\n",
    "from scipy.interpolate import UnivariateSpline\n",
    "import osmnx as ox\n",
    "import matplotlib.pyplot as plt\n",
    "from pyproj import CRS, Transformer\n",
    "from shapely.geometry import Point\n",
    "from shapely.geometry import Polygon\n",
    "from shapely.ops import transform\n",
    "from shapely.ops import unary_union\n",
    "from networkx.algorithms.flow import shortest_augmenting_path"
   ]
  },
  {
   "cell_type": "markdown",
   "id": "f39d6fdc-a0c6-4932-84dd-a18ad9752982",
   "metadata": {
    "jp-MarkdownHeadingCollapsed": true
   },
   "source": [
    "# Functions to Build Real-world Graph"
   ]
  },
  {
   "cell_type": "code",
   "execution_count": 2,
   "id": "ab6df892-5b3d-4f29-a1f4-8e63287ca73e",
   "metadata": {},
   "outputs": [],
   "source": [
    "MOORE_AFTER_BREAK_SPLINE = UnivariateSpline(\n",
    "    [20, 30, 40, 50, 60, 70, 80, 90, 100],\n",
    "    [3.9, 6, 11, 18, 27, 39, 54, 58, 84],\n",
    ")\n",
    "MOORE_BEFORE_BREAK_SPLINE = UnivariateSpline(\n",
    "    [20, 30, 40, 50, 60, 70, 80, 90, 100],\n",
    "    [6, 8, 11, 14, 17, 19, 22, 25, 28],\n",
    ")\n",
    "\n",
    "MOORE_SAFE_BREAKING_DISTANCE = lambda x: MOORE_AFTER_BREAK_SPLINE(\n",
    "    x\n",
    ") + MOORE_BEFORE_BREAK_SPLINE(x)\n",
    "\n",
    "def moore(lanes: float, max_speed: float):\n",
    "    return 1000 * max_speed / MOORE_SAFE_BREAKING_DISTANCE(max_speed) * lanes\n",
    "\n",
    "def add_capacities(G, method=moore):\n",
    "\n",
    "    G = G.copy()\n",
    "    cap = []\n",
    "    \n",
    "    for u, v, i in G.edges:\n",
    "        edge_data = G.get_edge_data(u, v, i)\n",
    "        raw_lanes = edge_data.get(\"lanes\")\n",
    "        \n",
    "        if raw_lanes is None:\n",
    "            lanes = 1\n",
    "            \n",
    "        elif isinstance(raw_lanes, str):\n",
    "            lanes = int(raw_lanes) / 2  \n",
    "            \n",
    "        elif isinstance(raw_lanes, list):\n",
    "            lanes = sum(int(x) for x in raw_lanes) / 2\n",
    "            \n",
    "        G[u][v][i][\"upper\"] = int(method(lanes, edge_data[\"speed_kph\"]))\n",
    "    return G"
   ]
  },
  {
   "cell_type": "code",
   "execution_count": 3,
   "id": "9be92327-65a9-4adb-914e-896f664eacf1",
   "metadata": {},
   "outputs": [],
   "source": [
    "###don't need for max flow/quickest flow\n",
    "def add_costs(G, costs:[int, np.ndarray] = 0):\n",
    "    if type(costs) == int:\n",
    "        for u,v,i in G.edges:\n",
    "            G[u][v][i]['cost'] = costs\n",
    "    else:\n",
    "        count = 0\n",
    "        for u,v,i in G.edges:\n",
    "            G[u][v][i]['cost'] = costs[count]\n",
    "    return G"
   ]
  },
  {
   "cell_type": "code",
   "execution_count": 4,
   "id": "fc1e1f24-ad12-4df8-b8a7-15c85920a92e",
   "metadata": {},
   "outputs": [],
   "source": [
    "def add_orig_dest(G, sup_dem:[int, np.ndarray]):\n",
    "    if type(sup_dem) == int:\n",
    "        for i in G.nodes:\n",
    "            G._node[i]['sup_dem'] = sup_dem\n",
    "    else:\n",
    "        for i in G.nodes:\n",
    "            G._node[i]['sup_dem'] = sup_dem[i]\n",
    "    return G"
   ]
  },
  {
   "cell_type": "code",
   "execution_count": 5,
   "id": "2651f864-10ac-42f9-992c-a0797fa9f69c",
   "metadata": {},
   "outputs": [],
   "source": [
    "def proj_lat_lngs(lats, lngs, G):\n",
    "    #convert lat and longs to point geometry\n",
    "    pnts_list = [Point((lng, lat)) for lat, lng in zip(lats, lngs)]\n",
    "    \n",
    "    #convert list of points into Geoseries of points\n",
    "    #(EPSG:4326 is WGS84)\n",
    "    pnts = gpd.GeoSeries(pnts_list, crs='epsg:4326')\n",
    "    \n",
    "    #convert points to CRS from OSMNX projection\n",
    "    proj_pnts = pnts.to_crs(G.graph['crs'])\n",
    "    return proj_pnts\n",
    "\n",
    "def switch(key):\n",
    "    if key == \"Boulder\":\n",
    "        return (479800,4424260,489130,4429760)\n",
    "    elif key == \"Pueblo\":\n",
    "        return (5255180,4250280,514380,4423270)\n",
    "    elif key == \"Lyons\":\n",
    "        return (477230,4453570,476140,4430890)\n",
    "    elif key == \"Jefferson\":\n",
    "        return (489685,4379999,494940,4393420)\n",
    "    elif key == \"Sonoma\":\n",
    "        return (512007,4273277,525300,4255270)\n",
    "    elif key == \"Butte\":\n",
    "        # return (621540,4406520,599230,4400090)\n",
    "        df_sinks = pd.read_csv('optimal_sinks.csv')  \n",
    "        df_sources = pd.read_csv('sources.csv')\n",
    "        lat = [df_sinks['lat'][0],df_sources['lat'][0]]\n",
    "        long = [df_sinks['lon'][0],df_sources['lon'][0]]\n",
    "        return (lat, long)\n",
    "    else:\n",
    "        raise Exception(\"Please enter a valid location.\")\n",
    "        exit()\n",
    "        \n",
    "###find nodes in network closestest to desired destinations\n",
    "def orig_dest_nodes(network,location):\n",
    "    ###do not test Butte yet (prjections might be weird)\n",
    "    if location == \"Butte\":\n",
    "        lat,long = switch(location)\n",
    "        proj_sink_source = proj_lat_lngs(lat, long, network)\n",
    "        orig=ox.distance.nearest_nodes(network,proj_sink_source.x[1],proj_sink_source.y[1],return_dist=False)\n",
    "        dest=ox.distance.nearest_nodes(network,proj_sink_source.x[0],proj_sink_source.y[0],return_dist=False)\n",
    "    else:\n",
    "        lat_start,long_start,lat_end,long_end = switch(location)\n",
    "        orig=ox.distance.nearest_nodes(network,lat_start,long_start,return_dist=False)\n",
    "        dest=ox.distance.nearest_nodes(network,lat_end,long_end,return_dist=False)\n",
    "    return orig, dest"
   ]
  },
  {
   "cell_type": "markdown",
   "id": "43c203cf-c6cd-483f-a771-62825dc3adf6",
   "metadata": {
    "jp-MarkdownHeadingCollapsed": true
   },
   "source": [
    "# Functions to set up for Max Flow Alogirthm"
   ]
  },
  {
   "cell_type": "code",
   "execution_count": 6,
   "id": "2b928b7f-25cd-4639-a819-0a23c29fcaae",
   "metadata": {},
   "outputs": [],
   "source": [
    "def add_s_t(G, ten, time_horizon,**kwargs):\n",
    "    start = time.time()\n",
    "    ten_copy = ten.copy()\n",
    "    orig_nodes = list(G.nodes)\n",
    "    ten_nodes = list(ten_copy.nodes)\n",
    "    removed_nodes_mat = kwargs.get('removed_nodes_mat',[ [] for _ in range(time_horizon)])\n",
    "\n",
    "    sup_nodes = [x for x,y in G.nodes(data=True) if y['sup_dem'] > 0]\n",
    "    dem_nodes = [x for x,y in G.nodes(data=True) if y['sup_dem'] < 0]\n",
    "    \n",
    "    s = 0\n",
    "    t = max(ten_nodes)+1\n",
    "    \n",
    "    ten_copy.add_node(s,name = f'{s}-{0}',level = 0)\n",
    "    ten_copy.add_node(t,name = f'{len(orig_nodes)}-{time_horizon-1}',level = time_horizon-1)\n",
    "    \n",
    "    for i in range(len(orig_nodes)):\n",
    "        if i in sup_nodes:\n",
    "            ten_copy.add_edge(s, i+1, cost = 0, upper = G._node[i]['sup_dem'], lower = 0)\n",
    "        elif i in dem_nodes:\n",
    "            ###need to add in check for last time interval node is still available\n",
    "            for k in range(time_horizon-1):\n",
    "                added = False\n",
    "                if i in removed_nodes_mat[k+1]:\n",
    "                    ten_copy.add_edge((i+1) + ((k) * len(orig_nodes)),t, upper = -G._node[i]['sup_dem'], lower = 0)\n",
    "                    added = True\n",
    "                    break;\n",
    "            if added is False:\n",
    "                ten_copy.add_edge((i+1) + ((time_horizon-1) * len(orig_nodes)),t, upper = -G._node[i]['sup_dem'], lower = 0)\n",
    "\n",
    "    end = time.time()\n",
    "    print('Add Super Source and Sink Time: ',end-start)\n",
    "\n",
    "    \n",
    "    \n",
    "    return ten_copy"
   ]
  },
  {
   "cell_type": "code",
   "execution_count": 7,
   "id": "9f41bda9-e133-4645-8c56-2924fdc9ae02",
   "metadata": {},
   "outputs": [],
   "source": [
    "###handled in TEN construction instead\n",
    "def simplify_multigraph(graph):\n",
    "    start = time.time()\n",
    "    num_nodes = max(graph.nodes)\n",
    "    edges = graph.edges\n",
    "    \n",
    "    simp_graph = nx.DiGraph()\n",
    "    simp_graph.add_nodes_from(graph.nodes(data=True))\n",
    "    \n",
    "    for i in range(num_nodes+1):\n",
    "        for j in range(num_nodes+1):\n",
    "            if (i,j) in edges:\n",
    "                num_edges = graph.number_of_edges(i,j)\n",
    "                tot_cap = graph[i][j][num_edges-1]['upper']\n",
    "                if num_edges > 1:\n",
    "                    for k in range(1,num_edges):\n",
    "                        tot_cap = tot_cap + graph[i][j][k]['upper']\n",
    "                simp_graph.add_edge(i,j, upper = tot_cap, lower = 0)\n",
    "    end = time.time()  \n",
    "    print('Conversion to Digraph Time: ',end-start)\n",
    "    return simp_graph"
   ]
  },
  {
   "cell_type": "code",
   "execution_count": 8,
   "id": "9142df24-009f-47e4-a76d-03e758a23cb7",
   "metadata": {},
   "outputs": [],
   "source": [
    "def color_max_flow(graph, flow_dict):\n",
    "    edges = graph.edges\n",
    "\n",
    "    for (i,j) in edges:\n",
    "        graph[i][j]['color'] = (0,0,0)\n",
    "        if flow_dict[i][j] !=0:\n",
    "            graph[i][j]['color'] = (1,0,0)\n",
    "                    \n",
    "    return graph"
   ]
  },
  {
   "cell_type": "markdown",
   "id": "160e9f15-0985-42e9-b1c2-5161211e551c",
   "metadata": {
    "jp-MarkdownHeadingCollapsed": true
   },
   "source": [
    "# Functions to Include Fire Data with Graph"
   ]
  },
  {
   "cell_type": "code",
   "execution_count": 9,
   "id": "e347e816-e3cd-47eb-9fc5-c6f52c7cb327",
   "metadata": {},
   "outputs": [],
   "source": [
    "def geodesic_point_buffer(graph, lat, lon, radius):\n",
    "    \"\"\"\n",
    "    Creates circles from given latitude, longitude, and radius\n",
    "    :param lat: latitude from original data\n",
    "    :param lon: longitude from original data\n",
    "    :param radius: radius from original data\n",
    "    \"\"\"\n",
    "    aeqd_proj = CRS.from_proj4(f\"+proj=aeqd +lat_0={lat} +lon_0={lon} +x_0=0 +y_0=0\")\n",
    "    tfmr = Transformer.from_proj(aeqd_proj, aeqd_proj.geodetic_crs)\n",
    "    buf = Point(0, 0).buffer(radius * 1609.34)  # distance in miles (converts from meters to miles)\n",
    "    circle = Polygon(transform(tfmr.transform, buf).exterior.coords[:])\n",
    "    net_trans = Transformer.from_crs(aeqd_proj.geodetic_crs, graph.graph['crs'])\n",
    "    proj_circ = Polygon(transform(net_trans.transform,circle).exterior.coords[:])\n",
    "    \n",
    "    return proj_circ"
   ]
  },
  {
   "cell_type": "code",
   "execution_count": 10,
   "id": "2778c59b-ab65-4715-9d95-1af19e6b7979",
   "metadata": {},
   "outputs": [],
   "source": [
    "def dist_to_fire(G, fire_polygon, **kwargs):\n",
    "    smoke_polygon = kwargs.get('smoke_polygon',fire_polygon)\n",
    "    ###find nodes inside poly to remove\n",
    "    start_gs = time.process_time()\n",
    "    gs_nodes = ox.utils_graph.graph_to_gdfs(G,nodes = True,edges = False, node_geometry = True)[['geometry']]\n",
    "    gs_edges = ox.utils_graph.graph_to_gdfs(G,nodes = False, edges = True)[['geometry']]\n",
    "    end_gs = time.process_time()\n",
    "\n",
    "    nodes_removed = []\n",
    "    edge_dist = []\n",
    "    start_to_remove = time.process_time()\n",
    "    for point in gs_nodes['geometry']:\n",
    "        if point.intersects(smoke_polygon):\n",
    "            node = ox.distance.nearest_nodes(G,point.x,point.y,return_dist=False)\n",
    "            nodes_removed.append(node)\n",
    "    for i in range(len(gs_edges)):\n",
    "        entry =  gs_edges.iloc[i]\n",
    "        dist = entry['geometry'].distance(fire_polygon)\n",
    "        # print(dist)\n",
    "        entry = gs_edges.iloc[[i]]\n",
    "        edge = entry['geometry'].index[0]\n",
    "        if G.is_multigraph():\n",
    "            G[edge[0]][edge[1]][edge[2]]['fire_dist'] = dist\n",
    "        elif G.is_directed():\n",
    "            G[edge[0]][edge[1]]['fire_dist'] = dist\n",
    "        else:\n",
    "            raise Exception(\"Must Input a DiGraph or MultiDiGraph\")\n",
    "    end_to_remove = time.process_time()\n",
    "\n",
    "    return (nodes_removed, G)"
   ]
  },
  {
   "cell_type": "code",
   "execution_count": 11,
   "id": "23288c97-d465-4f42-9674-08b27e6148b4",
   "metadata": {},
   "outputs": [],
   "source": [
    "def create_fire_mat(G, fire_origins_radii, time_horizon, removed_node_mat,fire_polygon_mat):\n",
    "    start = time.time()\n",
    "    # G_fire = G.copy()\n",
    "    time_ints_done = len(removed_node_mat)-1\n",
    "\n",
    "    for i in range(time_ints_done,time_horizon):\n",
    "        fire_polys = []\n",
    "        for entry in fire_origins_radii:\n",
    "            fire_lat = entry[0]\n",
    "            fire_long = entry[1]\n",
    "            init_radius = entry[2]\n",
    "        \n",
    "            ###create fire_poly and smoke_poly in coordinate system of network\n",
    "            # radius = init_radius+(0.0005*i)\n",
    "            radius = init_radius\n",
    "            fire_poly_piece = geodesic_point_buffer(G,fire_lat,fire_long,radius)\n",
    "            # smoke_polygon = geodesic_point_buffer(G,fire_origin[0],fire_origin[1],radius*1.01)\n",
    "            fire_polys.append(fire_poly_piece)\n",
    "        \n",
    "        fire_polygon = unary_union(fire_polys)                                     \n",
    "        nodes_removed, G = dist_to_fire(G, fire_polygon)\n",
    "\n",
    "        fire_polygon_mat.append(fire_polygon)\n",
    "        removed_node_mat.append(nodes_removed)\n",
    "        G_fire = G.copy()\n",
    "        \n",
    "    end = time.time()\n",
    "    print(f\"Time to do Fire Poly for Time Horizon {time_horizon}: {end - start}\")\n",
    "    \n",
    "    return (removed_node_mat, fire_polygon_mat, G_fire)"
   ]
  },
  {
   "cell_type": "markdown",
   "id": "bcf3461f-a36e-4f2d-9681-780dce15278a",
   "metadata": {
    "jp-MarkdownHeadingCollapsed": true
   },
   "source": [
    "# Create TEN (accounts for removed nodes and arcs)"
   ]
  },
  {
   "cell_type": "code",
   "execution_count": 12,
   "id": "683ca3ed-e27f-4465-a9f4-25131148befe",
   "metadata": {},
   "outputs": [],
   "source": [
    "def time_expand_with_removal_dyn(G, ten, time_int_size, prev_time_horizon, curr_time_horizon,**kwargs):\n",
    "    start = time.time()\n",
    "    orig_nodes = list(G.nodes)\n",
    "    orig_edges = list(G.edges)\n",
    "    ten_copy = ten.copy()\n",
    "    removed_nodes_mat = kwargs.get('removed_nodes_mat',[ [] for _ in range(curr_time_horizon)])\n",
    "    # removed_edges_mat = kwargs.get('removed_edges_mat',[ [] for _ in range(curr_time_horizon)])\n",
    "\n",
    "\n",
    "    ###add in all nodes for time-expanded network\n",
    "    if prev_time_horizon == 0:\n",
    "        node_num = 1\n",
    "    else:\n",
    "        node_num = len(orig_nodes)*prev_time_horizon+1\n",
    "            \n",
    "    for j in range(prev_time_horizon,curr_time_horizon):\n",
    "        for i in range(len(orig_nodes)):\n",
    "            #check that i is not one of nodes that have been removed during that time interval\n",
    "            if i not in removed_nodes_mat[j]:\n",
    "                if j == 0:\n",
    "                    node_name = f'{i+1}-{j}'\n",
    "                    ten_copy.add_node(node_num, name = node_name, level = j, sup_dem = G._node[i]['sup_dem'])\n",
    "                else:\n",
    "                    node_name = f'{i+1}-{j}'\n",
    "                    ten_copy.add_node(node_num, name = node_name, level = j, sup_dem = 0)\n",
    "            node_num += 1\n",
    "            \n",
    "    ###add in hold over arcs for supply/demand nodes\n",
    "    if prev_time_horizon ==0:\n",
    "        start_time_int = prev_time_horizon\n",
    "    else:\n",
    "        start_time_int = prev_time_horizon-1\n",
    "    for i in orig_nodes:\n",
    "        if G._node[i]['sup_dem'] >  0:\n",
    "            for j in range(start_time_int,curr_time_horizon-1):\n",
    "                if i not in removed_nodes_mat[j+1]:\n",
    "                    ten_copy.add_edge((i+1)+(len(orig_nodes)*j),(i+1)+(len(orig_nodes)*(j+1)), upper =  G._node[i]['sup_dem'] , lower = 0)\n",
    "        elif G._node[i]['sup_dem'] <  0:\n",
    "            for j in range(start_time_int,curr_time_horizon-1):\n",
    "                if i not in removed_nodes_mat[j+1]:\n",
    "                    ten_copy.add_edge((i+1)+(len(orig_nodes)*j),(i+1)+(len(orig_nodes)*(j+1)), upper =  -G._node[i]['sup_dem'] , lower = 0 )\n",
    "        else:\n",
    "            for j in range(start_time_int, curr_time_horizon-1):\n",
    "                if i not in removed_nodes_mat[j+1]:\n",
    "                    ten_copy.add_edge((i+1)+(len(orig_nodes)*j),(i+1)+(len(orig_nodes)*(j+1)), upper = np.inf, lower = 0)\n",
    "\n",
    "    new_nodes = np.array(range((len(orig_nodes)*prev_time_horizon)+1, (len(orig_nodes)*curr_time_horizon)+1))\n",
    "\n",
    "    ###in the case of a multidigraph\n",
    "    if G.is_multigraph():\n",
    "        for (i,j,k) in orig_edges:\n",
    "            time_int_end = math.ceil(G[i][j][k]['travel_time']/time_int_size)\n",
    "            for m in range(curr_time_horizon-1):\n",
    "                node_num = (i+1)+(len(orig_nodes)*m)\n",
    "                # if ((i,j,k) not in removed_edges_mat[m]) and (time_int_end+m < curr_time_horizon) and (j not in removed_nodes_mat[time_int_end+m]) and (i not in removed_nodes_mat[m]):\n",
    "                if (time_int_end+m < curr_time_horizon) and (j not in removed_nodes_mat[time_int_end+m]) and (i not in removed_nodes_mat[m]):\n",
    "                    ### deteremine the capacipty the edge can have based on dist to fire\n",
    "                    if G[i][j][k]['fire_dist'] == 0:\n",
    "                        percent_cap = 0\n",
    "                    elif G[i][j][k]['fire_dist'] >= time_int_end:\n",
    "                        percent_cap = 1\n",
    "                    else:\n",
    "                        percent_cap = G[i][j][k]['fire_dist']/time_int_end\n",
    "                    if prev_time_horizon == 0 or (node_num)+(j-i)+(len(orig_nodes)*time_int_end) in new_nodes:\n",
    "                        if (node_num,(node_num)+(j-i)+(len(orig_nodes)*time_int_end)) in ten_copy.edges:\n",
    "                            ten_copy[node_num][(node_num)+(j-i)+(len(orig_nodes)*time_int_end)]['upper'] += G[i][j][k]['upper']*percent_cap\n",
    "                        else:\n",
    "                            ten_copy.add_edge(node_num,(node_num)+(j-i)+(len(orig_nodes)*time_int_end),upper = G[i][j][k]['upper']*percent_cap, lower = 0)\n",
    "\n",
    "\n",
    "    ##in the case of a digraph that is not a multdigraph\n",
    "    elif G.is_directed():\n",
    "        for (i,j) in orig_edges:\n",
    "            # print(f'({i},{j},{k})')\n",
    "            time_int_end = math.ceil(G[i][j]['travel_time']/time_int_size)\n",
    "            for m in range(curr_time_horizon-1):\n",
    "                node_num = (i+1)+(len(orig_nodes)*m)\n",
    "                # if ((i,j) not in removed_edges_mat[m]) and (time_int_end+m < curr_time_horizon) and (j not in removed_nodes_mat[time_int_end+m]) and (i not in removed_nodes_mat[m]):\n",
    "                if (time_int_end+m < curr_time_horizon) and (j not in removed_nodes_mat[time_int_end+m]) and (i not in removed_nodes_mat[m]):                    \n",
    "                    ### deteremine the capacipty the edge can have based on dist to fire\n",
    "                    if G[i][j]['fire_dist'] == 0:\n",
    "                        percent_cap = 0\n",
    "                    elif G[i][j]['fire_dist'] >= time_int_end:\n",
    "                        percent_cap = 1\n",
    "                    else:\n",
    "                        percent_cap = G[i][j]['fire_dist']/time_int_end\n",
    "                    if prev_time_horizon == 0 or (node_num)+(j-i)+(len(orig_nodes)*time_int_end) in new_nodes:\n",
    "                        if (node_num,(node_num)+(j-i)+(len(orig_nodes)*time_int_end)) in ten_copy.edges:\n",
    "                            ten_copy[node_num][(node_num)+(j-i)+(len(orig_nodes)*time_int_end)]['upper'] += G[i][j]['upper']\n",
    "                        else:\n",
    "                            # print('edge added')\n",
    "                            ten_copy.add_edge(node_num,(node_num)+(j-i)+(len(orig_nodes)*time_int_end),upper = G[i][j]['upper'], lower = 0)\n",
    "    else:\n",
    "        raise Exception(\"Must Input a DiGraph or MultiDiGraph\")\n",
    "\n",
    "    ###Remove isolated nodes in TEN (could occur if all edges between nodes are effected by fire, but nodes not within fire polygon)\n",
    "    ###Removed this function to cut down on work for adding new time intervals\n",
    "    # ten.remove_nodes_from(list(nx.isolates(ten)))\n",
    "    \n",
    "    end = time.time()\n",
    "    ###used for checking how long larger networks/expansions take to construct\n",
    "    # if end-start > 1:\n",
    "    print(f'Time to build TEN for T = {curr_time_horizon}: {end-start}')\n",
    "\n",
    "    return ten_copy"
   ]
  },
  {
   "cell_type": "markdown",
   "id": "e65c9649-e0df-496b-9243-a939ea4dad5e",
   "metadata": {
    "jp-MarkdownHeadingCollapsed": true
   },
   "source": [
    "# Determine number of Time Intervals to Evacuate People (and Max Flow)"
   ]
  },
  {
   "cell_type": "code",
   "execution_count": 13,
   "id": "bbdf79bf-d6ff-4124-a7b4-3c0c5d794eda",
   "metadata": {},
   "outputs": [],
   "source": [
    "def det_num_int(G, pop, fire_orgin_radii):\n",
    "\n",
    "    \n",
    "    dem_nodes = [x for x,y in G.nodes(data=True) if y['sup_dem'] < 0]\n",
    "    sup_nodes = [x for x,y in G.nodes(data=True) if y['sup_dem'] > 0]\n",
    "    longest_time = 0\n",
    "    supply_amt = 0\n",
    "    demand_amt = 0\n",
    "    \n",
    "    ### determine if problem will have a solution\n",
    "    start = time.time()\n",
    "    for i in sup_nodes:\n",
    "        supply_amt = supply_amt + G._node[i]['sup_dem']\n",
    "    for j in dem_nodes:\n",
    "        demand_amt = demand_amt - G._node[j]['sup_dem']\n",
    "    \n",
    "    if supply_amt != demand_amt:\n",
    "        raise Exception(\"Supply does not equal demand. Please adjust values accordingly.\")\n",
    "        exit()\n",
    "    elif supply_amt < pop:\n",
    "        raise Exception(\"Population is larger than supply. Not possible to evacuate everyone.\")\n",
    "        exit()\n",
    "    end = time.time()\n",
    "    print(f'Feasability Check Completed: {end-start} seconds') \n",
    "    ###deteremine minimum number of time intervals by finding the longest time to travel between any of the sources or sinks\n",
    "    start = time.time()\n",
    "    for source in sup_nodes:\n",
    "        for sink in dem_nodes:\n",
    "            current_travel_time = nx.shortest_path_length(G, source, sink, 'travel_time')\n",
    "            if current_travel_time >= longest_time:\n",
    "                longest_time = current_travel_time\n",
    "                shortest_path = nx.shortest_path(G, source, sink,'travel_time')\n",
    "    end = time.time()\n",
    "    print(f'Longest Path Deteremined: {end-start} seconds') \n",
    "                \n",
    "    time_int_len = 1\n",
    "    num_time_ints = math.ceil(longest_time)+len(shortest_path) ###time zero is when num_time_ints = 1\n",
    "    prev_num_time_ints = 0\n",
    "\n",
    "    G_fire = G.copy()\n",
    "    ten = nx.DiGraph()\n",
    "    prev_ten = ten.copy()\n",
    "    full_ten = nx.DiGraph()\n",
    "    s_t_ten = nx.DiGraph()\n",
    "    flow_value = 0\n",
    "    flow_dict = {}\n",
    "    removed_nodes_mat = []\n",
    "    # removed_edges_mat = []\n",
    "    fire_polygon_mat = []\n",
    "    unsafe = False\n",
    "\n",
    "    while flow_value < pop:\n",
    "    # while num_time_ints < math.ceil(longest_time)+len(shortest_path)+3:\n",
    "        # print('number prev ten nodes: ',len(prev_ten.nodes))\n",
    "        \n",
    "        rmvd_nodes_mat,fire_poly_mat,G_fire = create_fire_mat(G, fire_origin_radii,num_time_ints, removed_nodes_mat,fire_polygon_mat)\n",
    "        intersection = set(sup_nodes).intersection(set(rmvd_nodes_mat[0]))\n",
    "        if len(intersection) !=0:\n",
    "            print(f\"One or more source nodes has already been engulfed by the fire. These nodes will be removed from consideration.\")\n",
    "            intersection = set(sup_nodes).intersection(set(rmvd_nodes_mat[0]))\n",
    "            for node in intersection:\n",
    "                G._node[node]['sum_dem'] = 0\n",
    "            G_fire = G.copy()\n",
    "            removed_nodes_mat = []\n",
    "            fire_polygon_mat = []\n",
    "        if (set(dem_nodes).issubset(set(rmvd_nodes_mat[-1]))):\n",
    "            unsafe = True\n",
    "            print(f\"All sinks have been taken by the fire, not everyone can evacuate by time horizon {num_time_ints}.\")\n",
    "            print(f\"Will return solution for time horizon {num_time_ints-1}\")\n",
    "            num_time_ints = num_time_ints-1\n",
    "\n",
    "            ten = time_expand_with_removal_dyn(G_fire, prev_ten, time_int_len, prev_num_time_ints,num_time_ints, removed_nodes_mat = rmvd_nodes_mat)\n",
    "            # ten = time_expand_with_removal(G, time_int_len,num_time_ints, removed_nodes_mat, removed_edges_mat)\n",
    "            s_t_ten = add_s_t(G_fire, ten, num_time_ints, removed_nodes_mat = rmvd_nodes_mat)\n",
    "            flow_value, flow_dict = nx.maximum_flow(s_t_ten.copy(), 0, max(list(s_t_ten.copy().nodes)),capacity = 'upper',flow_func = shortest_augmenting_path)\n",
    "            break;\n",
    "        else:\n",
    "            ten = time_expand_with_removal_dyn(G_fire, prev_ten, time_int_len, prev_num_time_ints,num_time_ints, removed_nodes_mat = rmvd_nodes_mat)\n",
    "            # ten = time_expand_with_removal(G, time_int_len,num_time_ints, removed_nodes_mat, removed_edges_mat)\n",
    "            # print('number orig ten nodes: ',len(ten.nodes))\n",
    "            s_t_ten = add_s_t(G_fire, ten, num_time_ints, removed_nodes_mat = rmvd_nodes_mat)\n",
    "            # print('number super s_t ten nodes: ',len(s_t_ten.nodes))\n",
    "            start = time.time()\n",
    "            flow_value, flow_dict = nx.maximum_flow(s_t_ten.copy(), 0, max(list(s_t_ten.copy().nodes)),capacity = 'upper',flow_func = shortest_augmenting_path)\n",
    "            end = time.time()\n",
    "            print(f'Time for Max Flow Algorithm {end-start} seconds')\n",
    "            print('----------------------------------------------------------------------')\n",
    "\n",
    "            prev_ten = ten.copy()\n",
    "            prev_num_time_ints = num_time_ints\n",
    "            num_time_ints +=1\n",
    "            \n",
    "    if unsafe:\n",
    "        ints = num_time_ints\n",
    "    else:\n",
    "        ints = num_time_ints - 1\n",
    "\n",
    "    print('Construct Colored Time Expanded Model')\n",
    "    full_ten_temp = time_expand_with_removal_dyn(G_fire, nx.DiGraph(), time_int_len, 0, ints)\n",
    "    full_ten = add_s_t(G_fire, full_ten_temp, num_time_ints-1)\n",
    "    start = time.time()\n",
    "    colored_max_flow_ten = color_max_flow(s_t_ten,flow_dict)\n",
    "    end = time.time()\n",
    "    print(f'Time to color edges with Flow in TEN: {end-start}')\n",
    "    ###code used for plotting colored max-flow on TEN\n",
    "    # num_nodes = max(list(colored_max_flow_ten))\n",
    "    # pos = nx.multipartite_layout(s_t_ten, subset_key=\"level\")\n",
    "    # pos[0]= np.array([pos[1][0]-0.05,pos[1][1]])\n",
    "    # pos[max(s_t_ten.nodes)] = np.array([pos[max(s_t_ten.nodes)-1][0]+0.05,pos[max(s_t_ten.nodes)-1][1]])\n",
    "    # colors = [colored_max_flow_ten[u][v]['color'] for u,v in colored_max_flow_ten.edges]\n",
    "    # nx.draw(colored_max_flow_ten, pos, edge_color=colors,with_labels = True)\n",
    "    \n",
    "    return (num_time_ints-1, flow_value, flow_dict, colored_max_flow_ten, ten, fire_poly_mat) "
   ]
  },
  {
   "cell_type": "markdown",
   "id": "e6f0bf3c-0e73-42e7-b025-7e9057edbb02",
   "metadata": {
    "jp-MarkdownHeadingCollapsed": true
   },
   "source": [
    "# Original Path Recostruction Functions"
   ]
  },
  {
   "cell_type": "code",
   "execution_count": 14,
   "id": "b0674c72-4646-4c54-bdb5-aa3cadf412ea",
   "metadata": {},
   "outputs": [],
   "source": [
    "def graph_path_color(graph, paths):\n",
    "    graphs = []\n",
    "    for path in paths:\n",
    "        for (i,j) in graph.edges:\n",
    "            graph[i][j]['color'] = (0,0,0)\n",
    "        for k in range(len(path)-1):\n",
    "            graph[path[k]][path[k+1]]['color'] = (1,0,0)\n",
    "        graphs.append(graph.copy())\n",
    "    \n",
    "    return graphs"
   ]
  },
  {
   "cell_type": "code",
   "execution_count": 15,
   "id": "f56549d7-7d50-4b16-91e3-2c2c495ab183",
   "metadata": {},
   "outputs": [],
   "source": [
    "def ten_to_orig_paths(flow_ten, ten, G):\n",
    "    ###get all edges with flow\n",
    "    uni_source = min(flow_ten.nodes)\n",
    "    uni_sink = max(flow_ten.nodes)\n",
    "    edges_w_flow = [(x[0],x[1]) for x in flow_ten.edges(data = True) if flow_ten[x[0]][x[1]]['color'] == (1,0,0)]\n",
    "    edges_w_flow.sort(key=lambda tup: tup[0])\n",
    "    \n",
    "    ###create link of sources and sinks\n",
    "    starts = [edge[1] for edge in edges_w_flow if edge[0]==uni_source]\n",
    "    ends = [edge[0] for edge in edges_w_flow if edge[1]==uni_sink]\n",
    "\n",
    "    ###get all valid paths from sources to sinks using arcs wtih flow\n",
    "    valid_paths = []\n",
    "    for source in starts:\n",
    "        paths = find_all_paths(edges_w_flow, source, ends, path=[])\n",
    "        for path in paths:\n",
    "            if nx.is_path(ten, path) and path not in valid_paths:\n",
    "                valid_paths.append(path)\n",
    "\n",
    "    ###convert from TEN paths to original network paths\n",
    "    orig_paths = orig_graph_path(ten, valid_paths, [uni_source, uni_sink])\n",
    "\n",
    "    return orig_paths"
   ]
  },
  {
   "cell_type": "code",
   "execution_count": 16,
   "id": "79224ca9-3640-4b6f-907c-c1f151ca9f36",
   "metadata": {},
   "outputs": [],
   "source": [
    "###Dijkstra's algorithm (with some modifications)\n",
    "def find_all_paths(edge_list, start, ends, path=[]):\n",
    "        # print(start)\n",
    "        path = path + [start]\n",
    "        if start in ends:\n",
    "            return [path]\n",
    "        if start not in [edge[0] for edge in edge_list]:\n",
    "            return []\n",
    "        paths = []\n",
    "        for node in [edge[0] for edge in edge_list]:\n",
    "            if node not in path and node in [edge[1] for edge in edge_list if edge[0] == start]:\n",
    "                newpaths = find_all_paths(edge_list, node, ends, path)\n",
    "                for newpath in newpaths:\n",
    "                    paths.append(newpath)\n",
    "        return paths"
   ]
  },
  {
   "cell_type": "code",
   "execution_count": 17,
   "id": "0f30eac8-69b5-44d5-ae0a-8cfe4ff726a7",
   "metadata": {},
   "outputs": [],
   "source": [
    "def remove_dups(path):\n",
    "    remove = []\n",
    "    path_copy = []\n",
    "    for i in range(len(path)-1):\n",
    "        if path[i] == path[i+1]:\n",
    "            remove.append(i)\n",
    "\n",
    "    for i in range(len(path)):\n",
    "        if i not in remove:\n",
    "            path_copy.append(path[i])\n",
    "    return path_copy"
   ]
  },
  {
   "cell_type": "code",
   "execution_count": 18,
   "id": "92a6abac-641a-46a4-a6c7-75ab6e77109b",
   "metadata": {},
   "outputs": [],
   "source": [
    "def orig_graph_path(ten, paths, endpoints):\n",
    "    orig_paths = []\n",
    "    for path in paths:\n",
    "        orig_path = []\n",
    "        for node in path:\n",
    "            nodes = [y['name'] for x,y in ten.nodes(data=True) if x == node]\n",
    "            # print(nodes)\n",
    "            node_str = nodes[0].split('-')\n",
    "            orig_node = node_str[0]\n",
    "            orig_path.append(int(orig_node)-1)\n",
    "        orig_paths.append(remove_dups(orig_path))\n",
    "    return orig_paths"
   ]
  },
  {
   "cell_type": "markdown",
   "id": "f7a55e32-d4af-4b04-843f-718c8e8ab3e8",
   "metadata": {},
   "source": [
    "# Build Real-world Graph"
   ]
  },
  {
   "cell_type": "code",
   "execution_count": 19,
   "id": "4a70d7a0-d27b-42c9-818e-1614c448a139",
   "metadata": {},
   "outputs": [],
   "source": [
    "def construct_orig_graph(location, sup_dem_nodes, **kwargs):\n",
    "    distance = kwargs.get('distance',1000)\n",
    "    \n",
    "    start = time.time()\n",
    "    #import data from osmnx, can input any city, state, etc.\n",
    "    # if isinstance(location, str): \n",
    "    if type(location) == str:\n",
    "        G = ox.project_graph(ox.graph_from_place(location, network_type='drive'))\n",
    "    elif type(location) == tuple:\n",
    "        G = ox.graph_from_bbox(location[0],location[1],location[2],location[3], network_type='drive')\n",
    "        G = ox.project_graph(G)\n",
    "    else:\n",
    "        G = ox.graph_from_point((location['lat'][0], location['lon'][0]), network_type='drive', dist = distance)\n",
    "        G = ox.project_graph(G)\n",
    "    print('Importing Network Complete')\n",
    "\n",
    "    #get rid of intersections that are not actually intersections\n",
    "    G = ox.simplification.consolidate_intersections(G, tolerance=10, rebuild_graph=True, dead_ends=True, reconnect_edges = True)\n",
    "    # G = ox.consolidate_intersections(G_proj, tolerance=10, rebuild_graph=True, dead_ends=True, reconnect_edges = True)\n",
    "    print('Consolidation Complete')\n",
    "\n",
    "    #add edge speeds\n",
    "    G = ox.speed.add_edge_speeds(G)\n",
    "    print('Speed Added')\n",
    "\n",
    "    #add travel times\n",
    "    G = ox.speed.add_edge_travel_times(G)\n",
    "    print('Travel Time Added')\n",
    "\n",
    "    #add capacities (computed using moore method)\n",
    "    G = add_capacities(G)\n",
    "    print('Capacities Added')\n",
    "\n",
    "    ###only need if doing something with min-cost\n",
    "    # costs = 0\n",
    "    # G = add_costs(G,costs)\n",
    "    # print('Costs Added')\n",
    "\n",
    "    #sup_dem:int = 0\n",
    "    # orig,dest = orig_dest_nodes(G,\"Lyons\")\n",
    "    sup_dem = np.zeros(len(G.nodes))\n",
    "    # sup_dem[orig] = 2000\n",
    "    # sup_dem[dest] = -2000\n",
    "    # sup_dem[10] = 2000\n",
    "    # sup_dem[max(G.nodes)] = -2000\n",
    "    for i,j in sup_dem_nodes:\n",
    "        sup_dem[i] = j\n",
    "    G = add_orig_dest(G,sup_dem)\n",
    "    print('Supply and Demand Values Added')\n",
    "\n",
    "    end = time.time()\n",
    "\n",
    "    print('Time to Build Original Network: ',end-start, ' seconds')\n",
    "    \n",
    "    return G"
   ]
  },
  {
   "cell_type": "markdown",
   "id": "cdbfaccc-524a-42b0-934e-1a476d8e7f6d",
   "metadata": {},
   "source": [
    "# Evacuation Code"
   ]
  },
  {
   "cell_type": "markdown",
   "id": "0befefc6-7428-473d-9224-c1b5b8d95cd4",
   "metadata": {
    "jp-MarkdownHeadingCollapsed": true
   },
   "source": [
    "### Lyons Example"
   ]
  },
  {
   "cell_type": "code",
   "execution_count": 20,
   "id": "b296e274-8120-498f-9e46-a14c035b83c5",
   "metadata": {},
   "outputs": [
    {
     "name": "stdout",
     "output_type": "stream",
     "text": [
      "Importing Network Complete\n",
      "Consolidation Complete\n",
      "Speed Added\n",
      "Travel Time Added\n",
      "Capacities Added\n",
      "Supply and Demand Values Added\n",
      "Time to Build Original Network:  0.7893984317779541  seconds\n",
      "Feasability Check Completed: 0.0 seconds\n",
      "Longest Path Deteremined: 0.0008552074432373047 seconds\n",
      "Time to do Fire Poly for Time Horizon 161: 45.204784870147705\n",
      "Time to build TEN for T = 161: 0.25447607040405273\n",
      "Add Super Source and Sink Time:  0.1034393310546875\n",
      "Time for Max Flow Algorithm 1.0394902229309082 seconds\n",
      "----------------------------------------------------------------------\n",
      "Construct Colored Time Expanded Model\n",
      "Time to build TEN for T = 161: 0.3520209789276123\n",
      "Add Super Source and Sink Time:  0.5179743766784668\n",
      "Time to color edges with Flow in TEN: 0.03571963310241699\n",
      "Number of Time Intervals: 161\n",
      "Flow Value: 8000.0\n"
     ]
    }
   ],
   "source": [
    "location = 'Lyons Colorado'\n",
    "sup_dem_nodes = [(1,4000),(30,4000),(15,-4000),(20,-4000)]\n",
    "G = construct_orig_graph(location,sup_dem_nodes)\n",
    "fire_origin_radii = [(40.229520,-105.263912,0.35),(40.213739, -105.279067,0.2)]\n",
    "\n",
    "\n",
    "num_time_ints, max_flow, flow_dict, flow_ten, full_TEN,fire_poly_mat = det_num_int(G, 60, fire_origin_radii)\n",
    "print('Number of Time Intervals:',num_time_ints)\n",
    "print('Flow Value:', max_flow)"
   ]
  },
  {
   "cell_type": "markdown",
   "id": "4b49f325-4738-4f1b-ae7a-fbe40f209402",
   "metadata": {},
   "source": [
    "#### Plots"
   ]
  },
  {
   "cell_type": "code",
   "execution_count": 21,
   "id": "f18598ec-702e-4acb-b839-1dfc30c3446f",
   "metadata": {},
   "outputs": [
    {
     "data": {
      "image/png": "[encoded data removed]",
      "text/plain": [
       "<Figure size 800x800 with 1 Axes>"
      ]
     },
     "metadata": {},
     "output_type": "display_data"
    }
   ],
   "source": [
    "colors=['blue' if y['sup_dem'] < 0 else 'red' if y['sup_dem'] > 0 else 'white' for x,y in G.nodes(data=True)]\n",
    "fig,ax = ox.plot_graph(G,show = False, close = False,node_size = 30, node_color = colors)\n",
    "\n",
    "if fire_poly_mat[-1].geom_type == 'Polygon':\n",
    "    x,y = fire_poly_mat[-1].exterior.xy\n",
    "    ax.fill(x,y,'#f1c232ff', alpha = 0.5)\n",
    "else:\n",
    "    for geom in fire_poly_mat[-1].geoms:  \n",
    "        xs, ys = geom.exterior.xy    \n",
    "        ax.fill(xs, ys, alpha=0.5, fc='#f1c232ff', ec='none')\n",
    "\n",
    "plt.show()"
   ]
  },
  {
   "cell_type": "code",
   "execution_count": 22,
   "id": "389960ee-2b06-45ce-927e-a677a2fdcb1b",
   "metadata": {},
   "outputs": [
    {
     "data": {
      "image/png": "[encoded data removed]",
      "text/plain": [
       "<Figure size 800x800 with 1 Axes>"
      ]
     },
     "metadata": {},
     "output_type": "display_data"
    }
   ],
   "source": [
    "orig_paths = ten_to_orig_paths(flow_ten,full_TEN, G)\n",
    "cl = np.array(ox.plot.get_colors(len(orig_paths),cmap = \"tab20\",return_hex = True))\n",
    "fig, ax = ox.plot_graph_routes(G, orig_paths, edge_color = 'black', node_color = 'black',route_colors=cl, route_linewidth=3, node_size=20, show = False, close = False, route_alpha = 1)\n",
    "\n",
    "if fire_poly_mat[-1].geom_type == 'Polygon':\n",
    "    x,y = fire_poly_mat[-1].exterior.xy\n",
    "    ax.fill(x,y,'r', alpha = 0.5)\n",
    "else:\n",
    "    for geom in fire_poly_mat[-1].geoms:  \n",
    "        xs, ys = geom.exterior.xy    \n",
    "        ax.fill(xs, ys, alpha=0.5, fc='r', ec='none')\n",
    "\n",
    "\n",
    "ax.set_facecolor('white')\n",
    "# fig.patch.set_alpha(0)\n",
    "# plt.title('Street Network Lyons, Colorado')\n",
    "# plt.savefig('lyons_multi_example_w_fire.png')"
   ]
  },
  {
   "cell_type": "markdown",
   "id": "2a33b356-9501-484e-a69d-0330da5f6305",
   "metadata": {
    "jp-MarkdownHeadingCollapsed": true
   },
   "source": [
    "### Amador California"
   ]
  },
  {
   "cell_type": "code",
   "execution_count": 27,
   "id": "add59efa-21a1-4a90-8539-d21807f706be",
   "metadata": {},
   "outputs": [
    {
     "name": "stdout",
     "output_type": "stream",
     "text": [
      "Importing Network Complete\n",
      "Consolidation Complete\n",
      "Speed Added\n",
      "Travel Time Added\n",
      "Capacities Added\n",
      "Supply and Demand Values Added\n",
      "Time to Build Original Network:  7.675479888916016  seconds\n",
      "Feasability Check Completed: 0.0 seconds\n",
      "Longest Path Deteremined: 0.2403116226196289 seconds\n"
     ]
    },
    {
     "ename": "KeyboardInterrupt",
     "evalue": "",
     "output_type": "error",
     "traceback": [
      "\u001b[1;31m---------------------------------------------------------------------------\u001b[0m",
      "\u001b[1;31mKeyboardInterrupt\u001b[0m                         Traceback (most recent call last)",
      "Cell \u001b[1;32mIn[27], line 9\u001b[0m\n\u001b[0;32m      5\u001b[0m G_2 \u001b[38;5;241m=\u001b[39m construct_orig_graph(location_2,sup_dem_nodes_2)\n\u001b[0;32m      6\u001b[0m fire_origin_radii_2 \u001b[38;5;241m=\u001b[39m [(\u001b[38;5;241m38.584\u001b[39m, \u001b[38;5;241m-\u001b[39m\u001b[38;5;241m120.534\u001b[39m,\u001b[38;5;241m0.35\u001b[39m),(\u001b[38;5;241m38.32974\u001b[39m, \u001b[38;5;241m-\u001b[39m\u001b[38;5;241m120.70418\u001b[39m,\u001b[38;5;241m0.01\u001b[39m),(\u001b[38;5;241m38.334802\u001b[39m, \u001b[38;5;241m-\u001b[39m\u001b[38;5;241m120.665415\u001b[39m)]\n\u001b[1;32m----> 9\u001b[0m num_time_ints_2, max_flow_2, flow_dict_2, flow_ten_2, full_TEN_2,fire_poly_mat_2 \u001b[38;5;241m=\u001b[39m \u001b[43mdet_num_int\u001b[49m\u001b[43m(\u001b[49m\u001b[43mG_2\u001b[49m\u001b[43m,\u001b[49m\u001b[43m \u001b[49m\u001b[38;5;241;43m60\u001b[39;49m\u001b[43m,\u001b[49m\u001b[43m \u001b[49m\u001b[43mfire_origin_radii_2\u001b[49m\u001b[43m)\u001b[49m\n\u001b[0;32m     10\u001b[0m \u001b[38;5;28mprint\u001b[39m(\u001b[38;5;124m'\u001b[39m\u001b[38;5;124mNumber of Time Intervals:\u001b[39m\u001b[38;5;124m'\u001b[39m,num_time_ints_2)\n\u001b[0;32m     11\u001b[0m \u001b[38;5;28mprint\u001b[39m(\u001b[38;5;124m'\u001b[39m\u001b[38;5;124mFlow Value:\u001b[39m\u001b[38;5;124m'\u001b[39m, max_flow_2)\n",
      "Cell \u001b[1;32mIn[13], line 56\u001b[0m, in \u001b[0;36mdet_num_int\u001b[1;34m(G, pop, fire_orgin_radii)\u001b[0m\n\u001b[0;32m     50\u001b[0m unsafe \u001b[38;5;241m=\u001b[39m \u001b[38;5;28;01mFalse\u001b[39;00m\n\u001b[0;32m     52\u001b[0m \u001b[38;5;28;01mwhile\u001b[39;00m flow_value \u001b[38;5;241m<\u001b[39m pop:\n\u001b[0;32m     53\u001b[0m \u001b[38;5;66;03m# while num_time_ints < math.ceil(longest_time)+len(shortest_path)+3:\u001b[39;00m\n\u001b[0;32m     54\u001b[0m     \u001b[38;5;66;03m# print('number prev ten nodes: ',len(prev_ten.nodes))\u001b[39;00m\n\u001b[1;32m---> 56\u001b[0m     rmvd_nodes_mat,fire_poly_mat,G_fire \u001b[38;5;241m=\u001b[39m \u001b[43mcreate_fire_mat\u001b[49m\u001b[43m(\u001b[49m\u001b[43mG\u001b[49m\u001b[43m,\u001b[49m\u001b[43m \u001b[49m\u001b[43mfire_origin_radii\u001b[49m\u001b[43m,\u001b[49m\u001b[43mnum_time_ints\u001b[49m\u001b[43m,\u001b[49m\u001b[43m \u001b[49m\u001b[43mremoved_nodes_mat\u001b[49m\u001b[43m,\u001b[49m\u001b[43mfire_polygon_mat\u001b[49m\u001b[43m)\u001b[49m\n\u001b[0;32m     57\u001b[0m     intersection \u001b[38;5;241m=\u001b[39m \u001b[38;5;28mset\u001b[39m(sup_nodes)\u001b[38;5;241m.\u001b[39mintersection(\u001b[38;5;28mset\u001b[39m(rmvd_nodes_mat[\u001b[38;5;241m0\u001b[39m]))\n\u001b[0;32m     58\u001b[0m     \u001b[38;5;28;01mif\u001b[39;00m \u001b[38;5;28mlen\u001b[39m(intersection) \u001b[38;5;241m!=\u001b[39m\u001b[38;5;241m0\u001b[39m:\n",
      "Cell \u001b[1;32mIn[11], line 21\u001b[0m, in \u001b[0;36mcreate_fire_mat\u001b[1;34m(G, fire_origins_radii, time_horizon, removed_node_mat, fire_polygon_mat)\u001b[0m\n\u001b[0;32m     18\u001b[0m     fire_polys\u001b[38;5;241m.\u001b[39mappend(fire_poly_piece)\n\u001b[0;32m     20\u001b[0m fire_polygon \u001b[38;5;241m=\u001b[39m unary_union(fire_polys)                                     \n\u001b[1;32m---> 21\u001b[0m nodes_removed, G \u001b[38;5;241m=\u001b[39m \u001b[43mdist_to_fire\u001b[49m\u001b[43m(\u001b[49m\u001b[43mG\u001b[49m\u001b[43m,\u001b[49m\u001b[43m \u001b[49m\u001b[43mfire_polygon\u001b[49m\u001b[43m)\u001b[49m\n\u001b[0;32m     23\u001b[0m fire_polygon_mat\u001b[38;5;241m.\u001b[39mappend(fire_polygon)\n\u001b[0;32m     24\u001b[0m removed_node_mat\u001b[38;5;241m.\u001b[39mappend(nodes_removed)\n",
      "Cell \u001b[1;32mIn[10], line 20\u001b[0m, in \u001b[0;36mdist_to_fire\u001b[1;34m(G, fire_polygon, **kwargs)\u001b[0m\n\u001b[0;32m     18\u001b[0m dist \u001b[38;5;241m=\u001b[39m entry[\u001b[38;5;124m'\u001b[39m\u001b[38;5;124mgeometry\u001b[39m\u001b[38;5;124m'\u001b[39m]\u001b[38;5;241m.\u001b[39mdistance(fire_polygon)\n\u001b[0;32m     19\u001b[0m \u001b[38;5;66;03m# print(dist)\u001b[39;00m\n\u001b[1;32m---> 20\u001b[0m entry \u001b[38;5;241m=\u001b[39m \u001b[43mgs_edges\u001b[49m\u001b[38;5;241;43m.\u001b[39;49m\u001b[43miloc\u001b[49m\u001b[43m[\u001b[49m\u001b[43m[\u001b[49m\u001b[43mi\u001b[49m\u001b[43m]\u001b[49m\u001b[43m]\u001b[49m\n\u001b[0;32m     21\u001b[0m edge \u001b[38;5;241m=\u001b[39m entry[\u001b[38;5;124m'\u001b[39m\u001b[38;5;124mgeometry\u001b[39m\u001b[38;5;124m'\u001b[39m]\u001b[38;5;241m.\u001b[39mindex[\u001b[38;5;241m0\u001b[39m]\n\u001b[0;32m     22\u001b[0m \u001b[38;5;28;01mif\u001b[39;00m G\u001b[38;5;241m.\u001b[39mis_multigraph():\n",
      "File \u001b[1;32m~\\AppData\\Local\\Programs\\Python\\Python311\\Lib\\site-packages\\pandas\\core\\indexing.py:1153\u001b[0m, in \u001b[0;36m_LocationIndexer.__getitem__\u001b[1;34m(self, key)\u001b[0m\n\u001b[0;32m   1150\u001b[0m axis \u001b[38;5;241m=\u001b[39m \u001b[38;5;28mself\u001b[39m\u001b[38;5;241m.\u001b[39maxis \u001b[38;5;129;01mor\u001b[39;00m \u001b[38;5;241m0\u001b[39m\n\u001b[0;32m   1152\u001b[0m maybe_callable \u001b[38;5;241m=\u001b[39m com\u001b[38;5;241m.\u001b[39mapply_if_callable(key, \u001b[38;5;28mself\u001b[39m\u001b[38;5;241m.\u001b[39mobj)\n\u001b[1;32m-> 1153\u001b[0m \u001b[38;5;28;01mreturn\u001b[39;00m \u001b[38;5;28;43mself\u001b[39;49m\u001b[38;5;241;43m.\u001b[39;49m\u001b[43m_getitem_axis\u001b[49m\u001b[43m(\u001b[49m\u001b[43mmaybe_callable\u001b[49m\u001b[43m,\u001b[49m\u001b[43m \u001b[49m\u001b[43maxis\u001b[49m\u001b[38;5;241;43m=\u001b[39;49m\u001b[43maxis\u001b[49m\u001b[43m)\u001b[49m\n",
      "File \u001b[1;32m~\\AppData\\Local\\Programs\\Python\\Python311\\Lib\\site-packages\\pandas\\core\\indexing.py:1705\u001b[0m, in \u001b[0;36m_iLocIndexer._getitem_axis\u001b[1;34m(self, key, axis)\u001b[0m\n\u001b[0;32m   1703\u001b[0m \u001b[38;5;66;03m# a list of integers\u001b[39;00m\n\u001b[0;32m   1704\u001b[0m \u001b[38;5;28;01melif\u001b[39;00m is_list_like_indexer(key):\n\u001b[1;32m-> 1705\u001b[0m     \u001b[38;5;28;01mreturn\u001b[39;00m \u001b[38;5;28;43mself\u001b[39;49m\u001b[38;5;241;43m.\u001b[39;49m\u001b[43m_get_list_axis\u001b[49m\u001b[43m(\u001b[49m\u001b[43mkey\u001b[49m\u001b[43m,\u001b[49m\u001b[43m \u001b[49m\u001b[43maxis\u001b[49m\u001b[38;5;241;43m=\u001b[39;49m\u001b[43maxis\u001b[49m\u001b[43m)\u001b[49m\n\u001b[0;32m   1707\u001b[0m \u001b[38;5;66;03m# a single integer\u001b[39;00m\n\u001b[0;32m   1708\u001b[0m \u001b[38;5;28;01melse\u001b[39;00m:\n\u001b[0;32m   1709\u001b[0m     key \u001b[38;5;241m=\u001b[39m item_from_zerodim(key)\n",
      "File \u001b[1;32m~\\AppData\\Local\\Programs\\Python\\Python311\\Lib\\site-packages\\pandas\\core\\indexing.py:1676\u001b[0m, in \u001b[0;36m_iLocIndexer._get_list_axis\u001b[1;34m(self, key, axis)\u001b[0m\n\u001b[0;32m   1659\u001b[0m \u001b[38;5;250m\u001b[39m\u001b[38;5;124;03m\"\"\"\u001b[39;00m\n\u001b[0;32m   1660\u001b[0m \u001b[38;5;124;03mReturn Series values by list or array of integers.\u001b[39;00m\n\u001b[0;32m   1661\u001b[0m \n\u001b[1;32m   (...)\u001b[0m\n\u001b[0;32m   1673\u001b[0m \u001b[38;5;124;03m`axis` can only be zero.\u001b[39;00m\n\u001b[0;32m   1674\u001b[0m \u001b[38;5;124;03m\"\"\"\u001b[39;00m\n\u001b[0;32m   1675\u001b[0m \u001b[38;5;28;01mtry\u001b[39;00m:\n\u001b[1;32m-> 1676\u001b[0m     \u001b[38;5;28;01mreturn\u001b[39;00m \u001b[38;5;28;43mself\u001b[39;49m\u001b[38;5;241;43m.\u001b[39;49m\u001b[43mobj\u001b[49m\u001b[38;5;241;43m.\u001b[39;49m\u001b[43m_take_with_is_copy\u001b[49m\u001b[43m(\u001b[49m\u001b[43mkey\u001b[49m\u001b[43m,\u001b[49m\u001b[43m \u001b[49m\u001b[43maxis\u001b[49m\u001b[38;5;241;43m=\u001b[39;49m\u001b[43maxis\u001b[49m\u001b[43m)\u001b[49m\n\u001b[0;32m   1677\u001b[0m \u001b[38;5;28;01mexcept\u001b[39;00m \u001b[38;5;167;01mIndexError\u001b[39;00m \u001b[38;5;28;01mas\u001b[39;00m err:\n\u001b[0;32m   1678\u001b[0m     \u001b[38;5;66;03m# re-raise with different error message, e.g. test_getitem_ndarray_3d\u001b[39;00m\n\u001b[0;32m   1679\u001b[0m     \u001b[38;5;28;01mraise\u001b[39;00m \u001b[38;5;167;01mIndexError\u001b[39;00m(\u001b[38;5;124m\"\u001b[39m\u001b[38;5;124mpositional indexers are out-of-bounds\u001b[39m\u001b[38;5;124m\"\u001b[39m) \u001b[38;5;28;01mfrom\u001b[39;00m \u001b[38;5;21;01merr\u001b[39;00m\n",
      "File \u001b[1;32m~\\AppData\\Local\\Programs\\Python\\Python311\\Lib\\site-packages\\pandas\\core\\generic.py:4088\u001b[0m, in \u001b[0;36mNDFrame._take_with_is_copy\u001b[1;34m(self, indices, axis)\u001b[0m\n\u001b[0;32m   4077\u001b[0m \u001b[38;5;129m@final\u001b[39m\n\u001b[0;32m   4078\u001b[0m \u001b[38;5;28;01mdef\u001b[39;00m \u001b[38;5;21m_take_with_is_copy\u001b[39m(\u001b[38;5;28mself\u001b[39m, indices, axis: Axis \u001b[38;5;241m=\u001b[39m \u001b[38;5;241m0\u001b[39m) \u001b[38;5;241m-\u001b[39m\u001b[38;5;241m>\u001b[39m Self:\n\u001b[0;32m   4079\u001b[0m \u001b[38;5;250m    \u001b[39m\u001b[38;5;124;03m\"\"\"\u001b[39;00m\n\u001b[0;32m   4080\u001b[0m \u001b[38;5;124;03m    Internal version of the `take` method that sets the `_is_copy`\u001b[39;00m\n\u001b[0;32m   4081\u001b[0m \u001b[38;5;124;03m    attribute to keep track of the parent dataframe (using in indexing\u001b[39;00m\n\u001b[1;32m   (...)\u001b[0m\n\u001b[0;32m   4086\u001b[0m \u001b[38;5;124;03m    See the docstring of `take` for full explanation of the parameters.\u001b[39;00m\n\u001b[0;32m   4087\u001b[0m \u001b[38;5;124;03m    \"\"\"\u001b[39;00m\n\u001b[1;32m-> 4088\u001b[0m     result \u001b[38;5;241m=\u001b[39m \u001b[38;5;28;43mself\u001b[39;49m\u001b[38;5;241;43m.\u001b[39;49m\u001b[43mtake\u001b[49m\u001b[43m(\u001b[49m\u001b[43mindices\u001b[49m\u001b[38;5;241;43m=\u001b[39;49m\u001b[43mindices\u001b[49m\u001b[43m,\u001b[49m\u001b[43m \u001b[49m\u001b[43maxis\u001b[49m\u001b[38;5;241;43m=\u001b[39;49m\u001b[43maxis\u001b[49m\u001b[43m)\u001b[49m\n\u001b[0;32m   4089\u001b[0m     \u001b[38;5;66;03m# Maybe set copy if we didn't actually change the index.\u001b[39;00m\n\u001b[0;32m   4090\u001b[0m     \u001b[38;5;28;01mif\u001b[39;00m \u001b[38;5;28mself\u001b[39m\u001b[38;5;241m.\u001b[39mndim \u001b[38;5;241m==\u001b[39m \u001b[38;5;241m2\u001b[39m \u001b[38;5;129;01mand\u001b[39;00m \u001b[38;5;129;01mnot\u001b[39;00m result\u001b[38;5;241m.\u001b[39m_get_axis(axis)\u001b[38;5;241m.\u001b[39mequals(\u001b[38;5;28mself\u001b[39m\u001b[38;5;241m.\u001b[39m_get_axis(axis)):\n",
      "File \u001b[1;32m~\\AppData\\Local\\Programs\\Python\\Python311\\Lib\\site-packages\\pandas\\core\\generic.py:4073\u001b[0m, in \u001b[0;36mNDFrame.take\u001b[1;34m(self, indices, axis, **kwargs)\u001b[0m\n\u001b[0;32m   4064\u001b[0m     indices \u001b[38;5;241m=\u001b[39m np\u001b[38;5;241m.\u001b[39marange(\n\u001b[0;32m   4065\u001b[0m         indices\u001b[38;5;241m.\u001b[39mstart, indices\u001b[38;5;241m.\u001b[39mstop, indices\u001b[38;5;241m.\u001b[39mstep, dtype\u001b[38;5;241m=\u001b[39mnp\u001b[38;5;241m.\u001b[39mintp\n\u001b[0;32m   4066\u001b[0m     )\n\u001b[0;32m   4068\u001b[0m new_data \u001b[38;5;241m=\u001b[39m \u001b[38;5;28mself\u001b[39m\u001b[38;5;241m.\u001b[39m_mgr\u001b[38;5;241m.\u001b[39mtake(\n\u001b[0;32m   4069\u001b[0m     indices,\n\u001b[0;32m   4070\u001b[0m     axis\u001b[38;5;241m=\u001b[39m\u001b[38;5;28mself\u001b[39m\u001b[38;5;241m.\u001b[39m_get_block_manager_axis(axis),\n\u001b[0;32m   4071\u001b[0m     verify\u001b[38;5;241m=\u001b[39m\u001b[38;5;28;01mTrue\u001b[39;00m,\n\u001b[0;32m   4072\u001b[0m )\n\u001b[1;32m-> 4073\u001b[0m \u001b[38;5;28;01mreturn\u001b[39;00m \u001b[38;5;28;43mself\u001b[39;49m\u001b[38;5;241;43m.\u001b[39;49m\u001b[43m_constructor_from_mgr\u001b[49m\u001b[43m(\u001b[49m\u001b[43mnew_data\u001b[49m\u001b[43m,\u001b[49m\u001b[43m \u001b[49m\u001b[43maxes\u001b[49m\u001b[38;5;241;43m=\u001b[39;49m\u001b[43mnew_data\u001b[49m\u001b[38;5;241;43m.\u001b[39;49m\u001b[43maxes\u001b[49m\u001b[43m)\u001b[49m\u001b[38;5;241m.\u001b[39m__finalize__(\n\u001b[0;32m   4074\u001b[0m     \u001b[38;5;28mself\u001b[39m, method\u001b[38;5;241m=\u001b[39m\u001b[38;5;124m\"\u001b[39m\u001b[38;5;124mtake\u001b[39m\u001b[38;5;124m\"\u001b[39m\n\u001b[0;32m   4075\u001b[0m )\n",
      "File \u001b[1;32m~\\AppData\\Local\\Programs\\Python\\Python311\\Lib\\site-packages\\pandas\\core\\frame.py:647\u001b[0m, in \u001b[0;36mDataFrame._constructor_from_mgr\u001b[1;34m(self, mgr, axes)\u001b[0m\n\u001b[0;32m    645\u001b[0m \u001b[38;5;28;01melse\u001b[39;00m:\n\u001b[0;32m    646\u001b[0m     \u001b[38;5;28;01massert\u001b[39;00m axes \u001b[38;5;129;01mis\u001b[39;00m mgr\u001b[38;5;241m.\u001b[39maxes\n\u001b[1;32m--> 647\u001b[0m     \u001b[38;5;28;01mreturn\u001b[39;00m \u001b[38;5;28;43mself\u001b[39;49m\u001b[38;5;241;43m.\u001b[39;49m\u001b[43m_constructor\u001b[49m\u001b[43m(\u001b[49m\u001b[43mmgr\u001b[49m\u001b[43m)\u001b[49m\n",
      "File \u001b[1;32m~\\AppData\\Local\\Programs\\Python\\Python311\\Lib\\site-packages\\geopandas\\geodataframe.py:30\u001b[0m, in \u001b[0;36m_geodataframe_constructor_with_fallback\u001b[1;34m(*args, **kwargs)\u001b[0m\n\u001b[0;32m     24\u001b[0m \u001b[38;5;28;01mdef\u001b[39;00m \u001b[38;5;21m_geodataframe_constructor_with_fallback\u001b[39m(\u001b[38;5;241m*\u001b[39margs, \u001b[38;5;241m*\u001b[39m\u001b[38;5;241m*\u001b[39mkwargs):\n\u001b[0;32m     25\u001b[0m \u001b[38;5;250m    \u001b[39m\u001b[38;5;124;03m\"\"\"\u001b[39;00m\n\u001b[0;32m     26\u001b[0m \u001b[38;5;124;03m    A flexible constructor for GeoDataFrame._constructor, which falls back\u001b[39;00m\n\u001b[0;32m     27\u001b[0m \u001b[38;5;124;03m    to returning a DataFrame (if a certain operation does not preserve the\u001b[39;00m\n\u001b[0;32m     28\u001b[0m \u001b[38;5;124;03m    geometry column)\u001b[39;00m\n\u001b[0;32m     29\u001b[0m \u001b[38;5;124;03m    \"\"\"\u001b[39;00m\n\u001b[1;32m---> 30\u001b[0m     df \u001b[38;5;241m=\u001b[39m \u001b[43mGeoDataFrame\u001b[49m\u001b[43m(\u001b[49m\u001b[38;5;241;43m*\u001b[39;49m\u001b[43margs\u001b[49m\u001b[43m,\u001b[49m\u001b[43m \u001b[49m\u001b[38;5;241;43m*\u001b[39;49m\u001b[38;5;241;43m*\u001b[39;49m\u001b[43mkwargs\u001b[49m\u001b[43m)\u001b[49m\n\u001b[0;32m     31\u001b[0m     geometry_cols_mask \u001b[38;5;241m=\u001b[39m df\u001b[38;5;241m.\u001b[39mdtypes \u001b[38;5;241m==\u001b[39m \u001b[38;5;124m\"\u001b[39m\u001b[38;5;124mgeometry\u001b[39m\u001b[38;5;124m\"\u001b[39m\n\u001b[0;32m     32\u001b[0m     \u001b[38;5;28;01mif\u001b[39;00m \u001b[38;5;28mlen\u001b[39m(geometry_cols_mask) \u001b[38;5;241m==\u001b[39m \u001b[38;5;241m0\u001b[39m \u001b[38;5;129;01mor\u001b[39;00m geometry_cols_mask\u001b[38;5;241m.\u001b[39msum() \u001b[38;5;241m==\u001b[39m \u001b[38;5;241m0\u001b[39m:\n",
      "File \u001b[1;32m~\\AppData\\Local\\Programs\\Python\\Python311\\Lib\\site-packages\\geopandas\\geodataframe.py:192\u001b[0m, in \u001b[0;36mGeoDataFrame.__init__\u001b[1;34m(self, data, geometry, crs, *args, **kwargs)\u001b[0m\n\u001b[0;32m    184\u001b[0m     \u001b[38;5;28;01mif\u001b[39;00m (\n\u001b[0;32m    185\u001b[0m         \u001b[38;5;28mhasattr\u001b[39m(geometry, \u001b[38;5;124m\"\u001b[39m\u001b[38;5;124mcrs\u001b[39m\u001b[38;5;124m\"\u001b[39m)\n\u001b[0;32m    186\u001b[0m         \u001b[38;5;129;01mand\u001b[39;00m geometry\u001b[38;5;241m.\u001b[39mcrs\n\u001b[0;32m    187\u001b[0m         \u001b[38;5;129;01mand\u001b[39;00m crs\n\u001b[0;32m    188\u001b[0m         \u001b[38;5;129;01mand\u001b[39;00m \u001b[38;5;129;01mnot\u001b[39;00m geometry\u001b[38;5;241m.\u001b[39mcrs \u001b[38;5;241m==\u001b[39m crs\n\u001b[0;32m    189\u001b[0m     ):\n\u001b[0;32m    190\u001b[0m         \u001b[38;5;28;01mraise\u001b[39;00m \u001b[38;5;167;01mValueError\u001b[39;00m(crs_mismatch_error)\n\u001b[1;32m--> 192\u001b[0m     \u001b[38;5;28;43mself\u001b[39;49m\u001b[38;5;241;43m.\u001b[39;49m\u001b[43mset_geometry\u001b[49m\u001b[43m(\u001b[49m\u001b[43mgeometry\u001b[49m\u001b[43m,\u001b[49m\u001b[43m \u001b[49m\u001b[43minplace\u001b[49m\u001b[38;5;241;43m=\u001b[39;49m\u001b[38;5;28;43;01mTrue\u001b[39;49;00m\u001b[43m,\u001b[49m\u001b[43m \u001b[49m\u001b[43mcrs\u001b[49m\u001b[38;5;241;43m=\u001b[39;49m\u001b[43mcrs\u001b[49m\u001b[43m)\u001b[49m\n\u001b[0;32m    194\u001b[0m \u001b[38;5;28;01mif\u001b[39;00m geometry \u001b[38;5;129;01mis\u001b[39;00m \u001b[38;5;28;01mNone\u001b[39;00m \u001b[38;5;129;01mand\u001b[39;00m crs:\n\u001b[0;32m    195\u001b[0m     \u001b[38;5;28;01mraise\u001b[39;00m \u001b[38;5;167;01mValueError\u001b[39;00m(\n\u001b[0;32m    196\u001b[0m         \u001b[38;5;124m\"\u001b[39m\u001b[38;5;124mAssigning CRS to a GeoDataFrame without a geometry column is not \u001b[39m\u001b[38;5;124m\"\u001b[39m\n\u001b[0;32m    197\u001b[0m         \u001b[38;5;124m\"\u001b[39m\u001b[38;5;124msupported. Supply geometry using the \u001b[39m\u001b[38;5;124m'\u001b[39m\u001b[38;5;124mgeometry=\u001b[39m\u001b[38;5;124m'\u001b[39m\u001b[38;5;124m keyword argument, \u001b[39m\u001b[38;5;124m\"\u001b[39m\n\u001b[0;32m    198\u001b[0m         \u001b[38;5;124m\"\u001b[39m\u001b[38;5;124mor by providing a DataFrame with column name \u001b[39m\u001b[38;5;124m'\u001b[39m\u001b[38;5;124mgeometry\u001b[39m\u001b[38;5;124m'\u001b[39m\u001b[38;5;124m\"\u001b[39m,\n\u001b[0;32m    199\u001b[0m     )\n",
      "File \u001b[1;32m~\\AppData\\Local\\Programs\\Python\\Python311\\Lib\\site-packages\\geopandas\\geodataframe.py:321\u001b[0m, in \u001b[0;36mGeoDataFrame.set_geometry\u001b[1;34m(self, col, drop, inplace, crs)\u001b[0m\n\u001b[0;32m    319\u001b[0m \u001b[38;5;28;01melse\u001b[39;00m:\n\u001b[0;32m    320\u001b[0m     \u001b[38;5;28;01mtry\u001b[39;00m:\n\u001b[1;32m--> 321\u001b[0m         level \u001b[38;5;241m=\u001b[39m \u001b[43mframe\u001b[49m\u001b[43m[\u001b[49m\u001b[43mcol\u001b[49m\u001b[43m]\u001b[49m\n\u001b[0;32m    322\u001b[0m     \u001b[38;5;28;01mexcept\u001b[39;00m \u001b[38;5;167;01mKeyError\u001b[39;00m:\n\u001b[0;32m    323\u001b[0m         \u001b[38;5;28;01mraise\u001b[39;00m \u001b[38;5;167;01mValueError\u001b[39;00m(\u001b[38;5;124m\"\u001b[39m\u001b[38;5;124mUnknown column \u001b[39m\u001b[38;5;132;01m%s\u001b[39;00m\u001b[38;5;124m\"\u001b[39m \u001b[38;5;241m%\u001b[39m col)\n",
      "File \u001b[1;32m~\\AppData\\Local\\Programs\\Python\\Python311\\Lib\\site-packages\\geopandas\\geodataframe.py:1474\u001b[0m, in \u001b[0;36mGeoDataFrame.__getitem__\u001b[1;34m(self, key)\u001b[0m\n\u001b[0;32m   1468\u001b[0m \u001b[38;5;28;01mdef\u001b[39;00m \u001b[38;5;21m__getitem__\u001b[39m(\u001b[38;5;28mself\u001b[39m, key):\n\u001b[0;32m   1469\u001b[0m \u001b[38;5;250m    \u001b[39m\u001b[38;5;124;03m\"\"\"\u001b[39;00m\n\u001b[0;32m   1470\u001b[0m \u001b[38;5;124;03m    If the result is a column containing only 'geometry', return a\u001b[39;00m\n\u001b[0;32m   1471\u001b[0m \u001b[38;5;124;03m    GeoSeries. If it's a DataFrame with any columns of GeometryDtype,\u001b[39;00m\n\u001b[0;32m   1472\u001b[0m \u001b[38;5;124;03m    return a GeoDataFrame.\u001b[39;00m\n\u001b[0;32m   1473\u001b[0m \u001b[38;5;124;03m    \"\"\"\u001b[39;00m\n\u001b[1;32m-> 1474\u001b[0m     result \u001b[38;5;241m=\u001b[39m \u001b[38;5;28;43msuper\u001b[39;49m\u001b[43m(\u001b[49m\u001b[43m)\u001b[49m\u001b[38;5;241;43m.\u001b[39;49m\u001b[38;5;21;43m__getitem__\u001b[39;49m\u001b[43m(\u001b[49m\u001b[43mkey\u001b[49m\u001b[43m)\u001b[49m\n\u001b[0;32m   1475\u001b[0m     \u001b[38;5;66;03m# Custom logic to avoid waiting for pandas GH51895\u001b[39;00m\n\u001b[0;32m   1476\u001b[0m     \u001b[38;5;66;03m# result is not geometry dtype for multi-indexes\u001b[39;00m\n\u001b[0;32m   1477\u001b[0m     \u001b[38;5;28;01mif\u001b[39;00m (\n\u001b[0;32m   1478\u001b[0m         pd\u001b[38;5;241m.\u001b[39mapi\u001b[38;5;241m.\u001b[39mtypes\u001b[38;5;241m.\u001b[39mis_scalar(key)\n\u001b[0;32m   1479\u001b[0m         \u001b[38;5;129;01mand\u001b[39;00m key \u001b[38;5;241m==\u001b[39m \u001b[38;5;124m\"\u001b[39m\u001b[38;5;124m\"\u001b[39m\n\u001b[1;32m   (...)\u001b[0m\n\u001b[0;32m   1482\u001b[0m         \u001b[38;5;129;01mand\u001b[39;00m \u001b[38;5;129;01mnot\u001b[39;00m is_geometry_type(result)\n\u001b[0;32m   1483\u001b[0m     ):\n",
      "File \u001b[1;32m~\\AppData\\Local\\Programs\\Python\\Python311\\Lib\\site-packages\\pandas\\core\\frame.py:3869\u001b[0m, in \u001b[0;36mDataFrame.__getitem__\u001b[1;34m(self, key)\u001b[0m\n\u001b[0;32m   3862\u001b[0m \u001b[38;5;66;03m# GH#45316 Return view if key is not duplicated\u001b[39;00m\n\u001b[0;32m   3863\u001b[0m \u001b[38;5;66;03m# Only use drop_duplicates with duplicates for performance\u001b[39;00m\n\u001b[0;32m   3864\u001b[0m \u001b[38;5;28;01mif\u001b[39;00m \u001b[38;5;129;01mnot\u001b[39;00m is_mi \u001b[38;5;129;01mand\u001b[39;00m (\n\u001b[0;32m   3865\u001b[0m     \u001b[38;5;28mself\u001b[39m\u001b[38;5;241m.\u001b[39mcolumns\u001b[38;5;241m.\u001b[39mis_unique\n\u001b[0;32m   3866\u001b[0m     \u001b[38;5;129;01mand\u001b[39;00m key \u001b[38;5;129;01min\u001b[39;00m \u001b[38;5;28mself\u001b[39m\u001b[38;5;241m.\u001b[39mcolumns\n\u001b[0;32m   3867\u001b[0m     \u001b[38;5;129;01mor\u001b[39;00m key \u001b[38;5;129;01min\u001b[39;00m \u001b[38;5;28mself\u001b[39m\u001b[38;5;241m.\u001b[39mcolumns\u001b[38;5;241m.\u001b[39mdrop_duplicates(keep\u001b[38;5;241m=\u001b[39m\u001b[38;5;28;01mFalse\u001b[39;00m)\n\u001b[0;32m   3868\u001b[0m ):\n\u001b[1;32m-> 3869\u001b[0m     \u001b[38;5;28;01mreturn\u001b[39;00m \u001b[38;5;28;43mself\u001b[39;49m\u001b[38;5;241;43m.\u001b[39;49m\u001b[43m_get_item_cache\u001b[49m\u001b[43m(\u001b[49m\u001b[43mkey\u001b[49m\u001b[43m)\u001b[49m\n\u001b[0;32m   3871\u001b[0m \u001b[38;5;28;01melif\u001b[39;00m is_mi \u001b[38;5;129;01mand\u001b[39;00m \u001b[38;5;28mself\u001b[39m\u001b[38;5;241m.\u001b[39mcolumns\u001b[38;5;241m.\u001b[39mis_unique \u001b[38;5;129;01mand\u001b[39;00m key \u001b[38;5;129;01min\u001b[39;00m \u001b[38;5;28mself\u001b[39m\u001b[38;5;241m.\u001b[39mcolumns:\n\u001b[0;32m   3872\u001b[0m     \u001b[38;5;28;01mreturn\u001b[39;00m \u001b[38;5;28mself\u001b[39m\u001b[38;5;241m.\u001b[39m_getitem_multilevel(key)\n",
      "File \u001b[1;32m~\\AppData\\Local\\Programs\\Python\\Python311\\Lib\\site-packages\\pandas\\core\\frame.py:4415\u001b[0m, in \u001b[0;36mDataFrame._get_item_cache\u001b[1;34m(self, item)\u001b[0m\n\u001b[0;32m   4410\u001b[0m \u001b[38;5;28;01mif\u001b[39;00m res \u001b[38;5;129;01mis\u001b[39;00m \u001b[38;5;28;01mNone\u001b[39;00m:\n\u001b[0;32m   4411\u001b[0m     \u001b[38;5;66;03m# All places that call _get_item_cache have unique columns,\u001b[39;00m\n\u001b[0;32m   4412\u001b[0m     \u001b[38;5;66;03m#  pending resolution of GH#33047\u001b[39;00m\n\u001b[0;32m   4414\u001b[0m     loc \u001b[38;5;241m=\u001b[39m \u001b[38;5;28mself\u001b[39m\u001b[38;5;241m.\u001b[39mcolumns\u001b[38;5;241m.\u001b[39mget_loc(item)\n\u001b[1;32m-> 4415\u001b[0m     res \u001b[38;5;241m=\u001b[39m \u001b[38;5;28;43mself\u001b[39;49m\u001b[38;5;241;43m.\u001b[39;49m\u001b[43m_ixs\u001b[49m\u001b[43m(\u001b[49m\u001b[43mloc\u001b[49m\u001b[43m,\u001b[49m\u001b[43m \u001b[49m\u001b[43maxis\u001b[49m\u001b[38;5;241;43m=\u001b[39;49m\u001b[38;5;241;43m1\u001b[39;49m\u001b[43m)\u001b[49m\n\u001b[0;32m   4417\u001b[0m     cache[item] \u001b[38;5;241m=\u001b[39m res\n\u001b[0;32m   4419\u001b[0m     \u001b[38;5;66;03m# for a chain\u001b[39;00m\n",
      "File \u001b[1;32m~\\AppData\\Local\\Programs\\Python\\Python311\\Lib\\site-packages\\pandas\\core\\frame.py:3804\u001b[0m, in \u001b[0;36mDataFrame._ixs\u001b[1;34m(self, i, axis)\u001b[0m\n\u001b[0;32m   3801\u001b[0m label \u001b[38;5;241m=\u001b[39m \u001b[38;5;28mself\u001b[39m\u001b[38;5;241m.\u001b[39mcolumns[i]\n\u001b[0;32m   3803\u001b[0m col_mgr \u001b[38;5;241m=\u001b[39m \u001b[38;5;28mself\u001b[39m\u001b[38;5;241m.\u001b[39m_mgr\u001b[38;5;241m.\u001b[39miget(i)\n\u001b[1;32m-> 3804\u001b[0m result \u001b[38;5;241m=\u001b[39m \u001b[38;5;28;43mself\u001b[39;49m\u001b[38;5;241;43m.\u001b[39;49m\u001b[43m_box_col_values\u001b[49m\u001b[43m(\u001b[49m\u001b[43mcol_mgr\u001b[49m\u001b[43m,\u001b[49m\u001b[43m \u001b[49m\u001b[43mi\u001b[49m\u001b[43m)\u001b[49m\n\u001b[0;32m   3806\u001b[0m \u001b[38;5;66;03m# this is a cached value, mark it so\u001b[39;00m\n\u001b[0;32m   3807\u001b[0m result\u001b[38;5;241m.\u001b[39m_set_as_cached(label, \u001b[38;5;28mself\u001b[39m)\n",
      "File \u001b[1;32m~\\AppData\\Local\\Programs\\Python\\Python311\\Lib\\site-packages\\pandas\\core\\frame.py:4392\u001b[0m, in \u001b[0;36mDataFrame._box_col_values\u001b[1;34m(self, values, loc)\u001b[0m\n\u001b[0;32m   4390\u001b[0m name \u001b[38;5;241m=\u001b[39m \u001b[38;5;28mself\u001b[39m\u001b[38;5;241m.\u001b[39mcolumns[loc]\n\u001b[0;32m   4391\u001b[0m \u001b[38;5;66;03m# We get index=self.index bc values is a SingleDataManager\u001b[39;00m\n\u001b[1;32m-> 4392\u001b[0m obj \u001b[38;5;241m=\u001b[39m \u001b[38;5;28;43mself\u001b[39;49m\u001b[38;5;241;43m.\u001b[39;49m\u001b[43m_constructor_sliced_from_mgr\u001b[49m\u001b[43m(\u001b[49m\u001b[43mvalues\u001b[49m\u001b[43m,\u001b[49m\u001b[43m \u001b[49m\u001b[43maxes\u001b[49m\u001b[38;5;241;43m=\u001b[39;49m\u001b[43mvalues\u001b[49m\u001b[38;5;241;43m.\u001b[39;49m\u001b[43maxes\u001b[49m\u001b[43m)\u001b[49m\n\u001b[0;32m   4393\u001b[0m obj\u001b[38;5;241m.\u001b[39m_name \u001b[38;5;241m=\u001b[39m name\n\u001b[0;32m   4394\u001b[0m \u001b[38;5;28;01mreturn\u001b[39;00m obj\u001b[38;5;241m.\u001b[39m__finalize__(\u001b[38;5;28mself\u001b[39m)\n",
      "File \u001b[1;32m~\\AppData\\Local\\Programs\\Python\\Python311\\Lib\\site-packages\\pandas\\core\\frame.py:660\u001b[0m, in \u001b[0;36mDataFrame._constructor_sliced_from_mgr\u001b[1;34m(self, mgr, axes)\u001b[0m\n\u001b[0;32m    658\u001b[0m     \u001b[38;5;28;01mreturn\u001b[39;00m ser\n\u001b[0;32m    659\u001b[0m \u001b[38;5;28;01massert\u001b[39;00m axes \u001b[38;5;129;01mis\u001b[39;00m mgr\u001b[38;5;241m.\u001b[39maxes\n\u001b[1;32m--> 660\u001b[0m \u001b[38;5;28;01mreturn\u001b[39;00m \u001b[38;5;28;43mself\u001b[39;49m\u001b[38;5;241;43m.\u001b[39;49m\u001b[43m_constructor_sliced\u001b[49m\u001b[43m(\u001b[49m\u001b[43mmgr\u001b[49m\u001b[43m)\u001b[49m\n",
      "File \u001b[1;32m~\\AppData\\Local\\Programs\\Python\\Python311\\Lib\\site-packages\\geopandas\\geodataframe.py:1648\u001b[0m, in \u001b[0;36mGeoDataFrame._constructor_sliced.<locals>._geodataframe_constructor_sliced\u001b[1;34m(*args, **kwargs)\u001b[0m\n\u001b[0;32m   1646\u001b[0m is_row_proxy \u001b[38;5;241m=\u001b[39m srs\u001b[38;5;241m.\u001b[39mindex \u001b[38;5;129;01mis\u001b[39;00m \u001b[38;5;28mself\u001b[39m\u001b[38;5;241m.\u001b[39mcolumns\n\u001b[0;32m   1647\u001b[0m \u001b[38;5;28;01mif\u001b[39;00m is_geometry_type(srs) \u001b[38;5;129;01mand\u001b[39;00m \u001b[38;5;129;01mnot\u001b[39;00m is_row_proxy:\n\u001b[1;32m-> 1648\u001b[0m     srs \u001b[38;5;241m=\u001b[39m \u001b[43mGeoSeries\u001b[49m\u001b[43m(\u001b[49m\u001b[43msrs\u001b[49m\u001b[43m)\u001b[49m\n\u001b[0;32m   1649\u001b[0m \u001b[38;5;28;01mreturn\u001b[39;00m srs\n",
      "File \u001b[1;32m~\\AppData\\Local\\Programs\\Python\\Python311\\Lib\\site-packages\\geopandas\\geoseries.py:158\u001b[0m, in \u001b[0;36mGeoSeries.__init__\u001b[1;34m(self, data, index, crs, **kwargs)\u001b[0m\n\u001b[0;32m    157\u001b[0m \u001b[38;5;28;01mdef\u001b[39;00m \u001b[38;5;21m__init__\u001b[39m(\u001b[38;5;28mself\u001b[39m, data\u001b[38;5;241m=\u001b[39m\u001b[38;5;28;01mNone\u001b[39;00m, index\u001b[38;5;241m=\u001b[39m\u001b[38;5;28;01mNone\u001b[39;00m, crs: Optional[Any] \u001b[38;5;241m=\u001b[39m \u001b[38;5;28;01mNone\u001b[39;00m, \u001b[38;5;241m*\u001b[39m\u001b[38;5;241m*\u001b[39mkwargs):\n\u001b[1;32m--> 158\u001b[0m     \u001b[38;5;28;01mif\u001b[39;00m \u001b[38;5;28mhasattr\u001b[39m(data, \u001b[38;5;124m\"\u001b[39m\u001b[38;5;124mcrs\u001b[39m\u001b[38;5;124m\"\u001b[39m) \u001b[38;5;129;01mand\u001b[39;00m crs:\n\u001b[0;32m    159\u001b[0m         \u001b[38;5;28;01mif\u001b[39;00m \u001b[38;5;129;01mnot\u001b[39;00m data\u001b[38;5;241m.\u001b[39mcrs:\n\u001b[0;32m    160\u001b[0m             \u001b[38;5;66;03m# make a copy to avoid setting CRS to passed GeometryArray\u001b[39;00m\n\u001b[0;32m    161\u001b[0m             data \u001b[38;5;241m=\u001b[39m data\u001b[38;5;241m.\u001b[39mcopy()\n",
      "File \u001b[1;32m~\\AppData\\Local\\Programs\\Python\\Python311\\Lib\\site-packages\\pandas\\core\\generic.py:6201\u001b[0m, in \u001b[0;36mNDFrame.__getattr__\u001b[1;34m(self, name)\u001b[0m\n\u001b[0;32m   6191\u001b[0m \u001b[38;5;250m\u001b[39m\u001b[38;5;124;03m\"\"\"\u001b[39;00m\n\u001b[0;32m   6192\u001b[0m \u001b[38;5;124;03mAfter regular attribute access, try looking up the name\u001b[39;00m\n\u001b[0;32m   6193\u001b[0m \u001b[38;5;124;03mThis allows simpler access to columns for interactive use.\u001b[39;00m\n\u001b[0;32m   6194\u001b[0m \u001b[38;5;124;03m\"\"\"\u001b[39;00m\n\u001b[0;32m   6195\u001b[0m \u001b[38;5;66;03m# Note: obj.x will always call obj.__getattribute__('x') prior to\u001b[39;00m\n\u001b[0;32m   6196\u001b[0m \u001b[38;5;66;03m# calling obj.__getattr__('x').\u001b[39;00m\n\u001b[0;32m   6197\u001b[0m \u001b[38;5;28;01mif\u001b[39;00m (\n\u001b[0;32m   6198\u001b[0m     name \u001b[38;5;129;01mnot\u001b[39;00m \u001b[38;5;129;01min\u001b[39;00m \u001b[38;5;28mself\u001b[39m\u001b[38;5;241m.\u001b[39m_internal_names_set\n\u001b[0;32m   6199\u001b[0m     \u001b[38;5;129;01mand\u001b[39;00m name \u001b[38;5;129;01mnot\u001b[39;00m \u001b[38;5;129;01min\u001b[39;00m \u001b[38;5;28mself\u001b[39m\u001b[38;5;241m.\u001b[39m_metadata\n\u001b[0;32m   6200\u001b[0m     \u001b[38;5;129;01mand\u001b[39;00m name \u001b[38;5;129;01mnot\u001b[39;00m \u001b[38;5;129;01min\u001b[39;00m \u001b[38;5;28mself\u001b[39m\u001b[38;5;241m.\u001b[39m_accessors\n\u001b[1;32m-> 6201\u001b[0m     \u001b[38;5;129;01mand\u001b[39;00m \u001b[38;5;28;43mself\u001b[39;49m\u001b[38;5;241;43m.\u001b[39;49m\u001b[43m_info_axis\u001b[49m\u001b[38;5;241;43m.\u001b[39;49m\u001b[43m_can_hold_identifiers_and_holds_name\u001b[49m\u001b[43m(\u001b[49m\u001b[43mname\u001b[49m\u001b[43m)\u001b[49m\n\u001b[0;32m   6202\u001b[0m ):\n\u001b[0;32m   6203\u001b[0m     \u001b[38;5;28;01mreturn\u001b[39;00m \u001b[38;5;28mself\u001b[39m[name]\n\u001b[0;32m   6204\u001b[0m \u001b[38;5;28;01mreturn\u001b[39;00m \u001b[38;5;28mobject\u001b[39m\u001b[38;5;241m.\u001b[39m\u001b[38;5;21m__getattribute__\u001b[39m(\u001b[38;5;28mself\u001b[39m, name)\n",
      "File \u001b[1;32m~\\AppData\\Local\\Programs\\Python\\Python311\\Lib\\site-packages\\pandas\\core\\indexes\\base.py:5415\u001b[0m, in \u001b[0;36mIndex._can_hold_identifiers_and_holds_name\u001b[1;34m(self, name)\u001b[0m\n\u001b[0;32m   5404\u001b[0m \u001b[38;5;129m@final\u001b[39m\n\u001b[0;32m   5405\u001b[0m \u001b[38;5;28;01mdef\u001b[39;00m \u001b[38;5;21m_can_hold_identifiers_and_holds_name\u001b[39m(\u001b[38;5;28mself\u001b[39m, name) \u001b[38;5;241m-\u001b[39m\u001b[38;5;241m>\u001b[39m \u001b[38;5;28mbool\u001b[39m:\n\u001b[0;32m   5406\u001b[0m \u001b[38;5;250m    \u001b[39m\u001b[38;5;124;03m\"\"\"\u001b[39;00m\n\u001b[0;32m   5407\u001b[0m \u001b[38;5;124;03m    Faster check for ``name in self`` when we know `name` is a Python\u001b[39;00m\n\u001b[0;32m   5408\u001b[0m \u001b[38;5;124;03m    identifier (e.g. in NDFrame.__getattr__, which hits this to support\u001b[39;00m\n\u001b[1;32m   (...)\u001b[0m\n\u001b[0;32m   5412\u001b[0m \u001b[38;5;124;03m    https://github.com/pandas-dev/pandas/issues/19764\u001b[39;00m\n\u001b[0;32m   5413\u001b[0m \u001b[38;5;124;03m    \"\"\"\u001b[39;00m\n\u001b[0;32m   5414\u001b[0m     \u001b[38;5;28;01mif\u001b[39;00m (\n\u001b[1;32m-> 5415\u001b[0m         \u001b[43mis_object_dtype\u001b[49m\u001b[43m(\u001b[49m\u001b[38;5;28;43mself\u001b[39;49m\u001b[38;5;241;43m.\u001b[39;49m\u001b[43mdtype\u001b[49m\u001b[43m)\u001b[49m\n\u001b[0;32m   5416\u001b[0m         \u001b[38;5;129;01mor\u001b[39;00m is_string_dtype(\u001b[38;5;28mself\u001b[39m\u001b[38;5;241m.\u001b[39mdtype)\n\u001b[0;32m   5417\u001b[0m         \u001b[38;5;129;01mor\u001b[39;00m \u001b[38;5;28misinstance\u001b[39m(\u001b[38;5;28mself\u001b[39m\u001b[38;5;241m.\u001b[39mdtype, CategoricalDtype)\n\u001b[0;32m   5418\u001b[0m     ):\n\u001b[0;32m   5419\u001b[0m         \u001b[38;5;28;01mreturn\u001b[39;00m name \u001b[38;5;129;01min\u001b[39;00m \u001b[38;5;28mself\u001b[39m\n\u001b[0;32m   5420\u001b[0m     \u001b[38;5;28;01mreturn\u001b[39;00m \u001b[38;5;28;01mFalse\u001b[39;00m\n",
      "File \u001b[1;32m~\\AppData\\Local\\Programs\\Python\\Python311\\Lib\\site-packages\\pandas\\core\\dtypes\\common.py:165\u001b[0m, in \u001b[0;36mis_object_dtype\u001b[1;34m(arr_or_dtype)\u001b[0m\n\u001b[0;32m    137\u001b[0m \u001b[38;5;28;01mdef\u001b[39;00m \u001b[38;5;21mis_object_dtype\u001b[39m(arr_or_dtype) \u001b[38;5;241m-\u001b[39m\u001b[38;5;241m>\u001b[39m \u001b[38;5;28mbool\u001b[39m:\n\u001b[0;32m    138\u001b[0m \u001b[38;5;250m    \u001b[39m\u001b[38;5;124;03m\"\"\"\u001b[39;00m\n\u001b[0;32m    139\u001b[0m \u001b[38;5;124;03m    Check whether an array-like or dtype is of the object dtype.\u001b[39;00m\n\u001b[0;32m    140\u001b[0m \n\u001b[1;32m   (...)\u001b[0m\n\u001b[0;32m    163\u001b[0m \u001b[38;5;124;03m    False\u001b[39;00m\n\u001b[0;32m    164\u001b[0m \u001b[38;5;124;03m    \"\"\"\u001b[39;00m\n\u001b[1;32m--> 165\u001b[0m     \u001b[38;5;28;01mreturn\u001b[39;00m \u001b[43m_is_dtype_type\u001b[49m\u001b[43m(\u001b[49m\u001b[43marr_or_dtype\u001b[49m\u001b[43m,\u001b[49m\u001b[43m \u001b[49m\u001b[43mclasses\u001b[49m\u001b[43m(\u001b[49m\u001b[43mnp\u001b[49m\u001b[38;5;241;43m.\u001b[39;49m\u001b[43mobject_\u001b[49m\u001b[43m)\u001b[49m\u001b[43m)\u001b[49m\n",
      "File \u001b[1;32m~\\AppData\\Local\\Programs\\Python\\Python311\\Lib\\site-packages\\pandas\\core\\dtypes\\common.py:1444\u001b[0m, in \u001b[0;36m_is_dtype_type\u001b[1;34m(arr_or_dtype, condition)\u001b[0m\n\u001b[0;32m   1442\u001b[0m \u001b[38;5;66;03m# fastpath\u001b[39;00m\n\u001b[0;32m   1443\u001b[0m \u001b[38;5;28;01mif\u001b[39;00m \u001b[38;5;28misinstance\u001b[39m(arr_or_dtype, np\u001b[38;5;241m.\u001b[39mdtype):\n\u001b[1;32m-> 1444\u001b[0m     \u001b[38;5;28;01mreturn\u001b[39;00m \u001b[43mcondition\u001b[49m\u001b[43m(\u001b[49m\u001b[43marr_or_dtype\u001b[49m\u001b[38;5;241;43m.\u001b[39;49m\u001b[43mtype\u001b[49m\u001b[43m)\u001b[49m\n\u001b[0;32m   1445\u001b[0m \u001b[38;5;28;01melif\u001b[39;00m \u001b[38;5;28misinstance\u001b[39m(arr_or_dtype, \u001b[38;5;28mtype\u001b[39m):\n\u001b[0;32m   1446\u001b[0m     \u001b[38;5;28;01mif\u001b[39;00m \u001b[38;5;28missubclass\u001b[39m(arr_or_dtype, ExtensionDtype):\n",
      "File \u001b[1;32m~\\AppData\\Local\\Programs\\Python\\Python311\\Lib\\site-packages\\pandas\\core\\dtypes\\common.py:123\u001b[0m, in \u001b[0;36mclasses.<locals>.<lambda>\u001b[1;34m(tipo)\u001b[0m\n\u001b[0;32m    121\u001b[0m \u001b[38;5;28;01mdef\u001b[39;00m \u001b[38;5;21mclasses\u001b[39m(\u001b[38;5;241m*\u001b[39mklasses) \u001b[38;5;241m-\u001b[39m\u001b[38;5;241m>\u001b[39m Callable:\n\u001b[0;32m    122\u001b[0m \u001b[38;5;250m    \u001b[39m\u001b[38;5;124;03m\"\"\"Evaluate if the tipo is a subclass of the klasses.\"\"\"\u001b[39;00m\n\u001b[1;32m--> 123\u001b[0m     \u001b[38;5;28;01mreturn\u001b[39;00m \u001b[38;5;28;01mlambda\u001b[39;00m tipo: \u001b[38;5;28missubclass\u001b[39m(tipo, klasses)\n",
      "\u001b[1;31mKeyboardInterrupt\u001b[0m: "
     ]
    }
   ],
   "source": [
    "location_2 = 'Amador California'\n",
    "# location_2 = (121.02771, 38.217951, -120.072333, 38.709029)\n",
    "# location_2 = ox.geocode_to_gdf(\"Amador California\")\n",
    "sup_dem_nodes_2 = [(230,40),(255,40),(245,-30),(240,-50)]\n",
    "G_2 = construct_orig_graph(location_2,sup_dem_nodes_2)\n",
    "fire_origin_radii_2 = [(38.584, -120.534,0.35),(38.32974, -120.70418,0.01),(38.334802, -120.665415)]\n",
    "\n",
    "\n",
    "num_time_ints_2, max_flow_2, flow_dict_2, flow_ten_2, full_TEN_2,fire_poly_mat_2 = det_num_int(G_2, 60, fire_origin_radii_2)\n",
    "print('Number of Time Intervals:',num_time_ints_2)\n",
    "print('Flow Value:', max_flow_2)"
   ]
  },
  {
   "cell_type": "markdown",
   "id": "13227721-4195-4a66-9dc7-8a49e4823dcc",
   "metadata": {},
   "source": [
    "#### Plots"
   ]
  },
  {
   "cell_type": "code",
   "execution_count": null,
   "id": "db595efe-86d4-4f4a-94eb-b43d6c83171c",
   "metadata": {},
   "outputs": [],
   "source": [
    "colors_2=['blue' if y['sup_dem'] < 0 else 'red' if y['sup_dem'] > 0 else 'white' for x,y in G_2.nodes(data=True)]\n",
    "fig_2,ax_2 = ox.plot_graph(G_2,show = False, close = False,node_size = 5, node_color = colors_2)\n",
    "plt.show()"
   ]
  },
  {
   "cell_type": "code",
   "execution_count": null,
   "id": "bfa4f921-8c57-4eed-9b98-b7c2c1cbdf10",
   "metadata": {},
   "outputs": [],
   "source": [
    "# orig_paths_2 = ten_to_orig_paths(flow_ten_2,full_TEN_2, G_2)\n",
    "cl_2 = np.array(ox.plot.get_colors(len(orig_paths_2),cmap = \"tab20\",return_hex = True))\n",
    "fig_2, ax_2 = ox.plot_graph_routes(G_2, orig_paths_2, edge_color = 'black', node_color = 'black',route_colors=cl_2, route_linewidth=3, node_size=20, show = False, close = False, route_alpha = 1)\n",
    "\n",
    "if fire_poly_mat_2[-1].geom_type == 'Polygon':\n",
    "    x,y = fire_poly_mat_2[-1].exterior.xy\n",
    "    ax_2.fill(x,y,'r', alpha = 0.5)\n",
    "else:\n",
    "    for geom in fire_poly_mat_2[-1].geoms:  \n",
    "        xs, ys = geom.exterior.xy    \n",
    "        ax_2.fill(xs, ys, alpha=0.5, fc='r', ec='none')\n",
    "\n",
    "\n",
    "ax_2.set_facecolor('white')\n",
    "# fig.patch.set_alpha(0)\n",
    "# plt.title('Street Network Lyons, Colorado')\n",
    "# plt.savefig('lyons_multi_example_w_fire.png')"
   ]
  },
  {
   "cell_type": "markdown",
   "id": "154f13ab-a3b6-49b9-b40f-7215a0a3f94d",
   "metadata": {},
   "source": [
    "### Greece Example"
   ]
  },
  {
   "cell_type": "code",
   "execution_count": null,
   "id": "7bdb20d7-3a10-4a6c-94ee-50e598d6e22b",
   "metadata": {},
   "outputs": [
    {
     "name": "stdout",
     "output_type": "stream",
     "text": [
      "Importing Network Complete\n",
      "Consolidation Complete\n",
      "Speed Added\n",
      "Travel Time Added\n",
      "Capacities Added\n",
      "Supply and Demand Values Added\n",
      "Time to Build Original Network:  0.7563052177429199  seconds\n",
      "Feasability Check Completed: 0.0 seconds\n",
      "Longest Path Deteremined: 0.0 seconds\n"
     ]
    }
   ],
   "source": [
    "location_3 = ox.geocode_to_gdf(\"Alexandroupolis Greece\")\n",
    "sup_dem_nodes_3 = [(20,40),(30,40),(55,-30),(40,-50)]\n",
    "G_3 = construct_orig_graph(location_3,sup_dem_nodes_3)\n",
    "fire_origin_radii_3 = [(40.851355,25.875510,0.00001)]\n",
    "\n",
    "num_time_ints_3, max_flow_3, flow_dict_3, flow_ten_3,full_TEN_3,fire_poly_mat_3 = det_num_int(G_3,10, fire_origin_radii_3)\n",
    "print('Number of Time Intervals:',num_time_ints_3)\n",
    "print('Flow Value:', max_flow_3)"
   ]
  },
  {
   "cell_type": "markdown",
   "id": "34a62235-c05d-450f-aa30-7ccab7924e4a",
   "metadata": {},
   "source": [
    "#### Plots"
   ]
  },
  {
   "cell_type": "code",
   "execution_count": null,
   "id": "bf7d4a9a-aa49-4f50-b103-02880f6ce3f9",
   "metadata": {},
   "outputs": [],
   "source": [
    "colors_3=['blue' if y['sup_dem'] < 0 else 'red' if y['sup_dem'] > 0 else 'white' for x,y in G_3.nodes(data=True)]\n",
    "fig_3,ax_3 = ox.plot_graph(G_3,show = False, close = False,node_size = 20, node_color = colors_3)\n",
    "\n",
    "if fire_poly_mat_3[0].geom_type == 'Polygon':\n",
    "    x,y = fire_poly_mat_3[-1].exterior.xy\n",
    "    ax.fill(x,y,'#f1c232ff', alpha = 0.5)\n",
    "else:\n",
    "    for geom in fire_poly_mat_3[0].geoms:  \n",
    "        xs, ys = geom.exterior.xy    \n",
    "        ax.fill(xs, ys, alpha=0.5, fc='r', ec='none')\n",
    "        \n",
    "plt.show()"
   ]
  },
  {
   "cell_type": "code",
   "execution_count": null,
   "id": "a1fd3a33-07fb-466c-926b-b64b624c82b1",
   "metadata": {},
   "outputs": [],
   "source": [
    "orig_paths_3 = ten_to_orig_paths(flow_ten_3,full_TEN_3, G_3)\n",
    "cl_3 = np.array(ox.plot.get_colors(len(orig_paths_3),cmap = \"tab20\",return_hex = True))\n",
    "fig_3, ax_3 = ox.plot_graph_routes(G_3, orig_paths_3, edge_color = 'black', node_color = 'black',route_colors=cl_3, route_linewidth=3, node_size=20, show = False, close = False, route_alpha = 1)\n",
    "\n",
    "if fire_poly_mat_3[-1].geom_type == 'Polygon':\n",
    "    x,y = fire_poly_mat_3[-1].exterior.xy\n",
    "    ax_3.fill(x,y,'r', alpha = 0.5)\n",
    "else:\n",
    "    for geom in fire_poly_mat_3[-1].geoms:  \n",
    "        xs, ys = geom.exterior.xy    \n",
    "        ax_3.fill(xs, ys, alpha=0.5, fc='r', ec='none')\n",
    "\n",
    "\n",
    "ax_3.set_facecolor('white')\n",
    "# fig.patch.set_alpha(0)\n",
    "# plt.title('Street Network Lyons, Colorado')\n",
    "# plt.savefig('greece_multi_example.png')"
   ]
  },
  {
   "cell_type": "markdown",
   "id": "8c58a6c6-30da-4dea-9f0f-37cc0c84a2e9",
   "metadata": {
    "jp-MarkdownHeadingCollapsed": true
   },
   "source": [
    "# Testing Junk"
   ]
  },
  {
   "cell_type": "markdown",
   "id": "18f096f4-46f3-491e-9fc7-f6fa218f5670",
   "metadata": {
    "jp-MarkdownHeadingCollapsed": true
   },
   "source": [
    "## Dual Simplex Testing"
   ]
  },
  {
   "cell_type": "code",
   "execution_count": null,
   "id": "191c45bd-df0f-4ec3-bbea-1765e2fd1172",
   "metadata": {},
   "outputs": [],
   "source": [
    "import numpy as np\n",
    "import scipy.sparse as sp\n",
    "import networkx as nx\n",
    "import gurobipy as gp\n",
    "\n",
    "# nodes = [1, 2, 3, 4, 5, 6]\n",
    "# edges = [[1, 2], [1, 3], [1, 5], [2, 3], [2, 4], [3, 4], [3, 5], [4, 6], [5, 6]]\n",
    "# capacities = [2,4,6,8,2,5,5,7,8]\n",
    "\n",
    "# capacities=np.array(capacities)\n",
    "# nodes=np.array(nodes)\n",
    "\n",
    "# G = nx.DiGraph()\n",
    "# G.add_nodes_from(nodes)\n",
    "# G.add_edges_from(edges)\n",
    "\n",
    "incidence_matrix = -nx.incidence_matrix(full_TEN_2, oriented=True) \n",
    "\n",
    "A=incidence_matrix.toarray()\n",
    "b=np.zeros((np.shape(A)[1],1))\n",
    "\n",
    "c=[]\n",
    "\n",
    "for i in range(len(full_TEN_2.edges)):\n",
    "    if edges[i][0]==1:\n",
    "        c.append(1)\n",
    "    else: \n",
    "        c.append(0)\n",
    "\n",
    "c=np.array(c)        \n",
    "x=capacities.transpose()\n",
    "    \n",
    "\n",
    "m=gp.model()\n",
    "\n",
    "m.setObjective(c@x,GRB.maximize)\n",
    "m.addConstr(A@x==b)\n",
    "m.addConstr(x>= 0)\n",
    "m.optimize()"
   ]
  },
  {
   "cell_type": "code",
   "execution_count": null,
   "id": "4af6d7f4-09f0-4107-b0a1-3206af156d43",
   "metadata": {},
   "outputs": [],
   "source": [
    "import cplex\n",
    "# import lpex3\n",
    "\n",
    "cpx = cplex.Cplex()\n",
    "cpx.read('Insert LP file here')  \n",
    "# use the dual simplex   \n",
    "cpx.parameters.lpmethod.set(cpx.parameters.lpmethod.values.dual)\n",
    "cpx.solve()\n"
   ]
  },
  {
   "cell_type": "code",
   "execution_count": null,
   "id": "13d00ce6-b15c-4e6e-b8c4-bfad3c88d133",
   "metadata": {},
   "outputs": [],
   "source": [
    "A  = nx.incidence_matrix(full_TEN, nodelist=None, edgelist=None, oriented=True, weight=None, dtype=None)"
   ]
  },
  {
   "cell_type": "code",
   "execution_count": null,
   "id": "00f3f7c4-6648-4dc5-bdb8-cd8bcb05f98d",
   "metadata": {},
   "outputs": [],
   "source": [
    "num_rows, num_cols = A.shape"
   ]
  },
  {
   "cell_type": "code",
   "execution_count": null,
   "id": "9a0fbac6-fe5c-47d8-b1e5-86a0c7a14b98",
   "metadata": {},
   "outputs": [],
   "source": [
    "B_u = np.identity(num_cols)\n",
    "print(B_u.shape)\n",
    "B_0 = -1*np.identity(num_cols)\n",
    "print(B_0.shape)\n",
    "B = np.concatenate([B_u,B_0], axis = 0)\n",
    "print(B.shape)\n",
    "\n",
    "# a = [[1,2,3],[4,5,6]]\n",
    "# b = [[7,8,9],[10,11,12],[13,14,15]]\n",
    "# ab = np.concatenate([a,b], axis = 0)\n",
    "# ab"
   ]
  },
  {
   "cell_type": "code",
   "execution_count": null,
   "id": "9c28642a-b7ea-464f-9c38-ff23b5dc6499",
   "metadata": {},
   "outputs": [],
   "source": [
    "edges = full_TEN.edges\n",
    "# for (i,j) in edges:\n",
    "#     if i == 0:\n",
    "#         print('source')\n",
    "caps = dict(zip(edges,[full_TEN[x][y]['upper'] for x,y in full_TEN.edges]))\n"
   ]
  },
  {
   "cell_type": "code",
   "execution_count": null,
   "id": "af1beefb-c763-4728-9bc7-4a9ef1a7d811",
   "metadata": {},
   "outputs": [],
   "source": [
    "import pyomo.environ as pyo\n",
    "solvername = 'glpk'\n",
    "solverpath_exe = 'C:\\\\Users\\\\DillW\\\\winglpk-4.65\\\\glpk-4.65\\\\w64\\\\glpsol'\n",
    "\n",
    "model = pyo.ConcreteModel()\n",
    "\n",
    "# ARCS = range(0,len(edges))\n",
    "NODES = range(0,max(full_TEN.nodes))\n",
    "ORIG_NODES = range(1,max(full_TEN.nodes)-1)\n",
    "\n",
    "model.x = pyo.Var(NODES, NODES, domain = pyo.NonNegativeReals)\n",
    "\n",
    "def up_cap_con(model,i):\n",
    "    return sum(model.x[i,j]  for j in NODES if (i,j) in edges) <= caps[i]\n",
    "\n",
    "def low_cap_con(model,i):\n",
    "    return sum(model.x[i,j] for j in NODES if (i,j) in edges) >= 0\n",
    "\n",
    "def fb_con(model,i):\n",
    "    return sum(model.x[j,i] for j in NODES if (j,i) in edges) - sum(model.x[i,j] for j in NODES if (i,j) in edges) == 0\n",
    "\n",
    "def obj_rule(model):\n",
    "    return sum(model.x[0,j] for j in NODES if (0,j) in edges)\n",
    "\n",
    "model.obj = pyo.Objective(rule = obj_rule, sense = pyo.maximize)\n",
    "model.up_cap = pyo.Constraint(NODES,rule = up_cap_con)\n",
    "model.low_cap = pyo.Constraint(NODES,rule = low_cap_con)\n",
    "model.flow = pyo.Constraint(ORIG_NODES,rule = fb_con)\n",
    "# model.color = pyo.Constraint(NODES,rule = cap_con)\n",
    "# model.slot = pyo.Constraint(NODES,rule = slot_con)\n",
    "\n",
    "result = pyo.SolverFactory(solvername,executable=solverpath_exe).solve(model)"
   ]
  },
  {
   "cell_type": "code",
   "execution_count": 58,
   "id": "1390ce36-d147-4ff6-a11c-71e82f2c5b3c",
   "metadata": {},
   "outputs": [
    {
     "data": {
      "image/png": "[encoded data removed]",
      "text/plain": [
       "<Figure size 800x800 with 1 Axes>"
      ]
     },
     "metadata": {},
     "output_type": "display_data"
    }
   ],
   "source": [
    "# colors_2=['red' if x in orig_paths[4] else 'white' for x,y in G.nodes(data=True)]\n",
    "# fig,ax = ox.plot_graph(G,show = False, close = False,node_size = 25, node_color = colors_2)\n",
    "# fig, ax = ox.plot_graph_route(G, orig_paths[2], route_color='y', route_linewidth=6, node_size=2, show = False, close = False)"
   ]
  }
 ],
 "metadata": {
  "kernelspec": {
   "display_name": "Python 3 (ipykernel)",
   "language": "python",
   "name": "python3"
  },
  "language_info": {
   "codemirror_mode": {
    "name": "ipython",
    "version": 3
   },
   "file_extension": ".py",
   "mimetype": "text/x-python",
   "name": "python",
   "nbconvert_exporter": "python",
   "pygments_lexer": "ipython3",
   "version": "3.11.5"
  }
 },
 "nbformat": 4,
 "nbformat_minor": 5
}
