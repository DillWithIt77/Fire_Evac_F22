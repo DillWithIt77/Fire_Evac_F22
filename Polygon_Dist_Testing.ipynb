{
 "cells": [
  {
   "cell_type": "markdown",
   "id": "81c715b3-13d1-4d28-a69a-c6b710d21713",
   "metadata": {},
   "source": [
    "# Fire Distance Testing on Lyons"
   ]
  },
  {
   "cell_type": "code",
   "execution_count": 1,
   "id": "150fe0e5-e716-4691-af6f-64b995bf09f5",
   "metadata": {},
   "outputs": [],
   "source": [
    "import evacnx as ex\n",
    "import osmnx as ox\n",
    "import matplotlib.pyplot as plt\n",
    "from shapely.geometry import Polygon\n",
    "import geopandas as gpd\n",
    "import contextily as cx\n",
    "import time\n",
    "\n",
    "import numpy as np\n",
    "import networkx as nx\n",
    "import math\n",
    "import time\n",
    "from scipy.interpolate import UnivariateSpline\n",
    "import osmnx as ox\n",
    "import matplotlib.pyplot as plt\n",
    "from pyproj import CRS, Transformer\n",
    "from shapely.geometry import Point\n",
    "from shapely.geometry import Polygon\n",
    "from shapely.geometry import LineString\n",
    "from shapely.geometry import MultiLineString\n",
    "from shapely.ops import transform\n",
    "from shapely.ops import unary_union\n",
    "from networkx.algorithms.flow import shortest_augmenting_path\n",
    "import geopandas as gpd\n",
    "import contextily as cx"
   ]
  },
  {
   "cell_type": "code",
   "execution_count": 2,
   "id": "f9ecc819-f525-4827-9232-6bfd368699b5",
   "metadata": {},
   "outputs": [],
   "source": [
    "location = 'Lyons Colorado'\n",
    "sup_dem_nodes = [(1,-4000),(30,4000),(4,-4000),(40,4000)]\n",
    "G = ex.construct_orig_graph(location,sup_dem_nodes)\n",
    "fire_origin_radii = (40.227381,-105.261359,0.05)"
   ]
  },
  {
   "cell_type": "code",
   "execution_count": 3,
   "id": "70445d89-5317-4f28-a4ec-c34bea4d045b",
   "metadata": {},
   "outputs": [],
   "source": [
    "def geodesic_point_buffer(graph, lat, lon, radius):\n",
    "    \"\"\"\n",
    "    Creates circles from given latitude, longitude, and radius\n",
    "    :param lat: latitude from original data\n",
    "    :param lon: longitude from original data\n",
    "    :param radius: radius from original data\n",
    "    \"\"\"\n",
    "    aeqd_proj = CRS.from_proj4(f\"+proj=aeqd +lat_0={lat} +lon_0={lon} +x_0=0 +y_0=0\")\n",
    "    tfmr = Transformer.from_proj(aeqd_proj, aeqd_proj.geodetic_crs)\n",
    "    buf = Point(0, 0).buffer(radius * 1609.34)  # distance in miles (converts from meters to miles)\n",
    "    circle = Polygon(transform(tfmr.transform, buf).exterior.coords[:])\n",
    "    net_trans = Transformer.from_crs(aeqd_proj.geodetic_crs, graph.graph['crs'])\n",
    "    proj_circ = Polygon(transform(net_trans.transform,circle).exterior.coords[:])\n",
    "    \n",
    "    return proj_circ"
   ]
  },
  {
   "cell_type": "code",
   "execution_count": 4,
   "id": "5a336407-05d7-480c-be97-af0f8087d342",
   "metadata": {},
   "outputs": [],
   "source": [
    "def dist_to_fire(G, fire_polygon, **kwargs):\n",
    "    smoke_polygon = kwargs.get('smoke_polygon',fire_polygon)\n",
    "    ###find nodes inside poly to remove\n",
    "    start_gs = time.process_time()\n",
    "    gs_nodes = ox.utils_graph.graph_to_gdfs(G,nodes = True,edges = False, node_geometry = True)[['geometry']]\n",
    "    gs_edges = ox.utils_graph.graph_to_gdfs(G,nodes = False, edges = True)[['geometry']]\n",
    "    end_gs = time.process_time()\n",
    "\n",
    "    nodes_removed = []\n",
    "    edge_dist = {}\n",
    "    start_to_remove = time.process_time()\n",
    "    for point in gs_nodes['geometry']:\n",
    "        if point.intersects(smoke_polygon):\n",
    "            node = ox.distance.nearest_nodes(G,point.x,point.y,return_dist=False)\n",
    "            nodes_removed.append(node)\n",
    "    for i in range(len(gs_edges)):\n",
    "        entry =  gs_edges.iloc[i]\n",
    "        dist = entry['geometry'].distance(fire_polygon)\n",
    "        entry = gs_edges.iloc[[i]]\n",
    "        edge = entry['geometry'].index[0]\n",
    "        if G.is_multigraph():\n",
    "            # G[edge[0]][edge[1]][edge[2]]['fire_dist'] = dist\n",
    "            edge_dist[(edge[0],edge[1],edge[2])] = dist\n",
    "        elif G.is_directed():\n",
    "            # G[edge[0]][edge[1]]['fire_dist'] = dist\n",
    "            edge_dist[(edge[0],edge[1])] = dist\n",
    "        else:\n",
    "            raise Exception(\"Must Input a DiGraph or MultiDiGraph\")\n",
    "    end_to_remove = time.process_time()\n",
    "\n",
    "    return (nodes_removed, edge_dist)"
   ]
  },
  {
   "cell_type": "code",
   "execution_count": 5,
   "id": "b47d551c-0a42-40b1-b00c-c1ecfa9e7ad9",
   "metadata": {},
   "outputs": [],
   "source": [
    "def create_fire_mat(G, fire_origins_radii, time_horizon, removed_node_mat, edge_dist_mat, fire_polygon_mat,**kwargs):\n",
    "    removed_node_mat_copy = removed_node_mat.copy()\n",
    "    edge_dist_mat_copy = edge_dist_mat.copy()\n",
    "    fire_polygon_mat_copy = fire_polygon_mat.copy()\n",
    "    \n",
    "    start = time.time()\n",
    "    time_ints_done = kwargs.get('start_time_int',len(removed_node_mat))\n",
    "    shape = kwargs.get('shape', 'square')\n",
    "    \n",
    "\n",
    "    if shape == 'circle':\n",
    "        fire_lat = fire_origins_radii[0]\n",
    "        fire_long = fire_origins_radii[1]\n",
    "        init_radius = fire_origins_radii[2]\n",
    "        fire_polygon = geodesic_point_buffer(G,fire_lat,fire_long,init_radius)\n",
    "            \n",
    "    else:\n",
    "        # (,0.09),(,0.09),(,0.07)\n",
    "        coords = ((40.231862,-105.266485), (40.228941,-105.264405), (40.233535,-105.262882), (40.227381,-105.261359))\n",
    "        fire_polygon = Polygon(coords)\n",
    "        \n",
    "    for i in range(time_horizon):\n",
    "        nodes_removed, edge_distances = dist_to_fire(G, fire_polygon)\n",
    "\n",
    "        # fire_polygon_mat_copy.append(fire_polygon)\n",
    "        removed_node_mat_copy.append(nodes_removed)\n",
    "        edge_dist_mat_copy.append(edge_distances)\n",
    "        \n",
    "    end = time.time()\n",
    "    print(f\"Time to do Fire Poly for Time Horizon {time_horizon}: {end - start}\")\n",
    "    \n",
    "    return end - start"
   ]
  },
  {
   "cell_type": "code",
   "execution_count": 7,
   "id": "3168939e-d811-450e-860e-bc8ae396434a",
   "metadata": {},
   "outputs": [
    {
     "name": "stdout",
     "output_type": "stream",
     "text": [
      "Time to do Fire Poly for Time Horizon 100: 18.932679653167725\n",
      "Time to do Fire Poly for Time Horizon 100: 18.9295814037323\n",
      "Time to do Fire Poly for Time Horizon 100: 18.997164726257324\n",
      "Time to do Fire Poly for Time Horizon 100: 19.08865976333618\n",
      "Time to do Fire Poly for Time Horizon 100: 19.093363285064697\n",
      "Time to do Fire Poly for Time Horizon 100: 18.987788915634155\n",
      "Time to do Fire Poly for Time Horizon 100: 18.929175853729248\n",
      "Time to do Fire Poly for Time Horizon 100: 19.180400609970093\n",
      "Time to do Fire Poly for Time Horizon 100: 19.10226273536682\n",
      "Time to do Fire Poly for Time Horizon 100: 18.97879385948181\n",
      "Time to do Fire Poly for Time Horizon 100: 19.005411863327026\n",
      "Time to do Fire Poly for Time Horizon 100: 18.915698528289795\n",
      "Time to do Fire Poly for Time Horizon 100: 19.020750045776367\n",
      "Time to do Fire Poly for Time Horizon 100: 18.921380281448364\n",
      "Time to do Fire Poly for Time Horizon 100: 18.873543739318848\n",
      "Time to do Fire Poly for Time Horizon 100: 18.90126085281372\n",
      "Time to do Fire Poly for Time Horizon 100: 18.982836484909058\n",
      "Time to do Fire Poly for Time Horizon 100: 18.864738941192627\n",
      "Time to do Fire Poly for Time Horizon 100: 19.115983486175537\n",
      "Time to do Fire Poly for Time Horizon 100: 18.843719244003296\n",
      "18.98325971364975\n"
     ]
    }
   ],
   "source": [
    "times = []\n",
    "for i in range(0,20):\n",
    "    num_time_ints = 100\n",
    "    rmvd_nodes_mat = []\n",
    "    edge_dist_mat = []\n",
    "    fire_polygon_mat = []\n",
    "    comp_time = create_fire_mat(G, fire_origin_radii, num_time_ints, rmvd_nodes_mat, edge_dist_mat, fire_polygon_mat,shape = 'circle')\n",
    "    times.append(comp_time)\n",
    "times_np = np.array(times)\n",
    "average = np.mean(times_np)\n",
    "print(average)"
   ]
  },
  {
   "cell_type": "code",
   "execution_count": 8,
   "id": "984fa919-5584-46fd-95bf-f066727eaa55",
   "metadata": {},
   "outputs": [
    {
     "name": "stdout",
     "output_type": "stream",
     "text": [
      "Time to do Fire Poly for Time Horizon 100: 19.667536735534668\n",
      "Time to do Fire Poly for Time Horizon 100: 19.90530300140381\n",
      "Time to do Fire Poly for Time Horizon 100: 19.128070831298828\n",
      "Time to do Fire Poly for Time Horizon 100: 23.25837755203247\n",
      "Time to do Fire Poly for Time Horizon 100: 21.217743635177612\n",
      "Time to do Fire Poly for Time Horizon 100: 19.15635585784912\n",
      "Time to do Fire Poly for Time Horizon 100: 18.758914709091187\n",
      "Time to do Fire Poly for Time Horizon 100: 18.60014772415161\n",
      "Time to do Fire Poly for Time Horizon 100: 18.611605644226074\n",
      "Time to do Fire Poly for Time Horizon 100: 18.68834090232849\n",
      "Time to do Fire Poly for Time Horizon 100: 18.722384691238403\n",
      "Time to do Fire Poly for Time Horizon 100: 18.72345495223999\n",
      "Time to do Fire Poly for Time Horizon 100: 18.70154881477356\n",
      "Time to do Fire Poly for Time Horizon 100: 18.69614839553833\n",
      "Time to do Fire Poly for Time Horizon 100: 18.807191848754883\n",
      "Time to do Fire Poly for Time Horizon 100: 18.685792684555054\n",
      "Time to do Fire Poly for Time Horizon 100: 18.648345232009888\n",
      "Time to do Fire Poly for Time Horizon 100: 18.870104551315308\n",
      "Time to do Fire Poly for Time Horizon 100: 18.659854888916016\n",
      "Time to do Fire Poly for Time Horizon 100: 18.67884612083435\n",
      "19.209303438663483\n"
     ]
    }
   ],
   "source": [
    "times = []\n",
    "for i in range(0,20):\n",
    "    num_time_ints = 100\n",
    "    rmvd_nodes_mat = []\n",
    "    edge_dist_mat = []\n",
    "    fire_polygon_mat = []\n",
    "    comp_time = create_fire_mat(G, fire_origin_radii, num_time_ints, rmvd_nodes_mat, edge_dist_mat, fire_polygon_mat)\n",
    "    times.append(comp_time)\n",
    "times_np = np.array(times)\n",
    "average = np.mean(times_np)\n",
    "print(average)"
   ]
  }
 ],
 "metadata": {
  "kernelspec": {
   "display_name": "Python 3 (ipykernel)",
   "language": "python",
   "name": "python3"
  },
  "language_info": {
   "codemirror_mode": {
    "name": "ipython",
    "version": 3
   },
   "file_extension": ".py",
   "mimetype": "text/x-python",
   "name": "python",
   "nbconvert_exporter": "python",
   "pygments_lexer": "ipython3",
   "version": "3.11.5"
  }
 },
 "nbformat": 4,
 "nbformat_minor": 5
}
